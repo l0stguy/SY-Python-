{
 "cells": [
  {
   "cell_type": "markdown",
   "id": "adb98bdc-4061-4571-895c-94d8bcaf7681",
   "metadata": {},
   "source": [
    "functions in python"
   ]
  },
  {
   "cell_type": "markdown",
   "id": "64bab067-21fc-42d3-a680-85368af53d8e",
   "metadata": {},
   "source": [
    "A function is a block of code which only runs when it is called.\n",
    "\r\n",
    "You can pass data, known as parameters, into a functio.\r\n",
    "\r\n",
    "A function can return data as a result.\r\n",
    "\r\n",
    "Some Benefits of Using Functions\r\n",
    "\r\n",
    "Increase Code Readability \r\n",
    "Increase Code Reusability"
   ]
  },
  {
   "cell_type": "code",
   "execution_count": null,
   "id": "521f2794-e859-4b2b-b67d-25d47c489ae2",
   "metadata": {},
   "outputs": [],
   "source": [
    "Syntax of Python Function"
   ]
  },
  {
   "cell_type": "code",
   "execution_count": null,
   "id": "61f4a214-9861-4f6f-a230-09009ea795f5",
   "metadata": {},
   "outputs": [],
   "source": [
    "def name_of_function( parameters ):\n",
    "\"\"\"This is a docstring\"\"\"\n",
    "# code block"
   ]
  },
  {
   "cell_type": "code",
   "execution_count": null,
   "id": "0e2ed961-44bc-44c4-b603-39f195b71e8d",
   "metadata": {},
   "outputs": [],
   "source": [
    "User-Defined Function"
   ]
  },
  {
   "cell_type": "code",
   "execution_count": 13,
   "id": "aa88d7e1-6b75-4a39-95b8-c2397e8503c5",
   "metadata": {},
   "outputs": [
    {
     "name": "stdout",
     "output_type": "stream",
     "text": [
      "Hello John\n"
     ]
    }
   ],
   "source": [
    "def greet(name):\n",
    "    print(\"Hello\", name)\n",
    "\n",
    "# pass argument\n",
    "greet(\"John\")"
   ]
  },
  {
   "cell_type": "code",
   "execution_count": null,
   "id": "a78ac63f-a575-4039-8084-8ac1f9a36e40",
   "metadata": {},
   "outputs": [],
   "source": [
    "Function Arguments\n",
    "The following are the types of arguments that we can use to call a function:\n",
    "1. Default arguments\n",
    "2. Keyword arguments\n",
    "3. Required arguments\n",
    "4. Variable-length arguments"
   ]
  },
  {
   "cell_type": "code",
   "execution_count": null,
   "id": "e1f1e94f-e16d-484f-84f1-7058ac527063",
   "metadata": {},
   "outputs": [],
   "source": [
    "1. Default Arguments:\n",
    "Default arguments allow you to set a default value for a function parameter. \n",
    "This means that if the user doesn't provide a value for that argument, the default will be used automatically.\n",
    "\n",
    "Analogy: Imagine you run a coffee shop. The default size of a coffee is \"Medium,\" but customers can specify if they want a \"Small\" or \"Large.\""
   ]
  },
  {
   "cell_type": "code",
   "execution_count": 1,
   "id": "bc7cc7d9-4b6e-411b-b9bb-8209928d5328",
   "metadata": {},
   "outputs": [
    {
     "name": "stdout",
     "output_type": "stream",
     "text": [
      "You ordered a Medium coffee.\n",
      "You ordered a Large coffee.\n"
     ]
    }
   ],
   "source": [
    "def order_coffee(size=\"Medium\"):\n",
    "    print(f\"You ordered a {size} coffee.\")\n",
    "\n",
    "# Calling the function with and without an argument\n",
    "order_coffee()           # Default size is used\n",
    "order_coffee(\"Large\")     # Custom size is used\n"
   ]
  },
  {
   "cell_type": "code",
   "execution_count": null,
   "id": "bb0efd88-9d72-4c6a-a503-3ddc2de2cf95",
   "metadata": {},
   "outputs": [],
   "source": [
    "Key Point: If no value is provided, Python will use the default. If a value is provided, the default is overridden."
   ]
  },
  {
   "cell_type": "code",
   "execution_count": null,
   "id": "d76fdec6-0ff7-42b5-9ccc-2027cde60043",
   "metadata": {},
   "outputs": [],
   "source": [
    "2. Keyword Arguments:\n",
    "Keyword arguments allow you to pass arguments by name, not just by position.\n",
    "This makes the code more readable and allows you to specify only the arguments you want, in any order.\n",
    "\n",
    "Analogy: When ordering a sandwich, you can specify the bread, fillings, and extras.\n",
    "You don’t have to follow a strict order as long as you know what you're asking for."
   ]
  },
  {
   "cell_type": "code",
   "execution_count": 3,
   "id": "28c672e4-e4ce-4320-8f12-4ad391fd5fea",
   "metadata": {},
   "outputs": [
    {
     "name": "stdout",
     "output_type": "stream",
     "text": [
      "You ordered a sandwich with Wheat bread, Turkey filling, and Mayo sauce.\n",
      "You ordered a sandwich with White bread, Chicken filling, and Mustard sauce.\n"
     ]
    }
   ],
   "source": [
    "def make_sandwich(bread, filling, sauce):\n",
    "    print(f\"You ordered a sandwich with {bread} bread, {filling} filling, and {sauce} sauce.\")\n",
    "\n",
    "# Using keyword arguments\n",
    "make_sandwich(bread=\"Wheat\", filling=\"Turkey\", sauce=\"Mayo\")\n",
    "make_sandwich(filling=\"Chicken\", sauce=\"Mustard\", bread=\"White\")  # Different order works\n"
   ]
  },
  {
   "cell_type": "code",
   "execution_count": null,
   "id": "491c1d75-ba8d-4957-9422-471ea093a7d6",
   "metadata": {},
   "outputs": [],
   "source": [
    "Key Point: Keyword arguments make your function calls more readable, and you can pass them in any order."
   ]
  },
  {
   "cell_type": "code",
   "execution_count": null,
   "id": "f55143ab-359f-40fd-9b27-5e9a17c32eb1",
   "metadata": {},
   "outputs": [],
   "source": [
    "3. Required Arguments:\n",
    "Required arguments are arguments that must be provided when calling the function.\n",
    "If you don’t pass them, Python will raise an error because the function can’t work without that information.\n",
    "\n",
    "Analogy: Imagine ordering pizza without specifying the type.\n",
    "The pizza shop can't prepare your pizza unless you tell them what kind of pizza you want!"
   ]
  },
  {
   "cell_type": "code",
   "execution_count": 5,
   "id": "6d27ef35-cc39-42b2-80a2-0c7766b81ce0",
   "metadata": {},
   "outputs": [
    {
     "name": "stdout",
     "output_type": "stream",
     "text": [
      "Hello, Alice!\n"
     ]
    },
    {
     "ename": "TypeError",
     "evalue": "greet_person() missing 1 required positional argument: 'name'",
     "output_type": "error",
     "traceback": [
      "\u001b[1;31m---------------------------------------------------------------------------\u001b[0m",
      "\u001b[1;31mTypeError\u001b[0m                                 Traceback (most recent call last)",
      "Cell \u001b[1;32mIn[5], line 5\u001b[0m\n\u001b[0;32m      2\u001b[0m     \u001b[38;5;28mprint\u001b[39m(\u001b[38;5;124mf\u001b[39m\u001b[38;5;124m\"\u001b[39m\u001b[38;5;124mHello, \u001b[39m\u001b[38;5;132;01m{\u001b[39;00mname\u001b[38;5;132;01m}\u001b[39;00m\u001b[38;5;124m!\u001b[39m\u001b[38;5;124m\"\u001b[39m)\n\u001b[0;32m      4\u001b[0m greet_person(\u001b[38;5;124m\"\u001b[39m\u001b[38;5;124mAlice\u001b[39m\u001b[38;5;124m\"\u001b[39m)  \u001b[38;5;66;03m# Works fine\u001b[39;00m\n\u001b[1;32m----> 5\u001b[0m greet_person()\n",
      "\u001b[1;31mTypeError\u001b[0m: greet_person() missing 1 required positional argument: 'name'"
     ]
    }
   ],
   "source": [
    "def greet_person(name):\n",
    "    print(f\"Hello, {name}!\")\n",
    "\n",
    "greet_person(\"Alice\")  # Works fine\n",
    "greet_person()         # Will cause an error\n"
   ]
  },
  {
   "cell_type": "code",
   "execution_count": null,
   "id": "9b1d0e98-fba4-401d-8f94-e4a6c49e5f75",
   "metadata": {},
   "outputs": [],
   "source": [
    "Key Point: If a function has required arguments, you must provide them, or Python will throw an error."
   ]
  },
  {
   "cell_type": "code",
   "execution_count": null,
   "id": "fa2f089a-4df2-4bc0-a513-71a072ed39e7",
   "metadata": {},
   "outputs": [],
   "source": [
    "Understanding Variable-Length Arguments in Python\n",
    "Sometimes, we need functions that can handle different numbers of inputs.\n",
    "Think of it like ordering food.\n",
    "Sometimes you might order just one thing, other times you might order five different items.\n",
    "In programming, *args and **kwargs help us create flexible \"orders\" that can take in as many items as we want."
   ]
  },
  {
   "cell_type": "code",
   "execution_count": null,
   "id": "1f89e1da-4e5b-4f60-bfab-9c6f6226ce7d",
   "metadata": {},
   "outputs": [],
   "source": [
    "1. *args: Handling Multiple Positional Arguments\n",
    "Imagine you're ordering pizzas with your friends.\n",
    "Everyone may want to order different numbers of pizzas.\n",
    "You can use *args in Python to collect all the pizza orders, no matter how many."
   ]
  },
  {
   "cell_type": "code",
   "execution_count": 7,
   "id": "d4138403-0396-4dfa-9fb3-9a923c07e24c",
   "metadata": {},
   "outputs": [
    {
     "name": "stdout",
     "output_type": "stream",
     "text": [
      "You ordered these pizzas:\n",
      "Pepperoni\n",
      "Margherita\n",
      "BBQ Chicken\n"
     ]
    }
   ],
   "source": [
    "def order_pizzas(*pizzas):\n",
    "    print(\"You ordered these pizzas:\")\n",
    "    for pizza in pizzas:\n",
    "        print(pizza)\n",
    "\n",
    "order_pizzas(\"Pepperoni\", \"Margherita\", \"BBQ Chicken\")\n"
   ]
  },
  {
   "cell_type": "code",
   "execution_count": null,
   "id": "66645293-1513-498d-9d18-a39236dbd116",
   "metadata": {},
   "outputs": [],
   "source": [
    "Here, *pizzas allows you to list as many pizzas as you want.\n",
    "The function doesn't care if you want to order one or ten pizzas!"
   ]
  },
  {
   "cell_type": "code",
   "execution_count": null,
   "id": "051d02fe-d33b-4def-9d33-a3584d050a01",
   "metadata": {},
   "outputs": [],
   "source": [
    "2. **kwargs: Handling Named Inputs (Keyword Arguments)\n",
    "Now, let’s say you also want to specify details for each pizza, like the size, crust type, or extra toppings.\n",
    "This is where **kwargs comes in handy. Think of it as ordering pizzas with specific requests for each one."
   ]
  },
  {
   "cell_type": "code",
   "execution_count": 9,
   "id": "b0725af7-5e3e-4f15-a8f3-5e9a10ce34b8",
   "metadata": {},
   "outputs": [
    {
     "name": "stdout",
     "output_type": "stream",
     "text": [
      "Pepperoni: Large with extra cheese\n",
      "Margherita: Medium with thin crust\n"
     ]
    }
   ],
   "source": [
    "def order_with_details(**pizza_details):\n",
    "    for pizza, detail in pizza_details.items():\n",
    "        print(f\"{pizza}: {detail}\")\n",
    "\n",
    "order_with_details(Pepperoni=\"Large with extra cheese\", Margherita=\"Medium with thin crust\")\n"
   ]
  },
  {
   "cell_type": "code",
   "execution_count": null,
   "id": "e124c340-94fa-413a-822a-a293e9403ad1",
   "metadata": {},
   "outputs": [],
   "source": [
    "Here, **pizza_details allows you to specify any kind of detail about each pizza by using named inputs (like size, crust, etc.)."
   ]
  },
  {
   "cell_type": "code",
   "execution_count": null,
   "id": "038ce4f3-6011-4d48-9ae0-6e32b5a4ba2d",
   "metadata": {},
   "outputs": [],
   "source": [
    "Real-Life Application:\n",
    "think about functions like a \"shopping cart\" where you might add many items (*args) and specify different options for each item (**kwargs).\n",
    " This makes your code more adaptable to changing inputs, just like how a real-world system needs to handle different types of orders."
   ]
  },
  {
   "cell_type": "code",
   "execution_count": null,
   "id": "7fa98c27-dffe-4814-9440-59e1dfa89451",
   "metadata": {},
   "outputs": [],
   "source": [
    "Default Arguments: Use them when a function should have a fallback value if the user doesn’t provide one.\n",
    "Example: def order_coffee(size=\"Medium\")\n",
    "Keyword Arguments: Pass arguments by name, so the order doesn’t matter.\n",
    "Example: make_sandwich(filling=\"Turkey\", bread=\"White\")\n",
    "Required Arguments: Arguments that must be provided when the function is called.\n",
    "Example: greet_person(name)\n",
    "This structure helps you create flexible, readable, and user-friendly functions in Python!\n",
    "*args collects multiple positional arguments (like a list of items).\n",
    "**kwargs collects multiple keyword arguments (like item details)."
   ]
  }
 ],
 "metadata": {
  "kernelspec": {
   "display_name": "Python 3 (ipykernel)",
   "language": "python",
   "name": "python3"
  },
  "language_info": {
   "codemirror_mode": {
    "name": "ipython",
    "version": 3
   },
   "file_extension": ".py",
   "mimetype": "text/x-python",
   "name": "python",
   "nbconvert_exporter": "python",
   "pygments_lexer": "ipython3",
   "version": "3.12.4"
  }
 },
 "nbformat": 4,
 "nbformat_minor": 5
}
