{
 "cells": [
  {
   "cell_type": "markdown",
   "id": "adb98bdc-4061-4571-895c-94d8bcaf7681",
   "metadata": {},
   "source": [
    "functions in python"
   ]
  },
  {
   "cell_type": "markdown",
   "id": "64bab067-21fc-42d3-a680-85368af53d8e",
   "metadata": {},
   "source": [
    "A function is a block of code which only runs when it is called.\n",
    "\r\n",
    "You can pass data, known as parameters, into a functio.\r\n",
    "\r\n",
    "A function can return data as a result.\r\n",
    "\r\n",
    "Some Benefits of Using Functions\r\n",
    "\r\n",
    "Increase Code Readability \r\n",
    "Increase Code Reusability"
   ]
  },
  {
   "cell_type": "code",
   "execution_count": null,
   "id": "521f2794-e859-4b2b-b67d-25d47c489ae2",
   "metadata": {},
   "outputs": [],
   "source": [
    "Syntax of Python Function"
   ]
  },
  {
   "cell_type": "code",
   "execution_count": null,
   "id": "61f4a214-9861-4f6f-a230-09009ea795f5",
   "metadata": {},
   "outputs": [],
   "source": [
    "def name_of_function( parameters ):\n",
    "\"\"\"This is a docstring\"\"\"\n",
    "# code block"
   ]
  },
  {
   "cell_type": "code",
   "execution_count": null,
   "id": "0e2ed961-44bc-44c4-b603-39f195b71e8d",
   "metadata": {},
   "outputs": [],
   "source": [
    "User-Defined Function"
   ]
  },
  {
   "cell_type": "code",
   "execution_count": 13,
   "id": "aa88d7e1-6b75-4a39-95b8-c2397e8503c5",
   "metadata": {},
   "outputs": [
    {
     "name": "stdout",
     "output_type": "stream",
     "text": [
      "Hello John\n"
     ]
    }
   ],
   "source": [
    "def greet(name):\n",
    "    print(\"Hello\", name)\n",
    "\n",
    "# pass argument\n",
    "greet(\"John\")"
   ]
  },
  {
   "cell_type": "code",
   "execution_count": null,
   "id": "a78ac63f-a575-4039-8084-8ac1f9a36e40",
   "metadata": {},
   "outputs": [],
   "source": [
    "Function Arguments\n",
    "The following are the types of arguments that we can use to call a function:\n",
    "1. Default arguments\n",
    "2. Keyword arguments\n",
    "3. Required arguments\n",
    "4. Variable-length arguments"
   ]
  },
  {
   "cell_type": "code",
   "execution_count": null,
   "id": "e1f1e94f-e16d-484f-84f1-7058ac527063",
   "metadata": {},
   "outputs": [],
   "source": [
    "1. Default Arguments:\n",
    "Default arguments allow you to set a default value for a function parameter. \n",
    "This means that if the user doesn't provide a value for that argument, the default will be used automatically.\n",
    "\n",
    "Analogy: Imagine you run a coffee shop. The default size of a coffee is \"Medium,\" but customers can specify if they want a \"Small\" or \"Large.\""
   ]
  },
  {
   "cell_type": "code",
   "execution_count": 1,
   "id": "bc7cc7d9-4b6e-411b-b9bb-8209928d5328",
   "metadata": {},
   "outputs": [
    {
     "name": "stdout",
     "output_type": "stream",
     "text": [
      "You ordered a Medium coffee.\n",
      "You ordered a Large coffee.\n"
     ]
    }
   ],
   "source": [
    "def order_coffee(size=\"Medium\"):\n",
    "    print(f\"You ordered a {size} coffee.\")\n",
    "\n",
    "# Calling the function with and without an argument\n",
    "order_coffee()           # Default size is used\n",
    "order_coffee(\"Large\")     # Custom size is used\n"
   ]
  },
  {
   "cell_type": "code",
   "execution_count": null,
   "id": "bb0efd88-9d72-4c6a-a503-3ddc2de2cf95",
   "metadata": {},
   "outputs": [],
   "source": [
    "Key Point: If no value is provided, Python will use the default. If a value is provided, the default is overridden."
   ]
  },
  {
   "cell_type": "code",
   "execution_count": null,
   "id": "d76fdec6-0ff7-42b5-9ccc-2027cde60043",
   "metadata": {},
   "outputs": [],
   "source": [
    "2. Keyword Arguments:\n",
    "Keyword arguments allow you to pass arguments by name, not just by position.\n",
    "This makes the code more readable and allows you to specify only the arguments you want, in any order.\n",
    "\n",
    "Analogy: When ordering a sandwich, you can specify the bread, fillings, and extras.\n",
    "You don’t have to follow a strict order as long as you know what you're asking for."
   ]
  },
  {
   "cell_type": "code",
   "execution_count": 3,
   "id": "28c672e4-e4ce-4320-8f12-4ad391fd5fea",
   "metadata": {},
   "outputs": [
    {
     "name": "stdout",
     "output_type": "stream",
     "text": [
      "You ordered a sandwich with Wheat bread, Turkey filling, and Mayo sauce.\n",
      "You ordered a sandwich with White bread, Chicken filling, and Mustard sauce.\n"
     ]
    }
   ],
   "source": [
    "def make_sandwich(bread, filling, sauce):\n",
    "    print(f\"You ordered a sandwich with {bread} bread, {filling} filling, and {sauce} sauce.\")\n",
    "\n",
    "# Using keyword arguments\n",
    "make_sandwich(bread=\"Wheat\", filling=\"Turkey\", sauce=\"Mayo\")\n",
    "make_sandwich(filling=\"Chicken\", sauce=\"Mustard\", bread=\"White\")  # Different order works\n"
   ]
  },
  {
   "cell_type": "code",
   "execution_count": null,
   "id": "491c1d75-ba8d-4957-9422-471ea093a7d6",
   "metadata": {},
   "outputs": [],
   "source": [
    "Key Point: Keyword arguments make your function calls more readable, and you can pass them in any order."
   ]
  },
  {
   "cell_type": "code",
   "execution_count": null,
   "id": "f55143ab-359f-40fd-9b27-5e9a17c32eb1",
   "metadata": {},
   "outputs": [],
   "source": [
    "3. Required Arguments:\n",
    "Required arguments are arguments that must be provided when calling the function.\n",
    "If you don’t pass them, Python will raise an error because the function can’t work without that information.\n",
    "\n",
    "Analogy: Imagine ordering pizza without specifying the type.\n",
    "The pizza shop can't prepare your pizza unless you tell them what kind of pizza you want!"
   ]
  },
  {
   "cell_type": "code",
   "execution_count": 5,
   "id": "6d27ef35-cc39-42b2-80a2-0c7766b81ce0",
   "metadata": {},
   "outputs": [
    {
     "name": "stdout",
     "output_type": "stream",
     "text": [
      "Hello, Alice!\n"
     ]
    },
    {
     "ename": "TypeError",
     "evalue": "greet_person() missing 1 required positional argument: 'name'",
     "output_type": "error",
     "traceback": [
      "\u001b[1;31m---------------------------------------------------------------------------\u001b[0m",
      "\u001b[1;31mTypeError\u001b[0m                                 Traceback (most recent call last)",
      "Cell \u001b[1;32mIn[5], line 5\u001b[0m\n\u001b[0;32m      2\u001b[0m     \u001b[38;5;28mprint\u001b[39m(\u001b[38;5;124mf\u001b[39m\u001b[38;5;124m\"\u001b[39m\u001b[38;5;124mHello, \u001b[39m\u001b[38;5;132;01m{\u001b[39;00mname\u001b[38;5;132;01m}\u001b[39;00m\u001b[38;5;124m!\u001b[39m\u001b[38;5;124m\"\u001b[39m)\n\u001b[0;32m      4\u001b[0m greet_person(\u001b[38;5;124m\"\u001b[39m\u001b[38;5;124mAlice\u001b[39m\u001b[38;5;124m\"\u001b[39m)  \u001b[38;5;66;03m# Works fine\u001b[39;00m\n\u001b[1;32m----> 5\u001b[0m greet_person()\n",
      "\u001b[1;31mTypeError\u001b[0m: greet_person() missing 1 required positional argument: 'name'"
     ]
    }
   ],
   "source": [
    "def greet_person(name):\n",
    "    print(f\"Hello, {name}!\")\n",
    "\n",
    "greet_person(\"Alice\")  # Works fine\n",
    "greet_person()         # Will cause an error\n"
   ]
  },
  {
   "cell_type": "code",
   "execution_count": null,
   "id": "9b1d0e98-fba4-401d-8f94-e4a6c49e5f75",
   "metadata": {},
   "outputs": [],
   "source": [
    "Key Point: If a function has required arguments, you must provide them, or Python will throw an error."
   ]
  },
  {
   "cell_type": "code",
   "execution_count": null,
   "id": "fa2f089a-4df2-4bc0-a513-71a072ed39e7",
   "metadata": {},
   "outputs": [],
   "source": [
    "Understanding Variable-Length Arguments in Python\n",
    "Sometimes, we need functions that can handle different numbers of inputs.\n",
    "Think of it like ordering food.\n",
    "Sometimes you might order just one thing, other times you might order five different items.\n",
    "In programming, *args and **kwargs help us create flexible \"orders\" that can take in as many items as we want."
   ]
  },
  {
   "cell_type": "code",
   "execution_count": null,
   "id": "1f89e1da-4e5b-4f60-bfab-9c6f6226ce7d",
   "metadata": {},
   "outputs": [],
   "source": [
    "1. *args: Handling Multiple Positional Arguments\n",
    "Imagine you're ordering pizzas with your friends.\n",
    "Everyone may want to order different numbers of pizzas.\n",
    "You can use *args in Python to collect all the pizza orders, no matter how many."
   ]
  },
  {
   "cell_type": "code",
   "execution_count": 7,
   "id": "d4138403-0396-4dfa-9fb3-9a923c07e24c",
   "metadata": {},
   "outputs": [
    {
     "name": "stdout",
     "output_type": "stream",
     "text": [
      "You ordered these pizzas:\n",
      "Pepperoni\n",
      "Margherita\n",
      "BBQ Chicken\n"
     ]
    }
   ],
   "source": [
    "def order_pizzas(*pizzas):\n",
    "    print(\"You ordered these pizzas:\")\n",
    "    for pizza in pizzas:\n",
    "        print(pizza)\n",
    "\n",
    "order_pizzas(\"Pepperoni\", \"Margherita\", \"BBQ Chicken\")\n"
   ]
  },
  {
   "cell_type": "code",
   "execution_count": null,
   "id": "66645293-1513-498d-9d18-a39236dbd116",
   "metadata": {},
   "outputs": [],
   "source": [
    "Here, *pizzas allows you to list as many pizzas as you want.\n",
    "The function doesn't care if you want to order one or ten pizzas!"
   ]
  },
  {
   "cell_type": "code",
   "execution_count": null,
   "id": "051d02fe-d33b-4def-9d33-a3584d050a01",
   "metadata": {},
   "outputs": [],
   "source": [
    "2. **kwargs: Handling Named Inputs (Keyword Arguments)\n",
    "Now, let’s say you also want to specify details for each pizza, like the size, crust type, or extra toppings.\n",
    "This is where **kwargs comes in handy. Think of it as ordering pizzas with specific requests for each one."
   ]
  },
  {
   "cell_type": "code",
   "execution_count": 9,
   "id": "b0725af7-5e3e-4f15-a8f3-5e9a10ce34b8",
   "metadata": {},
   "outputs": [
    {
     "name": "stdout",
     "output_type": "stream",
     "text": [
      "Pepperoni: Large with extra cheese\n",
      "Margherita: Medium with thin crust\n"
     ]
    }
   ],
   "source": [
    "def order_with_details(**pizza_details):\n",
    "    for pizza, detail in pizza_details.items():\n",
    "        print(f\"{pizza}: {detail}\")\n",
    "\n",
    "order_with_details(Pepperoni=\"Large with extra cheese\", Margherita=\"Medium with thin crust\")\n"
   ]
  },
  {
   "cell_type": "code",
   "execution_count": null,
   "id": "e124c340-94fa-413a-822a-a293e9403ad1",
   "metadata": {},
   "outputs": [],
   "source": [
    "Here, **pizza_details allows you to specify any kind of detail about each pizza by using named inputs (like size, crust, etc.)."
   ]
  },
  {
   "cell_type": "code",
   "execution_count": null,
   "id": "038ce4f3-6011-4d48-9ae0-6e32b5a4ba2d",
   "metadata": {},
   "outputs": [],
   "source": [
    "Real-Life Application:\n",
    "think about functions like a \"shopping cart\" where you might add many items (*args) and specify different options for each item (**kwargs).\n",
    " This makes your code more adaptable to changing inputs, just like how a real-world system needs to handle different types of orders."
   ]
  },
  {
   "cell_type": "code",
   "execution_count": null,
   "id": "7fa98c27-dffe-4814-9440-59e1dfa89451",
   "metadata": {},
   "outputs": [],
   "source": [
    "Default Arguments: Use them when a function should have a fallback value if the user doesn’t provide one.\n",
    "Example: def order_coffee(size=\"Medium\")\n",
    "Keyword Arguments: Pass arguments by name, so the order doesn’t matter.\n",
    "Example: make_sandwich(filling=\"Turkey\", bread=\"White\")\n",
    "Required Arguments: Arguments that must be provided when the function is called.\n",
    "Example: greet_person(name)\n",
    "This structure helps you create flexible, readable, and user-friendly functions in Python!\n",
    "*args collects multiple positional arguments (like a list of items).\n",
    "**kwargs collects multiple keyword arguments (like item details)."
   ]
  },
  {
   "cell_type": "code",
   "execution_count": null,
   "id": "415444c3-6f87-4a24-9f13-54bb9c64e251",
   "metadata": {},
   "outputs": [],
   "source": []
  },
  {
   "cell_type": "code",
   "execution_count": null,
   "id": "335b2edb-89cf-4459-b755-b6d86d10b985",
   "metadata": {},
   "outputs": [],
   "source": [
    "1. What’s an Exception?\n",
    "An exception is an error that occurs during the execution of a program.\n",
    "When Python encounters an exception, it stops the normal flow of the program and looks for a way to handle the error."
   ]
  },
  {
   "cell_type": "code",
   "execution_count": 2,
   "id": "94428613-e9b1-4f1d-a5f5-7e5f15766d26",
   "metadata": {},
   "outputs": [
    {
     "ename": "ZeroDivisionError",
     "evalue": "division by zero",
     "output_type": "error",
     "traceback": [
      "\u001b[1;31m---------------------------------------------------------------------------\u001b[0m",
      "\u001b[1;31mZeroDivisionError\u001b[0m                         Traceback (most recent call last)",
      "Cell \u001b[1;32mIn[2], line 3\u001b[0m\n\u001b[0;32m      1\u001b[0m x \u001b[38;5;241m=\u001b[39m \u001b[38;5;241m10\u001b[39m\n\u001b[0;32m      2\u001b[0m y \u001b[38;5;241m=\u001b[39m \u001b[38;5;241m0\u001b[39m\n\u001b[1;32m----> 3\u001b[0m result \u001b[38;5;241m=\u001b[39m x \u001b[38;5;241m/\u001b[39m y\n",
      "\u001b[1;31mZeroDivisionError\u001b[0m: division by zero"
     ]
    }
   ],
   "source": [
    "x = 10\n",
    "y = 0\n",
    "result = x / y  # Division by zero will raise an exception\n"
   ]
  },
  {
   "cell_type": "code",
   "execution_count": null,
   "id": "221b9f3c-ea31-483d-a4b5-bab6f75f5ecc",
   "metadata": {},
   "outputs": [],
   "source": [
    "In this case, dividing by zero causes a ZeroDivisionError exception, and the program will stop unless you handle this exception."
   ]
  },
  {
   "cell_type": "code",
   "execution_count": null,
   "id": "96954e42-70af-4f4e-8fad-52fe2159c7b7",
   "metadata": {},
   "outputs": [],
   "source": [
    "2. Exceptions versus Syntax Errors\n",
    "Syntax Errors: These are errors in the structure or syntax of your code.\n",
    "They prevent the program from even running. Python catches these during the compilation phase."
   ]
  },
  {
   "cell_type": "code",
   "execution_count": null,
   "id": "c9af2802-0bc2-4f52-837e-893b9729b581",
   "metadata": {},
   "outputs": [],
   "source": [
    "Example of a Syntax Error:"
   ]
  },
  {
   "cell_type": "code",
   "execution_count": 4,
   "id": "2bf8bdd0-380e-4c64-8670-dfccaeae712c",
   "metadata": {},
   "outputs": [
    {
     "ename": "SyntaxError",
     "evalue": "expected ':' (978664451.py, line 1)",
     "output_type": "error",
     "traceback": [
      "\u001b[1;36m  Cell \u001b[1;32mIn[4], line 1\u001b[1;36m\u001b[0m\n\u001b[1;33m    if x > 5   # Missing colon\u001b[0m\n\u001b[1;37m               ^\u001b[0m\n\u001b[1;31mSyntaxError\u001b[0m\u001b[1;31m:\u001b[0m expected ':'\n"
     ]
    }
   ],
   "source": [
    "if x > 5   # Missing colon\n",
    "    print(x)\n"
   ]
  },
  {
   "cell_type": "code",
   "execution_count": null,
   "id": "7fd440dc-d50a-4865-8fd7-4490449ec999",
   "metadata": {},
   "outputs": [],
   "source": [
    "Exceptions: These are errors that occur while the program is running (during the execution phase), and they can be handled."
   ]
  },
  {
   "cell_type": "code",
   "execution_count": null,
   "id": "6a590e25-797e-4d51-8326-d99802403f81",
   "metadata": {},
   "outputs": [],
   "source": [
    "Example of an Exception:"
   ]
  },
  {
   "cell_type": "code",
   "execution_count": 6,
   "id": "cef33351-9381-40b7-a374-dddd121063b7",
   "metadata": {},
   "outputs": [
    {
     "ename": "ValueError",
     "evalue": "invalid literal for int() with base 10: 'Hello'",
     "output_type": "error",
     "traceback": [
      "\u001b[1;31m---------------------------------------------------------------------------\u001b[0m",
      "\u001b[1;31mValueError\u001b[0m                                Traceback (most recent call last)",
      "Cell \u001b[1;32mIn[6], line 1\u001b[0m\n\u001b[1;32m----> 1\u001b[0m num \u001b[38;5;241m=\u001b[39m \u001b[38;5;28mint\u001b[39m(\u001b[38;5;124m\"\u001b[39m\u001b[38;5;124mHello\u001b[39m\u001b[38;5;124m\"\u001b[39m)\n",
      "\u001b[1;31mValueError\u001b[0m: invalid literal for int() with base 10: 'Hello'"
     ]
    }
   ],
   "source": [
    "num = int(\"Hello\")  # Trying to convert a string to an integer\n"
   ]
  },
  {
   "cell_type": "code",
   "execution_count": null,
   "id": "ff2cdf43-8bb4-4cb0-9691-4406972fc563",
   "metadata": {},
   "outputs": [],
   "source": [
    "3. Try and Except Statement - Catching Exceptions\n",
    "The try block lets you test a block of code for exceptions.\n",
    "The except block lets you handle the error if it occurs, preventing your program from crashing."
   ]
  },
  {
   "cell_type": "code",
   "execution_count": null,
   "id": "a45b8436-894a-4b3d-a778-50676529851d",
   "metadata": {},
   "outputs": [],
   "source": [
    "Syntax:"
   ]
  },
  {
   "cell_type": "code",
   "execution_count": null,
   "id": "907c5aa8-f543-4520-bb50-bc58745da40d",
   "metadata": {},
   "outputs": [],
   "source": [
    "try:\n",
    "    # Code that might raise an exception\n",
    "except ExceptionType:\n",
    "    # Code to handle the exception\n"
   ]
  },
  {
   "cell_type": "code",
   "execution_count": null,
   "id": "4f26f38d-c207-48fb-92d4-82d37557a8b3",
   "metadata": {},
   "outputs": [],
   "source": [
    "Example:\n"
   ]
  },
  {
   "cell_type": "code",
   "execution_count": 8,
   "id": "266d8268-49d6-4776-a4ab-bee0fb0ef5bf",
   "metadata": {},
   "outputs": [
    {
     "name": "stdout",
     "output_type": "stream",
     "text": [
      "You cannot divide by zero!\n"
     ]
    }
   ],
   "source": [
    "try:\n",
    "    x = 10 / 0\n",
    "except ZeroDivisionError:\n",
    "    print(\"You cannot divide by zero!\")\n"
   ]
  },
  {
   "cell_type": "code",
   "execution_count": null,
   "id": "b10a937a-2cee-465e-abc0-998144bf54a1",
   "metadata": {},
   "outputs": [],
   "source": [
    "You can also catch multiple exceptions and specify what happens for each one:\n",
    "\n",
    "Example (Multiple Exceptions):"
   ]
  },
  {
   "cell_type": "code",
   "execution_count": 10,
   "id": "8ff15fae-48c8-4fcf-abb1-17c54c3bd8fc",
   "metadata": {},
   "outputs": [
    {
     "name": "stdout",
     "output_type": "stream",
     "text": [
      "Invalid input for integer conversion!\n"
     ]
    }
   ],
   "source": [
    "try:\n",
    "    x = int(\"Hello\")\n",
    "except ZeroDivisionError:\n",
    "    print(\"You cannot divide by zero!\")\n",
    "except ValueError:\n",
    "    print(\"Invalid input for integer conversion!\")\n"
   ]
  },
  {
   "cell_type": "code",
   "execution_count": null,
   "id": "a7d29948-ca7b-4fb3-9b57-b8809d3d5878",
   "metadata": {},
   "outputs": [],
   "source": [
    "4. Finally Keyword in Python\n",
    "The finally block is used to define code that should be executed no matter what, whether an exception occurs or not.\n",
    "It’s typically used for cleanup actions (like closing a file or a database connection).\n",
    "\n",
    "Syntax:"
   ]
  },
  {
   "cell_type": "code",
   "execution_count": null,
   "id": "632c3386-4ba8-40cc-9db1-0c2143a5e2f6",
   "metadata": {},
   "outputs": [],
   "source": [
    "try:\n",
    "    # Code that might raise an exception\n",
    "except:\n",
    "    # Code to handle the exception\n",
    "finally:\n",
    "    # Code that will run no matter what\n"
   ]
  },
  {
   "cell_type": "code",
   "execution_count": null,
   "id": "02da18d2-b807-45e8-a42b-2af19ab62f85",
   "metadata": {},
   "outputs": [],
   "source": [
    "Example:"
   ]
  },
  {
   "cell_type": "code",
   "execution_count": 12,
   "id": "18b431ad-5951-46d6-9890-182c85958957",
   "metadata": {},
   "outputs": [
    {
     "name": "stdout",
     "output_type": "stream",
     "text": [
      "Error: File not found or can't be written to.\n",
      "This block will run no matter what.\n"
     ]
    }
   ],
   "source": [
    "try:\n",
    "    file = open(\"testfile.txt\", \"r\")\n",
    "    file.write(\"Hello World!\")\n",
    "except IOError:\n",
    "    print(\"Error: File not found or can't be written to.\")\n",
    "finally:\n",
    "    print(\"This block will run no matter what.\")\n"
   ]
  },
  {
   "cell_type": "code",
   "execution_count": null,
   "id": "604028fe-76e2-41fa-9a71-1145db8edf67",
   "metadata": {},
   "outputs": [],
   "source": [
    "The finally block is useful for tasks like closing files or freeing resources, which should always happen even if an error occurs."
   ]
  },
  {
   "cell_type": "code",
   "execution_count": null,
   "id": "389b2ea9-26f7-485c-9a07-636158817421",
   "metadata": {},
   "outputs": [],
   "source": [
    "5. User-Defined Exceptions\n",
    "Python also allows you to define your own exceptions. This is useful when you want to create custom error conditions for your specific needs.\n",
    "\n",
    "Steps to Define a Custom Exception:\n",
    "Create a new class that inherits from Exception (or a more specific exception class).\n",
    "Raise this exception in your code when appropriate.\n",
    "Example:"
   ]
  },
  {
   "cell_type": "code",
   "execution_count": 14,
   "id": "52ec1882-f8c8-4769-b998-baa1882bf3bc",
   "metadata": {},
   "outputs": [
    {
     "name": "stdout",
     "output_type": "stream",
     "text": [
      "This is a custom error!\n"
     ]
    }
   ],
   "source": [
    "class MyCustomError(Exception):\n",
    "    \"\"\"User-defined exception class.\"\"\"\n",
    "    pass\n",
    "\n",
    "# Raise the custom exception\n",
    "try:\n",
    "    raise MyCustomError(\"This is a custom error!\")\n",
    "except MyCustomError as e:\n",
    "    print(e)\n"
   ]
  },
  {
   "cell_type": "code",
   "execution_count": null,
   "id": "b9b551d5-0b7e-4e17-8104-a132e622dbe0",
   "metadata": {},
   "outputs": [],
   "source": [
    "You can add more features to your user-defined exception, such as additional methods or properties, to customize its behavior."
   ]
  },
  {
   "cell_type": "code",
   "execution_count": null,
   "id": "396e2032-316c-4042-857a-d408dd6a23d8",
   "metadata": {},
   "outputs": [],
   "source": [
    "Summary:"
   ]
  },
  {
   "cell_type": "code",
   "execution_count": null,
   "id": "b9b6c4fc-1d8b-4c76-81f5-ec8984ea83e3",
   "metadata": {},
   "outputs": [],
   "source": [
    "Exceptions are errors that occur during the execution of a program. You can handle them to avoid crashing your program.\n",
    "Syntax Errors occur during compilation and prevent the program from running.\n",
    "Use the try and except blocks to catch and handle exceptions.\n",
    "The finally block ensures that code runs no matter what, typically used for cleanup.\n",
    "User-Defined Exceptions allow you to create custom error-handling scenarios for your specific needs."
   ]
  },
  {
   "cell_type": "code",
   "execution_count": 3,
   "id": "1cba42be-a38d-44ff-83de-5abe6fcd8bb6",
   "metadata": {},
   "outputs": [
    {
     "name": "stdout",
     "output_type": "stream",
     "text": [
      "hey you cant divide a number by zero\n",
      "bye\n"
     ]
    }
   ],
   "source": [
    "a=5\n",
    "b=0\n",
    "\n",
    "try:\n",
    "    print(a/b)\n",
    "except Exception:\n",
    "    print(\"hey you cant divide a number by zero\")\n",
    "print(\"bye\")"
   ]
  },
  {
   "cell_type": "code",
   "execution_count": 5,
   "id": "eb2d9a5a-8013-4cad-b3cb-40e96325bec3",
   "metadata": {},
   "outputs": [
    {
     "name": "stdout",
     "output_type": "stream",
     "text": [
      "hey you cant divide a number by zero division by zero\n",
      "bye\n"
     ]
    }
   ],
   "source": [
    "a=5\n",
    "b=0\n",
    "\n",
    "try:\n",
    "    print(a/b)\n",
    "except Exception as e:\n",
    "    #e is representation or object of exception\n",
    "    print(\"hey you cant divide a number by zero\", e)\n",
    "print(\"bye\")"
   ]
  },
  {
   "cell_type": "code",
   "execution_count": 9,
   "id": "fa839ca8-4365-450e-aca4-9d83e1fac0a6",
   "metadata": {},
   "outputs": [
    {
     "name": "stdout",
     "output_type": "stream",
     "text": [
      "resource open\n",
      "1.0\n",
      "resource closed\n",
      "bye\n"
     ]
    }
   ],
   "source": [
    "a=5\n",
    "b=5\n",
    "\n",
    "try:\n",
    "    print(\"resource open\")\n",
    "    print(a/b)\n",
    "    print(\"resource closed\")\n",
    "except Exception as e:\n",
    "    #e is representation or object of exception\n",
    "    print(\"hey you cant divide a number by zero\", e)\n",
    "print(\"bye\")"
   ]
  },
  {
   "cell_type": "code",
   "execution_count": 7,
   "id": "074652b8-a2d1-4c54-a8ff-e846ac56091a",
   "metadata": {},
   "outputs": [
    {
     "name": "stdout",
     "output_type": "stream",
     "text": [
      "resource open\n",
      "hey you cant divide a number by zero division by zero\n",
      "bye\n"
     ]
    }
   ],
   "source": [
    "a=5\n",
    "b=0\n",
    "\n",
    "try:\n",
    "    print(\"resource open\")\n",
    "    print(a/b)\n",
    "    print(\"resource closed\")\n",
    "except Exception as e:\n",
    "    #e is representation or object of exception\n",
    "    print(\"hey you cant divide a number by zero\", e)\n",
    "print(\"bye\")"
   ]
  },
  {
   "cell_type": "code",
   "execution_count": 11,
   "id": "8da67564-d5b7-4155-b505-a9f3a36d4209",
   "metadata": {},
   "outputs": [
    {
     "name": "stdout",
     "output_type": "stream",
     "text": [
      "resource open\n",
      "hey you cant divide a number by zero division by zero\n",
      "resource closed\n",
      "bye\n"
     ]
    }
   ],
   "source": [
    "a=5\n",
    "b=0\n",
    "\n",
    "try:\n",
    "    print(\"resource open\")\n",
    "    print(a/b)\n",
    "    \n",
    "except Exception as e:\n",
    "    #e is representation or object of exception\n",
    "    print(\"hey you cant divide a number by zero\", e)\n",
    "    print(\"resource closed\")\n",
    "    \n",
    "print(\"bye\")"
   ]
  },
  {
   "cell_type": "code",
   "execution_count": 13,
   "id": "d00400d8-75e8-4439-8194-f04c8227a30f",
   "metadata": {},
   "outputs": [
    {
     "name": "stdout",
     "output_type": "stream",
     "text": [
      "resource open\n",
      "1.0\n",
      "bye\n"
     ]
    }
   ],
   "source": [
    "a=5\n",
    "b=5\n",
    "\n",
    "try:\n",
    "    print(\"resource open\")\n",
    "    print(a/b)\n",
    "    \n",
    "except Exception as e:\n",
    "    #e is representation or object of exception\n",
    "    print(\"hey you cant divide a number by zero\", e)\n",
    "    print(\"resource closed\")\n",
    "    \n",
    "print(\"bye\")"
   ]
  },
  {
   "cell_type": "code",
   "execution_count": 17,
   "id": "858604e6-577e-447c-b900-04cc93683169",
   "metadata": {},
   "outputs": [
    {
     "name": "stdout",
     "output_type": "stream",
     "text": [
      "resource open\n",
      "1.0\n",
      "resource closed\n",
      "bye\n"
     ]
    }
   ],
   "source": [
    "a=5\n",
    "b=5\n",
    "\n",
    "try:\n",
    "    print(\"resource open\")\n",
    "    print(a/b)\n",
    "    \n",
    "except Exception as e:\n",
    "    #e is representation or object of exception\n",
    "    print(\"hey you cant divide a number by zero\", e)\n",
    "    \n",
    "\n",
    "finally:\n",
    "    #finally block will be executed if we get error as well as if we dont get the error\n",
    "    print(\"resource closed\")\n",
    "    \n",
    "print(\"bye\")"
   ]
  },
  {
   "cell_type": "code",
   "execution_count": 21,
   "id": "8de2fb09-1f5a-47b1-a83e-2df9c0a3e65e",
   "metadata": {},
   "outputs": [
    {
     "name": "stdout",
     "output_type": "stream",
     "text": [
      "resource open\n",
      "1.0\n"
     ]
    },
    {
     "name": "stdin",
     "output_type": "stream",
     "text": [
      "enter number 1213\n"
     ]
    },
    {
     "name": "stdout",
     "output_type": "stream",
     "text": [
      "1213\n",
      "resource closed\n",
      "bye\n"
     ]
    }
   ],
   "source": [
    "a=5\n",
    "b=5\n",
    "\n",
    "try:\n",
    "    print(\"resource open\")\n",
    "    print(a/b)\n",
    "    r=int(input(\"enter number\"))\n",
    "    print(r)\n",
    "    \n",
    "except Exception as e:\n",
    "    #e is representation or object of exception\n",
    "    print(\"hey you cant divide a number by zero\", e)\n",
    "    \n",
    "\n",
    "finally:\n",
    "    #finally block will be executed if we get error as well as if we dont get the error\n",
    "    print(\"resource closed\")\n",
    "    \n"
   ]
  },
  {
   "cell_type": "code",
   "execution_count": 23,
   "id": "d9a5022d-0b6f-41cf-9ac3-e6fe698a3bde",
   "metadata": {},
   "outputs": [
    {
     "name": "stdout",
     "output_type": "stream",
     "text": [
      "resource open\n",
      "1.0\n"
     ]
    },
    {
     "name": "stdin",
     "output_type": "stream",
     "text": [
      "enter number r\n"
     ]
    },
    {
     "name": "stdout",
     "output_type": "stream",
     "text": [
      "hey you cant divide a number by zero invalid literal for int() with base 10: 'r'\n",
      "resource closed\n"
     ]
    }
   ],
   "source": [
    "a=5\n",
    "b=5\n",
    "\n",
    "try:\n",
    "    print(\"resource open\")\n",
    "    print(a/b)\n",
    "    r=int(input(\"enter number\"))\n",
    "    print(r)\n",
    "    \n",
    "except Exception as e:\n",
    "    #e is representation or object of exception\n",
    "    print(\"hey you cant divide a number by zero\", e)\n",
    "    \n",
    "\n",
    "finally:\n",
    "    #finally block will be executed if we get error as well as if we dont get the error\n",
    "    print(\"resource closed\")"
   ]
  },
  {
   "cell_type": "code",
   "execution_count": 25,
   "id": "885380de-cb8b-421f-b453-43e8709334df",
   "metadata": {},
   "outputs": [
    {
     "name": "stdout",
     "output_type": "stream",
     "text": [
      "resource open\n",
      "1.0\n"
     ]
    },
    {
     "name": "stdin",
     "output_type": "stream",
     "text": [
      "enter number r\n"
     ]
    },
    {
     "name": "stdout",
     "output_type": "stream",
     "text": [
      "invalid input\n",
      "resource closed\n"
     ]
    }
   ],
   "source": [
    "a=5\n",
    "b=5\n",
    "\n",
    "try:\n",
    "    print(\"resource open\")\n",
    "    print(a/b)\n",
    "    r=int(input(\"enter number\"))\n",
    "    print(r)\n",
    "    \n",
    "except ZeroDivisionError as e:\n",
    "    #e is representation or object of exception\n",
    "    print(\"hey you cant divide a number by zero\", e)\n",
    "\n",
    "except ValueError as e:\n",
    "    print(\"invalid input\")\n",
    "\n",
    "except Exception as e:\n",
    "    print(\"something went wrong...\")\n",
    "    \n",
    "\n",
    "finally:\n",
    "    #finally block will be executed if we get error as well as if we dont get the error\n",
    "    print(\"resource closed\")"
   ]
  },
  {
   "cell_type": "code",
   "execution_count": null,
   "id": "c3723f77-9f7b-4ea3-98ad-9480df148aa1",
   "metadata": {},
   "outputs": [],
   "source": []
  },
  {
   "cell_type": "code",
   "execution_count": null,
   "id": "f9b6763e-f976-4fb6-a23e-421b58018d46",
   "metadata": {},
   "outputs": [],
   "source": [
    "Python Objects and Classes:\n",
    "\n",
    "Explanation: Objects are instances of classes, and classes are blueprints for objects. Every object has properties (attributes) and behaviors (methods).\n"
   ]
  },
  {
   "cell_type": "code",
   "execution_count": 2,
   "id": "903c78b2-7399-479e-9a48-42f73e72cb16",
   "metadata": {},
   "outputs": [
    {
     "name": "stdout",
     "output_type": "stream",
     "text": [
      "Toyota Corolla\n"
     ]
    }
   ],
   "source": [
    "class Car:\n",
    "    def __init__(self, brand, model):\n",
    "        self.brand = brand\n",
    "        self.model = model\n",
    "\n",
    "car1 = Car(\"Toyota\", \"Corolla\")\n",
    "print(car1.brand, car1.model)\n"
   ]
  },
  {
   "cell_type": "code",
   "execution_count": null,
   "id": "690994a3-184c-4d4f-9881-5607f160fbfd",
   "metadata": {},
   "outputs": [],
   "source": [
    "Defining a Class in Python:\n",
    "\n",
    "Explanation: A class is defined using the class keyword. Inside a class, methods are defined like regular functions.\n"
   ]
  },
  {
   "cell_type": "code",
   "execution_count": 4,
   "id": "e3205327-accc-4c79-8ead-b9fc50b48f52",
   "metadata": {},
   "outputs": [],
   "source": [
    "class Person:\n",
    "    def greet(self):\n",
    "        print(\"Hello!\")\n"
   ]
  },
  {
   "cell_type": "code",
   "execution_count": null,
   "id": "84a90fb0-4351-4bbf-a5f6-49b0409fe844",
   "metadata": {},
   "outputs": [],
   "source": [
    "Creating an Object in Python:\n",
    "\n",
    "Explanation: An object is created by calling the class like a function.\n"
   ]
  },
  {
   "cell_type": "code",
   "execution_count": 6,
   "id": "e328be2a-52a4-4736-a75d-e92110fc8792",
   "metadata": {},
   "outputs": [
    {
     "name": "stdout",
     "output_type": "stream",
     "text": [
      "Hello!\n"
     ]
    }
   ],
   "source": [
    "p = Person()\n",
    "p.greet()  # Output: Hello!\n"
   ]
  },
  {
   "cell_type": "code",
   "execution_count": null,
   "id": "855b7af6-9839-46ac-8467-135ff3e86d72",
   "metadata": {},
   "outputs": [],
   "source": [
    "Constructors in Python:\n",
    "Explanation: A constructor is a special method, __init__(), that gets called automatically when a class is instantiated.\n"
   ]
  },
  {
   "cell_type": "code",
   "execution_count": 8,
   "id": "29866b41-4c17-47c7-8fd5-667e4d5ba544",
   "metadata": {},
   "outputs": [
    {
     "name": "stdout",
     "output_type": "stream",
     "text": [
      "Alice 20\n"
     ]
    }
   ],
   "source": [
    "class Student:\n",
    "    def __init__(self, name, age):\n",
    "        self.name = name\n",
    "        self.age = age\n",
    "\n",
    "s1 = Student(\"Alice\", 20)\n",
    "print(s1.name, s1.age)\n"
   ]
  },
  {
   "cell_type": "code",
   "execution_count": null,
   "id": "e2d60a89-e134-49c3-a026-a5e11780bc5e",
   "metadata": {},
   "outputs": [],
   "source": [
    "Deleting Attributes and Objects:\n",
    "\n",
    "Explanation: The del keyword can be used to delete object attributes or the entire object.\n"
   ]
  },
  {
   "cell_type": "code",
   "execution_count": 12,
   "id": "5ba8680d-f9ec-4974-8ffc-a44ac18e7e2e",
   "metadata": {},
   "outputs": [],
   "source": [
    "class Dog:\n",
    "    def __init__(self, name):\n",
    "        self.name = name\n",
    "\n",
    "dog1 = Dog(\"Buddy\")\n",
    "del dog1.name  # Deletes the 'name' attribute\n",
    "del dog1  # Deletes the object\n"
   ]
  },
  {
   "cell_type": "code",
   "execution_count": null,
   "id": "026b30fb-71f3-4d44-bec3-698ce684bbe4",
   "metadata": {},
   "outputs": [],
   "source": []
  },
  {
   "cell_type": "code",
   "execution_count": null,
   "id": "2045c797-5cc9-468b-a335-16b5b41a6c1a",
   "metadata": {},
   "outputs": [],
   "source": [
    "1. What are Objects and Classes?\n",
    "Think of a class as a recipe: When you have a recipe for making cookies, it tells you what ingredients (flour, sugar, etc.) and steps (bake at 350°F) to use. But, you don’t have cookies until you follow the recipe and make them.\n",
    "In programming: A class is like that recipe, and an object is the cookie you made. You can make many cookies (objects) from the same recipe (class)."
   ]
  },
  {
   "cell_type": "code",
   "execution_count": null,
   "id": "91391067-3eac-4871-8fa1-cea3274d92f9",
   "metadata": {},
   "outputs": [],
   "source": [
    "ex-Imagine you have a blueprint for building cars.\n"
   ]
  },
  {
   "cell_type": "code",
   "execution_count": 14,
   "id": "440df68e-daa2-4971-b8a8-a461d37143ad",
   "metadata": {},
   "outputs": [],
   "source": [
    "class Car:\n",
    "    def __init__(self, color):\n",
    "        self.color = color\n"
   ]
  },
  {
   "cell_type": "code",
   "execution_count": null,
   "id": "2d2c7e05-9383-46e8-8199-b5ebaca4cd00",
   "metadata": {},
   "outputs": [],
   "source": [
    "You can make different cars from the same blueprint"
   ]
  },
  {
   "cell_type": "code",
   "execution_count": 17,
   "id": "9fc4e00c-7613-4863-8ee4-38c32d892e07",
   "metadata": {},
   "outputs": [],
   "source": [
    "my_car = Car(\"red\")  # You just made a red car\n"
   ]
  },
  {
   "cell_type": "code",
   "execution_count": null,
   "id": "4ccc0246-494c-45ea-86b9-7cb14a1792bb",
   "metadata": {},
   "outputs": [],
   "source": [
    "2. What is a Class?\n",
    "A class is a blueprint: It tells the computer what your object (like a toy or a car) will be made of.\n",
    "In simpler words: It’s like telling someone how to draw a picture of a car, but no cars exist yet.\n",
    "Example:"
   ]
  },
  {
   "cell_type": "code",
   "execution_count": 19,
   "id": "385cedfc-53de-47af-a60c-00d68323d1ce",
   "metadata": {},
   "outputs": [],
   "source": [
    "class Person:\n",
    "    def say_hello(self):\n",
    "        print(\"Hello!\")\n"
   ]
  },
  {
   "cell_type": "code",
   "execution_count": null,
   "id": "f7466d78-0822-42ef-8c99-9ae094dc88ac",
   "metadata": {},
   "outputs": [],
   "source": [
    "3. Creating an Object:\n",
    "Once you have the class (blueprint), you can build or create something from it.\n",
    "If you have a recipe for a cake, you can make a cake using that recipe. Similarly, using a class, you can create an object.\n",
    "Example:"
   ]
  },
  {
   "cell_type": "code",
   "execution_count": 21,
   "id": "27a30991-d7d7-4f83-8fdb-7c931cac8e08",
   "metadata": {},
   "outputs": [
    {
     "name": "stdout",
     "output_type": "stream",
     "text": [
      "Hello!\n"
     ]
    }
   ],
   "source": [
    "p = Person()  # You just created a 'Person' object\n",
    "p.say_hello()  # This person can say Hello!\n"
   ]
  },
  {
   "cell_type": "code",
   "execution_count": null,
   "id": "a24e10f3-462a-4956-b211-36545002b08e",
   "metadata": {},
   "outputs": [],
   "source": [
    "4. What is a Constructor?\n",
    "When you make a toy (object), you may want to give it some features, like color or size. The constructor is like the builder who assembles the toy and gives it these features.\n",
    "In programming: The constructor is a special method that gets called when you create an object to set it up properly.\n",
    "Example:"
   ]
  },
  {
   "cell_type": "code",
   "execution_count": 23,
   "id": "dd0a96be-fa5f-45c2-bc72-0c7214ba4e0a",
   "metadata": {},
   "outputs": [
    {
     "name": "stdout",
     "output_type": "stream",
     "text": [
      "Buddy\n"
     ]
    }
   ],
   "source": [
    "class Dog:\n",
    "    def __init__(self, name):\n",
    "        self.name = name  # Constructor gives the dog a name\n",
    "\n",
    "my_dog = Dog(\"Buddy\")  # We just created a dog named Buddy\n",
    "print(my_dog.name)  # Prints \"Buddy\"\n"
   ]
  },
  {
   "cell_type": "code",
   "execution_count": null,
   "id": "471c3e21-243d-4e60-bd66-b54a3ea9ff54",
   "metadata": {},
   "outputs": [],
   "source": [
    "5. Deleting Attributes and Objects:\n",
    "Imagine you’re playing with a toy, but you want to change its color or throw it away. In programming, we can also delete parts of an object or the whole object.\n",
    "Example:"
   ]
  },
  {
   "cell_type": "code",
   "execution_count": 25,
   "id": "b90acc15-8b84-4259-86e1-8eaa39b055b3",
   "metadata": {},
   "outputs": [],
   "source": [
    "class Cat:\n",
    "    def __init__(self, name):\n",
    "        self.name = name\n",
    "\n",
    "my_cat = Cat(\"Whiskers\")\n",
    "del my_cat.name  # Now the cat has no name!\n",
    "del my_cat  # The cat is gone!\n"
   ]
  },
  {
   "cell_type": "code",
   "execution_count": null,
   "id": "100e34a5-6993-4c03-aecf-4366c4e3f03e",
   "metadata": {},
   "outputs": [],
   "source": [
    "Summary:\n",
    "Class = Recipe/Blueprint.\n",
    "Object = Cookie/Toy you made from the class.\n",
    "Constructor = The person who builds the object and gives it its features.\n",
    "Deleting = Like throwing the toy away or removing its parts."
   ]
  },
  {
   "cell_type": "code",
   "execution_count": null,
   "id": "e7e6a998-d3a6-4fee-aef8-fce62c70f828",
   "metadata": {},
   "outputs": [],
   "source": []
  },
  {
   "cell_type": "code",
   "execution_count": null,
   "id": "8f739f21-68b8-48cd-b19a-c999886ed1c2",
   "metadata": {},
   "outputs": [],
   "source": [
    "self parameter is a reference to the currentt instance of the class, and is used to access varisbles that belongs to the class.\n",
    "it must be provided as the extra parameters inside the method defination"
   ]
  },
  {
   "cell_type": "code",
   "execution_count": 1,
   "id": "b616f36a-95b2-49dd-be01-459c10d3d606",
   "metadata": {},
   "outputs": [
    {
     "name": "stdout",
     "output_type": "stream",
     "text": [
      "Pratik is a HR\n",
      "Pritish is a Tester\n"
     ]
    }
   ],
   "source": [
    "class person:\n",
    "    name=\"Rohit\"\n",
    "    occupation=\"SDE\"\n",
    "    age=24\n",
    "    def info(self):\n",
    "        print(f\"{self.name} is a {self.occupation}\")\n",
    "\n",
    "a=person()\n",
    "b=person()\n",
    "\n",
    "a.name=\"Pratik\"\n",
    "a.occupation=\"HR\"\n",
    "\n",
    "b.name=\"Pritish\"\n",
    "b.occupation=\"Tester\"\n",
    "#print(a.name,a.occupation)\n",
    "a.info()\n",
    "b.info()"
   ]
  },
  {
   "cell_type": "code",
   "execution_count": null,
   "id": "408eb7dc-d6f7-43c8-a34e-8a3071f7cab3",
   "metadata": {},
   "outputs": [],
   "source": [
    "a constructor is a special method in a create and initialize an object of a class.\n",
    "there are different types of constructors.\n",
    "constructors is invoked automacally when an objeect of a class is created.\n",
    "a constructor is a unique function that gets  called automatically when an object  is created of a class.\n",
    "the main purpose of a  constructor is to initialize or assign values to the data members of that class. \n",
    "it cannot return any value other than none"
   ]
  },
  {
   "cell_type": "code",
   "execution_count": 3,
   "id": "2fabaa70-6da1-4588-9137-b13ab3736f82",
   "metadata": {},
   "outputs": [
    {
     "name": "stdout",
     "output_type": "stream",
     "text": [
      "hey iam a person\n",
      "hey iam a person\n",
      "rohii is  a SDE\n",
      "british is  a HR\n"
     ]
    }
   ],
   "source": [
    "class person:\n",
    "\n",
    "    def __init__(self,name,occ):\n",
    "        print(\"hey iam a person\")\n",
    "        self.name=name\n",
    "        self.occ=occ\n",
    "\n",
    "    def info(self):\n",
    "        print(f\"{self.name} is  a {self.occ}\")\n",
    "\n",
    "a=person(\"rohii\",\"SDE\")\n",
    "b=person(\"british\",\"HR\")\n",
    "\n",
    "a.info()\n",
    "b.info()"
   ]
  },
  {
   "cell_type": "code",
   "execution_count": null,
   "id": "d58d531f-37d6-4d43-88f2-ef39ed84e8d2",
   "metadata": {},
   "outputs": [],
   "source": []
  },
  {
   "cell_type": "code",
   "execution_count": null,
   "id": "2e936e28-3b8c-402d-a459-b6c012b57655",
   "metadata": {},
   "outputs": [],
   "source": [
    "In Python, self is used in instance methods to refer to the instance (object) of the class itself.\n",
    "It allows you to access the attributes and methods of the instance within the class. Here's a breakdown of why self is used and how it works:\n",
    "\n",
    "Why self is Used:\n",
    "Refers to the Current Object:\n",
    "self refers to the specific instance of the class that is calling the method.\n",
    "It allows methods to access and modify the attributes and other methods of the instance.\n",
    "Distinguishes Between Instance and Class Variables:\n",
    "It helps differentiate between local variables and instance variables.\n",
    "By using self, you can assign values to instance variables that are unique to each object.\n",
    "Necessary for Method Calls:\n",
    "When you define a method inside a class, self must be the first parameter (even though you don't pass it explicitly when calling the method).\n",
    "Python automatically passes the instance as the first argument when the method is called on an object.\n",
    "Example"
   ]
  },
  {
   "cell_type": "code",
   "execution_count": 12,
   "id": "3640dcc5-3d1b-4021-bf59-19ace138fe4c",
   "metadata": {},
   "outputs": [
    {
     "name": "stdout",
     "output_type": "stream",
     "text": [
      "The Toyota Corolla is starting.\n"
     ]
    }
   ],
   "source": [
    "class Car:\n",
    "    def __init__(self, make, model):\n",
    "        self.make = make  # self.make refers to the instance attribute\n",
    "        self.model = model  # self.model refers to the instance attribute\n",
    "\n",
    "    def start(self):\n",
    "        print(f\"The {self.make} {self.model} is starting.\")\n",
    "\n",
    "# Creating an instance of the Car class\n",
    "my_car = Car(\"Toyota\", \"Corolla\")\n",
    "\n",
    "# Calling the method start() using the object\n",
    "my_car.start()\n"
   ]
  },
  {
   "cell_type": "code",
   "execution_count": null,
   "id": "4a925b43-9370-4212-af8f-f75ff0438d04",
   "metadata": {},
   "outputs": [],
   "source": [
    "How self Works in the Example:\n",
    "When the __init__ method is called, self refers to the new instance (my_car in this case). \n",
    "self.make and self.model store the values passed when the object is created.\n",
    "When my_car.start() is called, self again refers to my_car, allowing the method to access the instance's attributes (self.make and self.model).\n",
    "Summary\n",
    "self is essential for accessing and modifying an object’s attributes and methods within a class.\n",
    "It is used to bind the instance variables with the given arguments and to ensure each object has its own set of attributes and methods,\n",
    "independent of other objects."
   ]
  },
  {
   "cell_type": "code",
   "execution_count": null,
   "id": "2edaa20d-5e74-4e14-83f6-871c1aa370e4",
   "metadata": {},
   "outputs": [],
   "source": []
  },
  {
   "cell_type": "code",
   "execution_count": null,
   "id": "f4ec8911-1825-415e-9b19-b486e3666fbb",
   "metadata": {},
   "outputs": [],
   "source": [
    "experiment no 8"
   ]
  },
  {
   "cell_type": "code",
   "execution_count": null,
   "id": "b668b967-3a54-4d5e-bd4e-686f1502992b",
   "metadata": {},
   "outputs": [],
   "source": [
    "Types of Inheritance in Python\n",
    "Inheritance is a fundamental concept in object-oriented programming (OOP) that allows a class (child class) \n",
    "to inherit attributes and methods from another class (parent class). This promotes code reusability and improves the structure of the code.\n",
    "\n",
    "1. Single Inheritance\n",
    "Definition: In single inheritance, a child class inherits from a single parent class.\n",
    "Syntax:"
   ]
  },
  {
   "cell_type": "code",
   "execution_count": null,
   "id": "2f895725-f119-4e8d-90a6-4444bfc72f8d",
   "metadata": {},
   "outputs": [],
   "source": [
    "class Parent:\n",
    "    # parent class methods and properties\n",
    "    \n",
    "class Child(Parent):\n",
    "    # child class methods and properties\n"
   ]
  },
  {
   "cell_type": "code",
   "execution_count": null,
   "id": "ba847301-575a-4eb0-9c77-10f3ed302175",
   "metadata": {},
   "outputs": [],
   "source": [
    "Example"
   ]
  },
  {
   "cell_type": "code",
   "execution_count": 18,
   "id": "ba6db258-2a64-4db0-bc50-cb17cf016a5f",
   "metadata": {},
   "outputs": [
    {
     "name": "stdout",
     "output_type": "stream",
     "text": [
      "Fuel type: Petrol\n",
      "Car has 4 wheels\n"
     ]
    }
   ],
   "source": [
    "class Vehicle:\n",
    "    def fuel(self):\n",
    "        return \"Fuel type: Petrol\"\n",
    "\n",
    "class Car(Vehicle):\n",
    "    def wheels(self):\n",
    "        return \"Car has 4 wheels\"\n",
    "\n",
    "car = Car()\n",
    "print(car.fuel())    # Output: Fuel type: Petrol\n",
    "print(car.wheels())  # Output: Car has 4 wheels\n"
   ]
  },
  {
   "cell_type": "code",
   "execution_count": 16,
   "id": "5645f07f-f96a-46bc-874b-af7467f0c7a7",
   "metadata": {},
   "outputs": [
    {
     "name": "stdout",
     "output_type": "stream",
     "text": [
      "Fuel type: Petrol\n",
      "Car has 4 wheels\n"
     ]
    }
   ],
   "source": [
    "class Vehicle:\n",
    "    def fuel():\n",
    "        return \"Fuel type: Petrol\"\n",
    "\n",
    "class Car(Vehicle):\n",
    "    def wheels():\n",
    "        return \"Car has 4 wheels\"\n",
    "\n",
    "print(Vehicle.fuel())    # Output: Fuel type: Petrol\n",
    "print(Car.wheels())      # Output: Car has 4 wheels\n"
   ]
  },
  {
   "cell_type": "code",
   "execution_count": null,
   "id": "86d1c9bf-3cad-4108-bdd7-1e755752c92d",
   "metadata": {},
   "outputs": [],
   "source": [
    "Real-Time Use:\n",
    "Projects: A base User class for a software application, and a derived AdminUser class with additional privileges.\n",
    "Scenario: In a company management system, you could use a Person base class and derive Employee and Manager classes to represent different roles."
   ]
  },
  {
   "cell_type": "code",
   "execution_count": null,
   "id": "493b9ea6-8508-44e0-9f71-ae6615c14bbe",
   "metadata": {},
   "outputs": [],
   "source": [
    "2. Multi-Level Inheritance\n",
    "Definition: In multi-level inheritance, a class derives from another class, which is already a derived class. This creates a chain of inheritance.\n",
    "Syntax:"
   ]
  },
  {
   "cell_type": "code",
   "execution_count": null,
   "id": "3827e215-0d77-4f78-a496-6c94afddec78",
   "metadata": {},
   "outputs": [],
   "source": [
    "class A:\n",
    "    # base class\n",
    "    \n",
    "class B(A):\n",
    "    # derived from A\n",
    "    \n",
    "class C(B):\n",
    "    # derived from B\n"
   ]
  },
  {
   "cell_type": "code",
   "execution_count": null,
   "id": "86b0a80a-c1ff-4d1a-b4b2-71025906afd4",
   "metadata": {},
   "outputs": [],
   "source": [
    "Example"
   ]
  },
  {
   "cell_type": "code",
   "execution_count": null,
   "id": "a427423c-218a-43d6-98ba-cf638ce54305",
   "metadata": {},
   "outputs": [],
   "source": [
    "class Animal:\n",
    "    def eat(self):\n",
    "        return \"Eating\"\n",
    "\n",
    "class Mammal(Animal):\n",
    "    def walk(self):\n",
    "        return \"Walking\"\n",
    "\n",
    "class Dog(Mammal):\n",
    "    def bark(self):\n",
    "        return \"Barking\"\n",
    "\n",
    "dog = Dog()\n",
    "print(dog.eat())    # Output: Eating\n",
    "print(dog.walk())   # Output: Walking\n",
    "print(dog.bark())   # Output: Barking\n"
   ]
  },
  {
   "cell_type": "code",
   "execution_count": null,
   "id": "39f9c6e8-9407-4426-87f2-de57e8c7beac",
   "metadata": {},
   "outputs": [],
   "source": [
    "Real-Time Use:\n",
    "Projects: A multi-level hierarchy for an e-commerce platform where Product is the base class,Clothing is derived from Product,\n",
    "and TShirt is derived from Clothing.\n",
    "Scenario: For an online course platform, you might have Course as the base class, ProgrammingCourse as a derived class,\n",
    "and PythonCourse as a further specialized class."
   ]
  },
  {
   "cell_type": "code",
   "execution_count": null,
   "id": "635814ae-a4ab-42bf-9d4e-6bb12c5413d9",
   "metadata": {},
   "outputs": [],
   "source": [
    "3. Multiple Inheritance\n",
    "Definition: A class can inherit attributes and methods from multiple base classes.\n",
    "Syntax"
   ]
  },
  {
   "cell_type": "code",
   "execution_count": null,
   "id": "1883eca1-0f9b-42de-9d74-4844fe7a78da",
   "metadata": {},
   "outputs": [],
   "source": [
    "class Base1:\n",
    "    # base class 1\n",
    "    \n",
    "class Base2:\n",
    "    # base class 2\n",
    "    \n",
    "class Derived(Base1, Base2):\n",
    "    # inherits from both Base1 and Base2\n"
   ]
  },
  {
   "cell_type": "code",
   "execution_count": null,
   "id": "2740794e-964c-4a66-ae16-177ce9e3a74d",
   "metadata": {},
   "outputs": [],
   "source": [
    "Example"
   ]
  },
  {
   "cell_type": "code",
   "execution_count": 8,
   "id": "9dfce552-5565-4e59-a42f-9af4d24e3973",
   "metadata": {},
   "outputs": [
    {
     "name": "stdout",
     "output_type": "stream",
     "text": [
      "Petrol Engine with Sedan Body\n"
     ]
    }
   ],
   "source": [
    "class Engine:\n",
    "    def engine_type(self):\n",
    "        return \"Petrol Engine\"\n",
    "\n",
    "class Body:\n",
    "    def body_type(self):\n",
    "        return \"Sedan Body\"\n",
    "\n",
    "class Car(Engine, Body):\n",
    "    def car_details(self):\n",
    "        return f\"{self.engine_type()} with {self.body_type()}\"\n",
    "\n",
    "car = Car()\n",
    "print(car.car_details())  # Output: Petrol Engine with Sedan Body\n"
   ]
  },
  {
   "cell_type": "code",
   "execution_count": null,
   "id": "4812da05-e5be-455a-a9f2-d89cf2d0e046",
   "metadata": {},
   "outputs": [],
   "source": [
    "Real-Time Use:\n",
    "Projects: In a software development environment, Employee and Freelancer classes can be combined into a HybridEmployee class.\n",
    "Scenario: For a smart home system, a LightController class and a TemperatureController class could be inherited together to create a SmartDevice class."
   ]
  },
  {
   "cell_type": "code",
   "execution_count": null,
   "id": "417011ea-129c-4fed-acc1-baf720e59691",
   "metadata": {},
   "outputs": [],
   "source": [
    "4. Hierarchical Inheritance\n",
    "Definition: Multiple child classes inherit from the same parent class.\n",
    "Syntax"
   ]
  },
  {
   "cell_type": "code",
   "execution_count": null,
   "id": "41665657-d356-454b-aeb5-ec7d26eb5678",
   "metadata": {},
   "outputs": [],
   "source": [
    "class Parent:\n",
    "    # parent class\n",
    "    \n",
    "class Child1(Parent):\n",
    "    # first child class\n",
    "    \n",
    "class Child2(Parent):\n",
    "    # second child class\n"
   ]
  },
  {
   "cell_type": "code",
   "execution_count": null,
   "id": "c192288a-4933-410f-b224-f601427ef8e8",
   "metadata": {},
   "outputs": [],
   "source": [
    "Example"
   ]
  },
  {
   "cell_type": "code",
   "execution_count": 10,
   "id": "6d12a4ca-ff71-4ffd-a58d-69c09e0c0999",
   "metadata": {},
   "outputs": [
    {
     "name": "stdout",
     "output_type": "stream",
     "text": [
      "78.5\n",
      "16\n"
     ]
    }
   ],
   "source": [
    "class Shape:\n",
    "    def area(self):\n",
    "        return \"Calculating area\"\n",
    "\n",
    "class Circle(Shape):\n",
    "    def area(self, radius):\n",
    "        return 3.14 * radius * radius\n",
    "\n",
    "class Square(Shape):\n",
    "    def area(self, side):\n",
    "        return side * side\n",
    "\n",
    "circle = Circle()\n",
    "square = Square()\n",
    "print(circle.area(5))  # Output: 78.5\n",
    "print(square.area(4))  # Output: 16\n"
   ]
  },
  {
   "cell_type": "code",
   "execution_count": null,
   "id": "a33e3fb0-0d7c-4ced-a6aa-fe34b8dd66fc",
   "metadata": {},
   "outputs": [],
   "source": [
    "Real-Time Use:\n",
    "Projects: A Notification system where different types like EmailNotification and SMSNotification classes inherit from a single Notification base class.\n",
    "Scenario: In a library system, a LibraryItem base class can have Book, Magazine, and DVD as derived classes."
   ]
  },
  {
   "cell_type": "code",
   "execution_count": null,
   "id": "5c88b75e-bad5-4cfb-b4b6-38219b29d618",
   "metadata": {},
   "outputs": [],
   "source": [
    "Hybrid Inheritance\n",
    "Definition: A combination of multiple types of inheritance (single, multiple, multi-level, hierarchical). \n",
    "It demonstrates flexibility in OOP.\n",
    "Example Structure: A base class has two child classes that, in turn, have their own derived classes. \n",
    "These derived classes may further have relationships with each other.\n",
    "Example"
   ]
  },
  {
   "cell_type": "code",
   "execution_count": null,
   "id": "3dc0f274-fffc-408f-9632-867c522abb93",
   "metadata": {},
   "outputs": [],
   "source": [
    "class A:\n",
    "    def method_a(self):\n",
    "        return \"Method A\"\n",
    "\n",
    "class B(A):\n",
    "    def method_b(self):\n",
    "        return \"Method B\"\n",
    "\n",
    "class C(A):\n",
    "    def method_c(self):\n",
    "        return \"Method C\"\n",
    "\n",
    "class D(B, C):\n",
    "    def method_d(self):\n",
    "        return \"Method D\"\n",
    "\n",
    "d = D()\n",
    "print(d.method_a())  # Output: Method A\n",
    "print(d.method_b())  # Output: Method B\n",
    "print(d.method_c())  # Output: Method C\n",
    "print(d.method_d())  # Output: Method D\n"
   ]
  },
  {
   "cell_type": "code",
   "execution_count": null,
   "id": "d5a6a7ce-db32-40cb-8d74-a57f9cd69400",
   "metadata": {},
   "outputs": [],
   "source": [
    "Real-Time Use:\n",
    "Projects: A multi-functional vehicle management system where Vehicle, ElectricVehicle, and AutonomousVehicle classes combine various inheritance types.\n",
    "Scenario: In an education system, a Person class can have Teacher and Student classes derived from it. Further,\n",
    "the Teacher class can combine with other classes like SportsCoach to create a specialized PhysicalEducationTeacher."
   ]
  },
  {
   "cell_type": "code",
   "execution_count": null,
   "id": "f11a04c1-da5f-4d2f-8470-be03468e2791",
   "metadata": {},
   "outputs": [],
   "source": [
    "Assignment: Library System\n",
    "Objective: Write a Python program to implement different types of inheritance for a simple library system.\n",
    "\n",
    "Instructions:\n",
    "\n",
    "Create a base class called LibraryItem with a method details() that prints \"This is a library item\".\n",
    "Create a derived class called Book that inherits from LibraryItem and adds a method category() that prints \"This is a book\".\n",
    "Create another derived class called Magazine that also inherits from LibraryItem and adds a method category() that prints \"This is a magazine\".\n",
    "Create a multi-level inheritance:\n",
    "Create a class called EBook that inherits from Book and adds a method format() that prints \"This is a digital book format\".\n",
    "Demonstrate multiple inheritance:\n",
    "Create a class called SpecialEdition that inherits from both Book and Magazine, and adds a method edition_type() that \n",
    "prints \"This is a special edition item\".\n",
    "Program Requirements:\n",
    "\n",
    "Call the methods of each class and print the outputs to show how inheritance works."
   ]
  },
  {
   "cell_type": "code",
   "execution_count": 20,
   "id": "78f17683-0118-4931-8789-67de44cf579b",
   "metadata": {},
   "outputs": [
    {
     "name": "stdout",
     "output_type": "stream",
     "text": [
      "This is a library item\n",
      "This is a book\n",
      "This is a magazine\n",
      "This is a digital book format\n",
      "This is a special edition item\n"
     ]
    }
   ],
   "source": [
    "class LibraryItem:\n",
    "    def details():\n",
    "        print(\"This is a library item\")\n",
    "\n",
    "class Book(LibraryItem):\n",
    "    def category():\n",
    "        print(\"This is a book\")\n",
    "\n",
    "class Magazine(LibraryItem):\n",
    "    def category():\n",
    "        print(\"This is a magazine\")\n",
    "\n",
    "class EBook(Book):\n",
    "    def format():\n",
    "        print(\"This is a digital book format\")\n",
    "\n",
    "class SpecialEdition(Book, Magazine):\n",
    "    def edition_type():\n",
    "        print(\"This is a special edition item\")\n",
    "\n",
    "# Testing the classes\n",
    "LibraryItem.details()\n",
    "Book.category()\n",
    "Magazine.category()\n",
    "EBook.format()\n",
    "SpecialEdition.edition_type()\n"
   ]
  },
  {
   "cell_type": "code",
   "execution_count": null,
   "id": "175434b0-d16d-4b0d-a374-1636c26e4bd3",
   "metadata": {},
   "outputs": [],
   "source": []
  },
  {
   "cell_type": "code",
   "execution_count": null,
   "id": "d9a6f53f-eb1a-4ac0-a1de-93d0aa93fb98",
   "metadata": {},
   "outputs": [],
   "source": [
    "experiment 10"
   ]
  },
  {
   "cell_type": "code",
   "execution_count": null,
   "id": "50585523-bcb5-4a92-a6ae-ad84407eb2e5",
   "metadata": {},
   "outputs": [],
   "source": [
    "Notes on Packages and Libraries in Python\n",
    "Introduction to Packages\n",
    "In Python, packages organize code like folders organize files.\n",
    "A package can contain multiple modules (Python files), making code management easier.\n",
    "This is useful in larger projects, where related functions are grouped for easier access.\n",
    "Creating a Custom Package\n",
    "Setup:\n",
    "\n",
    "Create a new folder, e.g., mypckg.\n",
    "Inside mypckg, create two Python files, mod1.py and mod2.py.\n",
    "Add an __init__.py file in mypckg. This file can be empty or specify what should be imported when mypckg is imported.\n",
    "Example:\n",
    "\n",
    "mod1.py"
   ]
  },
  {
   "cell_type": "code",
   "execution_count": 1,
   "id": "2e925722-02be-4402-9a83-8e3015ee4595",
   "metadata": {},
   "outputs": [],
   "source": [
    "def greet():\n",
    "    return \"Hello from mod1\"\n"
   ]
  },
  {
   "cell_type": "code",
   "execution_count": null,
   "id": "93f2c675-f3cb-4496-9791-40bbfd3d04e7",
   "metadata": {},
   "outputs": [],
   "source": [
    "mod2.py:\n"
   ]
  },
  {
   "cell_type": "code",
   "execution_count": 3,
   "id": "cd8d112b-e178-499b-bac0-1bdc5d05ceda",
   "metadata": {},
   "outputs": [],
   "source": [
    "def farewell():\n",
    "    return \"Goodbye from mod2\"\n"
   ]
  },
  {
   "cell_type": "code",
   "execution_count": null,
   "id": "e5b575f0-884c-4c58-8774-22c651fbc647",
   "metadata": {},
   "outputs": [],
   "source": [
    "Now, from any Python file in the project, you can import and use the package:"
   ]
  },
  {
   "cell_type": "code",
   "execution_count": null,
   "id": "87066f70-5263-4710-9500-b1ef70f1f6d9",
   "metadata": {},
   "outputs": [],
   "source": [
    "from mypckg import mod1, mod2\n",
    "\n",
    "print(mod1.greet())       # Output: Hello from mod1\n",
    "print(mod2.farewell())    # Output: Goodbye from mod2\n"
   ]
  },
  {
   "cell_type": "code",
   "execution_count": null,
   "id": "aa09a2f8-cd6f-48a5-87bf-3444a7e596ce",
   "metadata": {},
   "outputs": [],
   "source": [
    "Using Standard Libraries\n",
    "Python has several built-in libraries useful across various fields. Here’s a quick overview of some important ones:\n",
    "\n",
    "Pandas:\n",
    "\n",
    "Used for data manipulation and analysis, especially with tables and time series.\n",
    "Example"
   ]
  },
  {
   "cell_type": "code",
   "execution_count": 7,
   "id": "d7660232-8db2-406d-9f47-2733effdb963",
   "metadata": {},
   "outputs": [
    {
     "name": "stdout",
     "output_type": "stream",
     "text": [
      "    Name  Age\n",
      "0  Alice   25\n",
      "1    Bob   30\n"
     ]
    }
   ],
   "source": [
    "import pandas as pd\n",
    "data = pd.DataFrame({\"Name\": [\"Alice\", \"Bob\"], \"Age\": [25, 30]})\n",
    "print(data)\n"
   ]
  },
  {
   "cell_type": "code",
   "execution_count": null,
   "id": "ba0e3f22-f3aa-463b-8961-23c31650cd87",
   "metadata": {},
   "outputs": [],
   "source": [
    "NumPy:\n",
    "\n",
    "Essential for numerical operations, especially with arrays and matrices.\n",
    "Example"
   ]
  },
  {
   "cell_type": "code",
   "execution_count": 9,
   "id": "8ef44e5d-7805-42b3-a62a-03b3acfa3ab6",
   "metadata": {},
   "outputs": [
    {
     "name": "stdout",
     "output_type": "stream",
     "text": [
      "[2 4 6]\n"
     ]
    }
   ],
   "source": [
    "import numpy as np\n",
    "arr = np.array([1, 2, 3])\n",
    "print(arr * 2)  # Output: [2, 4, 6]\n"
   ]
  },
  {
   "cell_type": "code",
   "execution_count": null,
   "id": "32218d47-34bb-4217-96e5-c2605d5a6fba",
   "metadata": {},
   "outputs": [],
   "source": [
    "Requests:\n",
    "\n",
    "Facilitates making HTTP requests, helpful for web-related data.\n",
    "Example:"
   ]
  },
  {
   "cell_type": "code",
   "execution_count": 11,
   "id": "63a684e6-4aa7-470a-87fc-389201f2c667",
   "metadata": {},
   "outputs": [
    {
     "name": "stdout",
     "output_type": "stream",
     "text": [
      "200\n"
     ]
    }
   ],
   "source": [
    "import requests\n",
    "response = requests.get(\"https://api.github.com\")\n",
    "print(response.status_code)  # Output: 200 (OK)\n"
   ]
  },
  {
   "cell_type": "code",
   "execution_count": null,
   "id": "e2dc14bd-c1e7-4212-aa0d-a896420af5c1",
   "metadata": {},
   "outputs": [],
   "source": [
    "SciPy:\n",
    "\n",
    "Built on NumPy, used for scientific and technical computations.\n",
    "Example"
   ]
  },
  {
   "cell_type": "code",
   "execution_count": 13,
   "id": "ee07e769-7b2b-40d6-a541-b296e138214b",
   "metadata": {},
   "outputs": [
    {
     "name": "stdout",
     "output_type": "stream",
     "text": [
      "120.0\n"
     ]
    }
   ],
   "source": [
    "from scipy.special import factorial\n",
    "print(factorial(5))  # Output: 120\n"
   ]
  },
  {
   "cell_type": "code",
   "execution_count": null,
   "id": "3f0c263e-057d-478a-8f6a-8fda52a15da9",
   "metadata": {},
   "outputs": [],
   "source": [
    "SQLite3:\n",
    "\n",
    "A lightweight database management library.\n",
    "Example:"
   ]
  },
  {
   "cell_type": "code",
   "execution_count": 15,
   "id": "f1ef8deb-02d4-45a6-ad84-a66458bd7b06",
   "metadata": {},
   "outputs": [
    {
     "data": {
      "text/plain": [
       "<sqlite3.Cursor at 0x2639c288840>"
      ]
     },
     "execution_count": 15,
     "metadata": {},
     "output_type": "execute_result"
    }
   ],
   "source": [
    "import sqlite3\n",
    "conn = sqlite3.connect(':memory:')\n",
    "cursor = conn.cursor()\n",
    "cursor.execute(\"CREATE TABLE students (name TEXT, age INTEGER)\")\n"
   ]
  },
  {
   "cell_type": "code",
   "execution_count": null,
   "id": "c82df900-d90b-4c27-a6a0-17ab69606a79",
   "metadata": {},
   "outputs": [],
   "source": [
    "Conclusion\n",
    "Understanding packages and libraries is essential for Python programming, \n",
    "as it allows better organization and use of powerful tools without writing everything from scratch. \n",
    "This knowledge will help students structure projects and use resources more effectively."
   ]
  },
  {
   "cell_type": "code",
   "execution_count": null,
   "id": "38143696-e71a-4137-a68c-cc33685ac9f7",
   "metadata": {},
   "outputs": [],
   "source": []
  },
  {
   "cell_type": "code",
   "execution_count": null,
   "id": "34746857-a734-4096-b631-db1675d403f5",
   "metadata": {},
   "outputs": [],
   "source": []
  }
 ],
 "metadata": {
  "kernelspec": {
   "display_name": "Python 3 (ipykernel)",
   "language": "python",
   "name": "python3"
  },
  "language_info": {
   "codemirror_mode": {
    "name": "ipython",
    "version": 3
   },
   "file_extension": ".py",
   "mimetype": "text/x-python",
   "name": "python",
   "nbconvert_exporter": "python",
   "pygments_lexer": "ipython3",
   "version": "3.12.4"
  }
 },
 "nbformat": 4,
 "nbformat_minor": 5
}
