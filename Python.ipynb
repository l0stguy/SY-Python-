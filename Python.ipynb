{
 "cells": [
  {
   "cell_type": "code",
   "execution_count": null,
   "id": "b4199002-4b98-45ee-9076-67983534f6d0",
   "metadata": {},
   "outputs": [],
   "source": [
    "experiment no2"
   ]
  },
  {
   "cell_type": "code",
   "execution_count": null,
   "id": "35d7070f-2b2b-44af-b4e4-ba0438fb67e3",
   "metadata": {},
   "outputs": [],
   "source": [
    "1. Purposefully Raising and Correcting an Indentation Error\n",
    "In Python, indentation is essential as it defines blocks of code. When the indentation isn't consistent, Python raises an IndentationError.\n",
    "\n",
    "Example:\n",
    "Here's a program with an indentation error:"
   ]
  },
  {
   "cell_type": "code",
   "execution_count": 1,
   "id": "7da9592f-00d5-4e2c-9214-9db50ff5bf46",
   "metadata": {},
   "outputs": [
    {
     "ename": "IndentationError",
     "evalue": "expected an indented block after 'if' statement on line 3 (1093505221.py, line 4)",
     "output_type": "error",
     "traceback": [
      "\u001b[1;36m  Cell \u001b[1;32mIn[1], line 4\u001b[1;36m\u001b[0m\n\u001b[1;33m    print(\"The number is positive\")  # This line should be indented to belong to the if block\u001b[0m\n\u001b[1;37m    ^\u001b[0m\n\u001b[1;31mIndentationError\u001b[0m\u001b[1;31m:\u001b[0m expected an indented block after 'if' statement on line 3\n"
     ]
    }
   ],
   "source": [
    "# This will raise an IndentationError\n",
    "num = 5\n",
    "if num > 0:\n",
    "print(\"The number is positive\")  # This line should be indented to belong to the if block\n"
   ]
  },
  {
   "cell_type": "code",
   "execution_count": null,
   "id": "bb321377-a8b3-479b-bf15-aa5813730efd",
   "metadata": {},
   "outputs": [],
   "source": [
    "2. Program to Compute Distance Between Two Points\n",
    "To compute the distance between two points in a plane, we use the Pythagorean theorem, which states that:"
   ]
  },
  {
   "cell_type": "code",
   "execution_count": null,
   "id": "de6eabe3-efa7-493b-a5f5-ac06c48da38a",
   "metadata": {},
   "outputs": [],
   "source": [
    "import math\n",
    "\n",
    "# Get coordinates of the two points from the user\n",
    "x1 = float(input(\"Enter x-coordinate of the first point: \"))\n",
    "y1 = float(input(\"Enter y-coordinate of the first point: \"))\n",
    "x2 = float(input(\"Enter x-coordinate of the second point: \"))\n",
    "y2 = float(input(\"Enter y-coordinate of the second point: \"))\n",
    "\n",
    "# Calculate the distance\n",
    "distance = math.sqrt((x2 - x1)**2 + (y2 - y1)**2)\n",
    "\n",
    "print(\"The distance between the points is:\", distance)\n"
   ]
  },
  {
   "cell_type": "code",
   "execution_count": null,
   "id": "d43c052d-00ee-426b-8ce1-b852467e6faa",
   "metadata": {},
   "outputs": [],
   "source": [
    "Code Explanation\n",
    "The math module is imported to use mathematical functions. Here, it’s specifically used for the sqrt() function, which calculates the square root.\n",
    "Each input is converted to a float because coordinates can be decimal values, and floating-point numbers allow for more precision.\n",
    "                                                                                                              (x2 - x1)**2 calculates the square of the difference in the x-coordinates.\n",
    "(y2 - y1)**2 calculates the square of the difference in the y-coordinates.\n",
    "(x2 - x1)**2 + (y2 - y1)**2 gives the sum of these squared differences.\n",
    "math.sqrt(...) takes the square root of the sum, giving the Euclidean distance between the points."
   ]
  },
  {
   "cell_type": "code",
   "execution_count": null,
   "id": "7325d47c-163a-44e0-b6cc-8fa3c892d8a5",
   "metadata": {},
   "outputs": [],
   "source": [
    "3.Program to Add Two Numbers as Command-Line Arguments\n",
    "Command-line arguments allow users to pass values directly when they execute the script. \n",
    "In Python, these arguments can be accessed using the sys module."
   ]
  },
  {
   "cell_type": "code",
   "execution_count": null,
   "id": "51b866af-99be-4349-b90d-cb633359ae80",
   "metadata": {},
   "outputs": [],
   "source": [
    "import sys\n",
    "\n",
    "# Check if there are enough arguments provided\n",
    "if len(sys.argv) < 3:\n",
    "    print(\"Usage: python add.py <num1> <num2>\")\n",
    "    sys.exit(1)\n",
    "\n",
    "# Read numbers from command line arguments\n",
    "num1 = float(sys.argv[1])\n",
    "num2 = float(sys.argv[2])\n",
    "\n",
    "# Calculate and print the sum\n",
    "result = num1 + num2\n",
    "print(\"The sum is:\", result)\n"
   ]
  },
  {
   "cell_type": "code",
   "execution_count": null,
   "id": "0afd43f7-3398-49e2-b913-fbde86994102",
   "metadata": {},
   "outputs": [],
   "source": [
    "sys.argv is a list where sys.argv[0] is the name of the script (add.py).\n",
    "sys.argv[1] and sys.argv[2] represent the first and second numbers passed as arguments."
   ]
  },
  {
   "cell_type": "code",
   "execution_count": null,
   "id": "e0de208e-adc8-4157-a5df-d5470762db7e",
   "metadata": {},
   "outputs": [],
   "source": [
    "Summary-\n",
    "Indentation: Python uses indentation to define code blocks, which is different from many other languages where indentation is only for readability.\n",
    "\n",
    "Distance Calculation: By applying the Pythagorean theorem, we can find the distance between two points in a plane, which is a basic use of the math.sqrt function.\n",
    "\n",
    "Command-Line Arguments: Python's sys module allows scripts to accept arguments from the command line. This enables scripts to interact with users and receive data without hardcoding it into the program.\n",
    "\n"
   ]
  },
  {
   "cell_type": "code",
   "execution_count": null,
   "id": "b25b2194-acec-4bf7-b449-23bbc1e2f2b2",
   "metadata": {},
   "outputs": [],
   "source": []
  },
  {
   "cell_type": "code",
   "execution_count": null,
   "id": "5f28445a-3546-4449-ad81-67806c2c4a50",
   "metadata": {},
   "outputs": [],
   "source": [
    "Experiment3"
   ]
  },
  {
   "cell_type": "code",
   "execution_count": null,
   "id": "e099f158-fb06-43c2-a303-d02f90d9e9bf",
   "metadata": {},
   "outputs": [],
   "source": [
    "1. Program to Implement Numeric and Boolean Data Types\n",
    "Numeric Data Types\n",
    "In Python, numeric data types represent different kinds of numeric values, such as integers, floats, and complex numbers.\n",
    "\n",
    "Integer: Whole numbers without a decimal (e.g., 5, -3).\n",
    "Float: Numbers with decimal points or in scientific notation (e.g., 3.14, 1.5e3).\n",
    "Complex: Numbers with a real and imaginary part, represented as a + bj.\n",
    "Code Example:\n",
    "\n"
   ]
  },
  {
   "cell_type": "code",
   "execution_count": 3,
   "id": "9cd38819-9d25-4521-8a24-7981d90fe8ce",
   "metadata": {},
   "outputs": [
    {
     "name": "stdout",
     "output_type": "stream",
     "text": [
      "Integer: 10\n",
      "Float: 10.5\n",
      "Complex: (3+4j)\n"
     ]
    }
   ],
   "source": [
    "# Integer\n",
    "int_num = 10\n",
    "print(\"Integer:\", int_num)\n",
    "\n",
    "# Float\n",
    "float_num = 10.5\n",
    "print(\"Float:\", float_num)\n",
    "\n",
    "# Complex\n",
    "complex_num = 3 + 4j\n",
    "print(\"Complex:\", complex_num)\n"
   ]
  },
  {
   "cell_type": "code",
   "execution_count": null,
   "id": "cd093b61-ec3c-4022-a231-08c7eaf117d2",
   "metadata": {},
   "outputs": [],
   "source": [
    "Boolean Data Type\n",
    "Booleans represent one of two values: True or False.\n",
    "\n",
    "Boolean Operations: Use logical operators like and, or, not, ==, !=."
   ]
  },
  {
   "cell_type": "code",
   "execution_count": 5,
   "id": "e14d1fcf-708f-45d8-bb1e-62da38a9bb95",
   "metadata": {},
   "outputs": [
    {
     "name": "stdout",
     "output_type": "stream",
     "text": [
      "Boolean is_student: True\n",
      "Boolean is_teacher: False\n",
      "a and b: False\n",
      "a or b: True\n",
      "not a: False\n"
     ]
    }
   ],
   "source": [
    "# Boolean values\n",
    "is_student = True\n",
    "is_teacher = False\n",
    "print(\"Boolean is_student:\", is_student)\n",
    "print(\"Boolean is_teacher:\", is_teacher)\n",
    "\n",
    "# Boolean operations\n",
    "a = True\n",
    "b = False\n",
    "print(\"a and b:\", a and b)  # False\n",
    "print(\"a or b:\", a or b)    # True\n",
    "print(\"not a:\", not a)      # False\n"
   ]
  },
  {
   "cell_type": "code",
   "execution_count": null,
   "id": "8da84483-dd60-4fc2-93d3-af0e41d74744",
   "metadata": {},
   "outputs": [],
   "source": [
    "2. Program to Implement Set, Dictionary, List, and Tuple Data Types\n",
    "Set\n",
    "A set is an unordered collection of unique elements. You can create sets with curly braces {} or the set() function."
   ]
  },
  {
   "cell_type": "code",
   "execution_count": null,
   "id": "ac2ee9fc-ec0e-4563-a2fa-64f8e6775991",
   "metadata": {},
   "outputs": [],
   "source": [
    "Python Set is the unordered collection of the data type. It is iterable, mutable (can modify\n",
    "after creation), and has unique elements. In set, the order of the elements is undefined; it\n",
    "may return the changed sequence of the element. The set is created by using a built-in\n",
    "function set (), or a sequence of elements is passed in the curly braces and separated by\n",
    "the comma. It can contain various types of values."
   ]
  },
  {
   "cell_type": "code",
   "execution_count": 7,
   "id": "f2170ddc-2781-4842-831b-92f8bc676d04",
   "metadata": {},
   "outputs": [
    {
     "name": "stdout",
     "output_type": "stream",
     "text": [
      "Set: {'cherry', 'banana', 'apple'}\n",
      "Set after adding: {'cherry', 'banana', 'apple', 'orange'}\n",
      "Set after removing: {'cherry', 'apple', 'orange'}\n"
     ]
    }
   ],
   "source": [
    "# Creating a set\n",
    "fruits = {\"apple\", \"banana\", \"cherry\"}\n",
    "print(\"Set:\", fruits)\n",
    "\n",
    "# Adding an element\n",
    "fruits.add(\"orange\")\n",
    "print(\"Set after adding:\", fruits)\n",
    "\n",
    "# Removing an element\n",
    "fruits.remove(\"banana\")\n",
    "print(\"Set after removing:\", fruits)\n"
   ]
  },
  {
   "cell_type": "code",
   "execution_count": null,
   "id": "5906e0aa-d965-429a-bbe3-9d0f9a3cc14f",
   "metadata": {},
   "outputs": [],
   "source": [
    "Dictionary\n",
    "A dictionary is an unordered collection of key-value pairs, created using curly braces {}. \n",
    "Keys are unique and are used to access the corresponding values."
   ]
  },
  {
   "cell_type": "code",
   "execution_count": null,
   "id": "34e4980f-ef84-469d-939f-6ea0ea1ace91",
   "metadata": {},
   "outputs": [],
   "source": [
    "Dictionary is an unordered set of a key-value pair of items. It is like an associative array\n",
    "or a hash table where each key stores a specific value. Key can hold any primitive data\n",
    "type, whereas value is an arbitrary Python object. The items in the dictionary are\n",
    "separated with the comma (,) and enclosed in the curly braces {}."
   ]
  },
  {
   "cell_type": "code",
   "execution_count": 9,
   "id": "93ab24a3-feac-45d0-9f02-88cf4d2230ba",
   "metadata": {},
   "outputs": [
    {
     "name": "stdout",
     "output_type": "stream",
     "text": [
      "Dictionary: {'name': 'Alice', 'age': 20, 'grade': 'A'}\n",
      "Student's name: Alice\n",
      "Dictionary after adding: {'name': 'Alice', 'age': 20, 'grade': 'A', 'subject': 'Math'}\n"
     ]
    }
   ],
   "source": [
    "# Creating a dictionary\n",
    "student = {\"name\": \"Alice\", \"age\": 20, \"grade\": \"A\"}\n",
    "print(\"Dictionary:\", student)\n",
    "\n",
    "# Accessing values\n",
    "print(\"Student's name:\", student[\"name\"])\n",
    "\n",
    "# Adding a new key-value pair\n",
    "student[\"subject\"] = \"Math\"\n",
    "print(\"Dictionary after adding:\", student)\n"
   ]
  },
  {
   "cell_type": "code",
   "execution_count": null,
   "id": "49da0c7f-532a-49d2-9611-bd3b1b9eb5dd",
   "metadata": {},
   "outputs": [],
   "source": [
    "List\n",
    "Lists are ordered collections of elements, created using square brackets []. Lists are mutable, meaning we can change their elements."
   ]
  },
  {
   "cell_type": "code",
   "execution_count": null,
   "id": "fc1515cc-8ab1-4285-b7b6-a47b932f08b7",
   "metadata": {},
   "outputs": [],
   "source": [
    "Python Lists are similar to arrays in C. However, the list can contain data of different\n",
    "types. The items stored in the list are separated with a comma (,) and enclosed within\n",
    "square brackets [].We can use slice [:] operators to access the data of the list. The\n",
    "concatenation operator (+) and repetition operator (*) works with the list in the same way\n",
    "as they were working with the strings."
   ]
  },
  {
   "cell_type": "code",
   "execution_count": 11,
   "id": "642e1329-b11e-49a4-8294-bba518b0a123",
   "metadata": {},
   "outputs": [
    {
     "name": "stdout",
     "output_type": "stream",
     "text": [
      "List: [1, 2, 3, 4, 5]\n",
      "First element: 1\n",
      "List after appending: [1, 2, 3, 4, 5, 6]\n",
      "List after removing 3: [1, 2, 4, 5, 6]\n"
     ]
    }
   ],
   "source": [
    "# Creating a list\n",
    "numbers = [1, 2, 3, 4, 5]\n",
    "print(\"List:\", numbers)\n",
    "\n",
    "# Accessing elements\n",
    "print(\"First element:\", numbers[0])\n",
    "\n",
    "# Adding elements\n",
    "numbers.append(6)\n",
    "print(\"List after appending:\", numbers)\n",
    "\n",
    "# Removing elements\n",
    "numbers.remove(3)\n",
    "print(\"List after removing 3:\", numbers)\n"
   ]
  },
  {
   "cell_type": "code",
   "execution_count": null,
   "id": "aacd7ce8-cfcd-4a95-8043-afc7476e2b79",
   "metadata": {},
   "outputs": [],
   "source": [
    "Tuple\n",
    "Tuples are similar to lists but are immutable (cannot be changed after creation). Tuples are created using parentheses ()."
   ]
  },
  {
   "cell_type": "code",
   "execution_count": null,
   "id": "c5ad2c3e-fed9-4f54-b1cf-e23daef66d41",
   "metadata": {},
   "outputs": [],
   "source": [
    "A tuple is similar to the list in many ways. Like lists, tuples also contain the collection\n",
    "of the items of different data types. The items of the tuple are separated with a comma\n",
    "(,) and enclosed in parentheses ().\n",
    "A tuple is a read-only data structure as we can't modify the size and value of the items\n",
    "of a tuple."
   ]
  },
  {
   "cell_type": "code",
   "execution_count": 13,
   "id": "208de358-10e5-4788-89ba-6c8d3cc11f16",
   "metadata": {},
   "outputs": [
    {
     "name": "stdout",
     "output_type": "stream",
     "text": [
      "Tuple: (10, 20)\n",
      "First element: 10\n"
     ]
    }
   ],
   "source": [
    "# Creating a tuple\n",
    "coordinates = (10, 20)\n",
    "print(\"Tuple:\", coordinates)\n",
    "\n",
    "# Accessing elements\n",
    "print(\"First element:\", coordinates[0])\n",
    "\n",
    "# Trying to modify (will raise an error)\n",
    "# coordinates[0] = 15  # This will raise a TypeError because tuples are immutable\n"
   ]
  },
  {
   "cell_type": "code",
   "execution_count": null,
   "id": "92de8b40-3796-4228-aeb4-41223dcbf5bc",
   "metadata": {},
   "outputs": [],
   "source": [
    "Summary\n",
    "Data types in Python represent the kind of data a variable can hold. Different data types allow us to use Python effectively for various applications:\n",
    "\n",
    "Numeric: Represents integer, float, and complex values, useful for mathematical operations.\n",
    "Boolean: Represents logical values (True and False), used for conditional operations.\n",
    "Set: An unordered collection of unique elements, useful for mathematical operations and data deduplication.\n",
    "Dictionary: A collection of key-value pairs, useful for associative data access.\n",
    "List: An ordered, mutable collection of elements, widely used for storing data sequences.\n",
    "Tuple: An ordered, immutable collection of elements, useful for data that should not change.\n"
   ]
  },
  {
   "cell_type": "code",
   "execution_count": null,
   "id": "719db275-f3ad-4b0f-aa8a-ac3c4746fbf6",
   "metadata": {},
   "outputs": [],
   "source": []
  },
  {
   "cell_type": "code",
   "execution_count": null,
   "id": "f81b9812-5812-4adf-b877-3d5a1fca6847",
   "metadata": {},
   "outputs": [],
   "source": [
    "experiment4"
   ]
  },
  {
   "cell_type": "code",
   "execution_count": null,
   "id": "d7e133af-099e-4c62-937a-4d8f1ffb81c6",
   "metadata": {},
   "outputs": [],
   "source": [
    "range()\n",
    "With the help of the range() function, we may produce a series of numbers. range(10) will\n",
    "produce values between 0 and 9. (10 numbers). We can give specific start, stop, and step size\n",
    "values in the manner range(start, stop, step size)"
   ]
  },
  {
   "cell_type": "code",
   "execution_count": 31,
   "id": "ad979854-b0df-4458-87a6-acdb935c9ecd",
   "metadata": {},
   "outputs": [
    {
     "name": "stdout",
     "output_type": "stream",
     "text": [
      "range(0, 15)\n",
      "[0, 1, 2, 3, 4, 5, 6, 7, 8, 9, 10, 11, 12, 13, 14]\n",
      "[4, 5, 6, 7, 8]\n",
      "[5, 9, 13, 17, 21]\n"
     ]
    }
   ],
   "source": [
    "print(range(15))\n",
    "print(list(range(15)))\n",
    "print(list(range(4,9)))\n",
    "print(list(range(5,25,4)))"
   ]
  },
  {
   "cell_type": "code",
   "execution_count": null,
   "id": "23a6536d-2bf8-4618-ac45-f85a0027da42",
   "metadata": {},
   "outputs": [],
   "source": [
    "1. for Loop\n",
    "The for loop is used to iterate over a sequence (like a list, tuple, string, or range of numbers) and run a block of code for each item."
   ]
  },
  {
   "cell_type": "code",
   "execution_count": null,
   "id": "b88c1506-9555-4db0-a05d-b8c34b2c6d08",
   "metadata": {},
   "outputs": [],
   "source": [
    "for item in sequence:\n",
    "    # Code to execute for each item\n"
   ]
  },
  {
   "cell_type": "code",
   "execution_count": 15,
   "id": "6fa96bdc-622f-4b29-aa98-2ef36092cad7",
   "metadata": {},
   "outputs": [
    {
     "name": "stdout",
     "output_type": "stream",
     "text": [
      "0\n",
      "1\n",
      "2\n",
      "3\n",
      "4\n"
     ]
    }
   ],
   "source": [
    "for i in range(5):  # range(5) generates numbers from 0 to 4\n",
    "    print(i)\n"
   ]
  },
  {
   "cell_type": "code",
   "execution_count": null,
   "id": "ba872c47-a534-460f-ad6e-c32ac88d9c0e",
   "metadata": {},
   "outputs": [],
   "source": [
    "2. while Loop\n",
    "The while loop repeats as long as a given condition is True. It’s used when you don’t know the number of iterations in advance and want the loop to continue until a condition changes.\n",
    "\n",
    "Syntax:"
   ]
  },
  {
   "cell_type": "code",
   "execution_count": null,
   "id": "eb7b984d-55fc-401b-b9b6-4608fcbf53f3",
   "metadata": {},
   "outputs": [],
   "source": [
    "while condition:\n",
    "    # Code to execute while condition is True\n"
   ]
  },
  {
   "cell_type": "code",
   "execution_count": 17,
   "id": "8a757ae1-a5e1-47ac-85f1-b31b01b59184",
   "metadata": {},
   "outputs": [
    {
     "name": "stdout",
     "output_type": "stream",
     "text": [
      "3\n",
      "2\n",
      "1\n"
     ]
    }
   ],
   "source": [
    "count = 3\n",
    "while count > 0:\n",
    "    print(count)\n",
    "    count -= 1  # Decrease count by 1 each time\n"
   ]
  },
  {
   "cell_type": "code",
   "execution_count": null,
   "id": "cba1b760-f296-438f-b9a6-772432fe4df1",
   "metadata": {},
   "outputs": [],
   "source": [
    "continue Statement\n",
    "The continue statement skips the current iteration and moves to the next one in the loop."
   ]
  },
  {
   "cell_type": "code",
   "execution_count": 19,
   "id": "c57573bd-fcc1-4a65-a887-561f366408c6",
   "metadata": {},
   "outputs": [
    {
     "name": "stdout",
     "output_type": "stream",
     "text": [
      "0\n",
      "1\n",
      "3\n",
      "4\n"
     ]
    }
   ],
   "source": [
    "for i in range(5):\n",
    "    if i == 2:\n",
    "        continue  # Skip the rest of this loop when i is 2\n",
    "    print(i)\n"
   ]
  },
  {
   "cell_type": "code",
   "execution_count": null,
   "id": "e3d2196c-aa93-44eb-80d6-ba1cb4f8a2f4",
   "metadata": {},
   "outputs": [],
   "source": [
    "break Statement\n",
    "The break statement stops the loop immediately when encountered."
   ]
  },
  {
   "cell_type": "code",
   "execution_count": 21,
   "id": "0f2eace2-35d1-4ab8-a618-f887e50f3efa",
   "metadata": {},
   "outputs": [
    {
     "name": "stdout",
     "output_type": "stream",
     "text": [
      "0\n",
      "1\n",
      "2\n"
     ]
    }
   ],
   "source": [
    "for i in range(5):\n",
    "    if i == 3:\n",
    "        break  # Exit the loop completely when i is 3\n",
    "    print(i)\n"
   ]
  },
  {
   "cell_type": "code",
   "execution_count": null,
   "id": "50f87e8e-953e-440c-9af1-3718c03dda11",
   "metadata": {},
   "outputs": [],
   "source": [
    "pass Statement\n",
    "The pass statement does nothing and acts as a placeholder. It’s useful when you have a block of code you want to leave empty for now"
   ]
  },
  {
   "cell_type": "code",
   "execution_count": 23,
   "id": "70c8e551-5167-4070-a19d-1e627ec67294",
   "metadata": {},
   "outputs": [
    {
     "name": "stdout",
     "output_type": "stream",
     "text": [
      "0\n",
      "1\n",
      "2\n",
      "3\n",
      "4\n"
     ]
    }
   ],
   "source": [
    "for i in range(5):\n",
    "    if i == 3:\n",
    "        pass  # Does nothing, just moves to the next iteration\n",
    "    print(i)\n"
   ]
  },
  {
   "cell_type": "code",
   "execution_count": null,
   "id": "b6ce53a6-9438-4599-aa8d-d2e98e299df4",
   "metadata": {},
   "outputs": [],
   "source": [
    "1. Program to Check if a Number is Even or Odd\n",
    "To check if a number is even or odd, use the modulus operator %. If number % 2 == 0, the number is even; otherwise, it's odd."
   ]
  },
  {
   "cell_type": "code",
   "execution_count": 33,
   "id": "265e5c4a-c9fc-4e77-9433-b34dfc6c9311",
   "metadata": {},
   "outputs": [
    {
     "name": "stdin",
     "output_type": "stream",
     "text": [
      "Enter a number:  1213\n"
     ]
    },
    {
     "name": "stdout",
     "output_type": "stream",
     "text": [
      "1213 is an odd number.\n"
     ]
    }
   ],
   "source": [
    "# Program to check if a number is even or odd\n",
    "number = int(input(\"Enter a number: \"))\n",
    "\n",
    "if number % 2 == 0:\n",
    "    print(f\"{number} is an even number.\")\n",
    "else:\n",
    "    print(f\"{number} is an odd number.\")\n"
   ]
  },
  {
   "cell_type": "code",
   "execution_count": null,
   "id": "4b394171-66b5-46cc-90da-65e914f5a3bd",
   "metadata": {},
   "outputs": [],
   "source": [
    "Program with a Countdown Using a While Loop\n",
    "The while loop is used here to ask the user for a starting number and then countdown from that number to zero."
   ]
  },
  {
   "cell_type": "code",
   "execution_count": 35,
   "id": "17466b8e-d744-4896-91c0-6607c37613df",
   "metadata": {},
   "outputs": [
    {
     "name": "stdin",
     "output_type": "stream",
     "text": [
      "Enter a number to start countdown:  5\n"
     ]
    },
    {
     "name": "stdout",
     "output_type": "stream",
     "text": [
      "5\n",
      "4\n",
      "3\n",
      "2\n",
      "1\n",
      "0\n",
      "Countdown complete!\n"
     ]
    }
   ],
   "source": [
    "# Countdown program using while loop\n",
    "count = int(input(\"Enter a number to start countdown: \"))\n",
    "\n",
    "while count >= 0:\n",
    "    print(count)\n",
    "    count -= 1  # Decrement the count by 1\n",
    "print(\"Countdown complete!\")\n"
   ]
  },
  {
   "cell_type": "code",
   "execution_count": null,
   "id": "ad426e87-2360-4867-89e9-ce6ca96f9fe4",
   "metadata": {},
   "outputs": [],
   "source": []
  },
  {
   "cell_type": "markdown",
   "id": "adb98bdc-4061-4571-895c-94d8bcaf7681",
   "metadata": {},
   "source": [
    "functions in python"
   ]
  },
  {
   "cell_type": "markdown",
   "id": "64bab067-21fc-42d3-a680-85368af53d8e",
   "metadata": {},
   "source": [
    "A function is a block of code which only runs when it is called.\n",
    "\r\n",
    "You can pass data, known as parameters, into a functio.\r\n",
    "\r\n",
    "A function can return data as a result.\r\n",
    "\r\n",
    "Some Benefits of Using Functions\r\n",
    "\r\n",
    "Increase Code Readability \r\n",
    "Increase Code Reusability"
   ]
  },
  {
   "cell_type": "code",
   "execution_count": null,
   "id": "521f2794-e859-4b2b-b67d-25d47c489ae2",
   "metadata": {},
   "outputs": [],
   "source": [
    "Syntax of Python Function"
   ]
  },
  {
   "cell_type": "code",
   "execution_count": null,
   "id": "61f4a214-9861-4f6f-a230-09009ea795f5",
   "metadata": {},
   "outputs": [],
   "source": [
    "def name_of_function( parameters ):\n",
    "\"\"\"This is a docstring\"\"\"\n",
    "# code block"
   ]
  },
  {
   "cell_type": "code",
   "execution_count": null,
   "id": "0e2ed961-44bc-44c4-b603-39f195b71e8d",
   "metadata": {},
   "outputs": [],
   "source": [
    "User-Defined Function"
   ]
  },
  {
   "cell_type": "code",
   "execution_count": 13,
   "id": "aa88d7e1-6b75-4a39-95b8-c2397e8503c5",
   "metadata": {},
   "outputs": [
    {
     "name": "stdout",
     "output_type": "stream",
     "text": [
      "Hello John\n"
     ]
    }
   ],
   "source": [
    "def greet(name):\n",
    "    print(\"Hello\", name)\n",
    "\n",
    "# pass argument\n",
    "greet(\"John\")"
   ]
  },
  {
   "cell_type": "code",
   "execution_count": null,
   "id": "a78ac63f-a575-4039-8084-8ac1f9a36e40",
   "metadata": {},
   "outputs": [],
   "source": [
    "Function Arguments\n",
    "The following are the types of arguments that we can use to call a function:\n",
    "1. Default arguments\n",
    "2. Keyword arguments\n",
    "3. Required arguments\n",
    "4. Variable-length arguments"
   ]
  },
  {
   "cell_type": "code",
   "execution_count": null,
   "id": "e1f1e94f-e16d-484f-84f1-7058ac527063",
   "metadata": {},
   "outputs": [],
   "source": [
    "1. Default Arguments:\n",
    "Default arguments allow you to set a default value for a function parameter. \n",
    "This means that if the user doesn't provide a value for that argument, the default will be used automatically.\n",
    "\n",
    "Analogy: Imagine you run a coffee shop. The default size of a coffee is \"Medium,\" but customers can specify if they want a \"Small\" or \"Large.\""
   ]
  },
  {
   "cell_type": "code",
   "execution_count": 1,
   "id": "bc7cc7d9-4b6e-411b-b9bb-8209928d5328",
   "metadata": {},
   "outputs": [
    {
     "name": "stdout",
     "output_type": "stream",
     "text": [
      "You ordered a Medium coffee.\n",
      "You ordered a Large coffee.\n"
     ]
    }
   ],
   "source": [
    "def order_coffee(size=\"Medium\"):\n",
    "    print(f\"You ordered a {size} coffee.\")\n",
    "\n",
    "# Calling the function with and without an argument\n",
    "order_coffee()           # Default size is used\n",
    "order_coffee(\"Large\")     # Custom size is used\n"
   ]
  },
  {
   "cell_type": "code",
   "execution_count": null,
   "id": "bb0efd88-9d72-4c6a-a503-3ddc2de2cf95",
   "metadata": {},
   "outputs": [],
   "source": [
    "Key Point: If no value is provided, Python will use the default. If a value is provided, the default is overridden."
   ]
  },
  {
   "cell_type": "code",
   "execution_count": null,
   "id": "d76fdec6-0ff7-42b5-9ccc-2027cde60043",
   "metadata": {},
   "outputs": [],
   "source": [
    "2. Keyword Arguments:\n",
    "Keyword arguments allow you to pass arguments by name, not just by position.\n",
    "This makes the code more readable and allows you to specify only the arguments you want, in any order.\n",
    "\n",
    "Analogy: When ordering a sandwich, you can specify the bread, fillings, and extras.\n",
    "You don’t have to follow a strict order as long as you know what you're asking for."
   ]
  },
  {
   "cell_type": "code",
   "execution_count": 3,
   "id": "28c672e4-e4ce-4320-8f12-4ad391fd5fea",
   "metadata": {},
   "outputs": [
    {
     "name": "stdout",
     "output_type": "stream",
     "text": [
      "You ordered a sandwich with Wheat bread, Turkey filling, and Mayo sauce.\n",
      "You ordered a sandwich with White bread, Chicken filling, and Mustard sauce.\n"
     ]
    }
   ],
   "source": [
    "def make_sandwich(bread, filling, sauce):\n",
    "    print(f\"You ordered a sandwich with {bread} bread, {filling} filling, and {sauce} sauce.\")\n",
    "\n",
    "# Using keyword arguments\n",
    "make_sandwich(bread=\"Wheat\", filling=\"Turkey\", sauce=\"Mayo\")\n",
    "make_sandwich(filling=\"Chicken\", sauce=\"Mustard\", bread=\"White\")  # Different order works\n"
   ]
  },
  {
   "cell_type": "code",
   "execution_count": null,
   "id": "491c1d75-ba8d-4957-9422-471ea093a7d6",
   "metadata": {},
   "outputs": [],
   "source": [
    "Key Point: Keyword arguments make your function calls more readable, and you can pass them in any order."
   ]
  },
  {
   "cell_type": "code",
   "execution_count": null,
   "id": "f55143ab-359f-40fd-9b27-5e9a17c32eb1",
   "metadata": {},
   "outputs": [],
   "source": [
    "3. Required Arguments:\n",
    "Required arguments are arguments that must be provided when calling the function.\n",
    "If you don’t pass them, Python will raise an error because the function can’t work without that information.\n",
    "\n",
    "Analogy: Imagine ordering pizza without specifying the type.\n",
    "The pizza shop can't prepare your pizza unless you tell them what kind of pizza you want!"
   ]
  },
  {
   "cell_type": "code",
   "execution_count": 5,
   "id": "6d27ef35-cc39-42b2-80a2-0c7766b81ce0",
   "metadata": {},
   "outputs": [
    {
     "name": "stdout",
     "output_type": "stream",
     "text": [
      "Hello, Alice!\n"
     ]
    },
    {
     "ename": "TypeError",
     "evalue": "greet_person() missing 1 required positional argument: 'name'",
     "output_type": "error",
     "traceback": [
      "\u001b[1;31m---------------------------------------------------------------------------\u001b[0m",
      "\u001b[1;31mTypeError\u001b[0m                                 Traceback (most recent call last)",
      "Cell \u001b[1;32mIn[5], line 5\u001b[0m\n\u001b[0;32m      2\u001b[0m     \u001b[38;5;28mprint\u001b[39m(\u001b[38;5;124mf\u001b[39m\u001b[38;5;124m\"\u001b[39m\u001b[38;5;124mHello, \u001b[39m\u001b[38;5;132;01m{\u001b[39;00mname\u001b[38;5;132;01m}\u001b[39;00m\u001b[38;5;124m!\u001b[39m\u001b[38;5;124m\"\u001b[39m)\n\u001b[0;32m      4\u001b[0m greet_person(\u001b[38;5;124m\"\u001b[39m\u001b[38;5;124mAlice\u001b[39m\u001b[38;5;124m\"\u001b[39m)  \u001b[38;5;66;03m# Works fine\u001b[39;00m\n\u001b[1;32m----> 5\u001b[0m greet_person()\n",
      "\u001b[1;31mTypeError\u001b[0m: greet_person() missing 1 required positional argument: 'name'"
     ]
    }
   ],
   "source": [
    "def greet_person(name):\n",
    "    print(f\"Hello, {name}!\")\n",
    "\n",
    "greet_person(\"Alice\")  # Works fine\n",
    "greet_person()         # Will cause an error\n"
   ]
  },
  {
   "cell_type": "code",
   "execution_count": null,
   "id": "9b1d0e98-fba4-401d-8f94-e4a6c49e5f75",
   "metadata": {},
   "outputs": [],
   "source": [
    "Key Point: If a function has required arguments, you must provide them, or Python will throw an error."
   ]
  },
  {
   "cell_type": "code",
   "execution_count": null,
   "id": "fa2f089a-4df2-4bc0-a513-71a072ed39e7",
   "metadata": {},
   "outputs": [],
   "source": [
    "Understanding Variable-Length Arguments in Python\n",
    "Sometimes, we need functions that can handle different numbers of inputs.\n",
    "Think of it like ordering food.\n",
    "Sometimes you might order just one thing, other times you might order five different items.\n",
    "In programming, *args and **kwargs help us create flexible \"orders\" that can take in as many items as we want."
   ]
  },
  {
   "cell_type": "code",
   "execution_count": null,
   "id": "1f89e1da-4e5b-4f60-bfab-9c6f6226ce7d",
   "metadata": {},
   "outputs": [],
   "source": [
    "1. *args: Handling Multiple Positional Arguments\n",
    "Imagine you're ordering pizzas with your friends.\n",
    "Everyone may want to order different numbers of pizzas.\n",
    "You can use *args in Python to collect all the pizza orders, no matter how many."
   ]
  },
  {
   "cell_type": "code",
   "execution_count": 7,
   "id": "d4138403-0396-4dfa-9fb3-9a923c07e24c",
   "metadata": {},
   "outputs": [
    {
     "name": "stdout",
     "output_type": "stream",
     "text": [
      "You ordered these pizzas:\n",
      "Pepperoni\n",
      "Margherita\n",
      "BBQ Chicken\n"
     ]
    }
   ],
   "source": [
    "def order_pizzas(*pizzas):\n",
    "    print(\"You ordered these pizzas:\")\n",
    "    for pizza in pizzas:\n",
    "        print(pizza)\n",
    "\n",
    "order_pizzas(\"Pepperoni\", \"Margherita\", \"BBQ Chicken\")\n"
   ]
  },
  {
   "cell_type": "code",
   "execution_count": null,
   "id": "66645293-1513-498d-9d18-a39236dbd116",
   "metadata": {},
   "outputs": [],
   "source": [
    "Here, *pizzas allows you to list as many pizzas as you want.\n",
    "The function doesn't care if you want to order one or ten pizzas!"
   ]
  },
  {
   "cell_type": "code",
   "execution_count": null,
   "id": "051d02fe-d33b-4def-9d33-a3584d050a01",
   "metadata": {},
   "outputs": [],
   "source": [
    "2. **kwargs: Handling Named Inputs (Keyword Arguments)\n",
    "Now, let’s say you also want to specify details for each pizza, like the size, crust type, or extra toppings.\n",
    "This is where **kwargs comes in handy. Think of it as ordering pizzas with specific requests for each one."
   ]
  },
  {
   "cell_type": "code",
   "execution_count": 9,
   "id": "b0725af7-5e3e-4f15-a8f3-5e9a10ce34b8",
   "metadata": {},
   "outputs": [
    {
     "name": "stdout",
     "output_type": "stream",
     "text": [
      "Pepperoni: Large with extra cheese\n",
      "Margherita: Medium with thin crust\n"
     ]
    }
   ],
   "source": [
    "def order_with_details(**pizza_details):\n",
    "    for pizza, detail in pizza_details.items():\n",
    "        print(f\"{pizza}: {detail}\")\n",
    "\n",
    "order_with_details(Pepperoni=\"Large with extra cheese\", Margherita=\"Medium with thin crust\")\n"
   ]
  },
  {
   "cell_type": "code",
   "execution_count": null,
   "id": "e124c340-94fa-413a-822a-a293e9403ad1",
   "metadata": {},
   "outputs": [],
   "source": [
    "Here, **pizza_details allows you to specify any kind of detail about each pizza by using named inputs (like size, crust, etc.)."
   ]
  },
  {
   "cell_type": "code",
   "execution_count": null,
   "id": "038ce4f3-6011-4d48-9ae0-6e32b5a4ba2d",
   "metadata": {},
   "outputs": [],
   "source": [
    "Real-Life Application:\n",
    "think about functions like a \"shopping cart\" where you might add many items (*args) and specify different options for each item (**kwargs).\n",
    " This makes your code more adaptable to changing inputs, just like how a real-world system needs to handle different types of orders."
   ]
  },
  {
   "cell_type": "code",
   "execution_count": null,
   "id": "7fa98c27-dffe-4814-9440-59e1dfa89451",
   "metadata": {},
   "outputs": [],
   "source": [
    "Default Arguments: Use them when a function should have a fallback value if the user doesn’t provide one.\n",
    "Example: def order_coffee(size=\"Medium\")\n",
    "Keyword Arguments: Pass arguments by name, so the order doesn’t matter.\n",
    "Example: make_sandwich(filling=\"Turkey\", bread=\"White\")\n",
    "Required Arguments: Arguments that must be provided when the function is called.\n",
    "Example: greet_person(name)\n",
    "This structure helps you create flexible, readable, and user-friendly functions in Python!\n",
    "*args collects multiple positional arguments (like a list of items).\n",
    "**kwargs collects multiple keyword arguments (like item details)."
   ]
  },
  {
   "cell_type": "code",
   "execution_count": null,
   "id": "415444c3-6f87-4a24-9f13-54bb9c64e251",
   "metadata": {},
   "outputs": [],
   "source": []
  },
  {
   "cell_type": "code",
   "execution_count": null,
   "id": "335b2edb-89cf-4459-b755-b6d86d10b985",
   "metadata": {},
   "outputs": [],
   "source": [
    "1. What’s an Exception?\n",
    "An exception is an error that occurs during the execution of a program.\n",
    "When Python encounters an exception, it stops the normal flow of the program and looks for a way to handle the error."
   ]
  },
  {
   "cell_type": "code",
   "execution_count": 2,
   "id": "94428613-e9b1-4f1d-a5f5-7e5f15766d26",
   "metadata": {},
   "outputs": [
    {
     "ename": "ZeroDivisionError",
     "evalue": "division by zero",
     "output_type": "error",
     "traceback": [
      "\u001b[1;31m---------------------------------------------------------------------------\u001b[0m",
      "\u001b[1;31mZeroDivisionError\u001b[0m                         Traceback (most recent call last)",
      "Cell \u001b[1;32mIn[2], line 3\u001b[0m\n\u001b[0;32m      1\u001b[0m x \u001b[38;5;241m=\u001b[39m \u001b[38;5;241m10\u001b[39m\n\u001b[0;32m      2\u001b[0m y \u001b[38;5;241m=\u001b[39m \u001b[38;5;241m0\u001b[39m\n\u001b[1;32m----> 3\u001b[0m result \u001b[38;5;241m=\u001b[39m x \u001b[38;5;241m/\u001b[39m y\n",
      "\u001b[1;31mZeroDivisionError\u001b[0m: division by zero"
     ]
    }
   ],
   "source": [
    "x = 10\n",
    "y = 0\n",
    "result = x / y  # Division by zero will raise an exception\n"
   ]
  },
  {
   "cell_type": "code",
   "execution_count": null,
   "id": "221b9f3c-ea31-483d-a4b5-bab6f75f5ecc",
   "metadata": {},
   "outputs": [],
   "source": [
    "In this case, dividing by zero causes a ZeroDivisionError exception, and the program will stop unless you handle this exception."
   ]
  },
  {
   "cell_type": "code",
   "execution_count": null,
   "id": "96954e42-70af-4f4e-8fad-52fe2159c7b7",
   "metadata": {},
   "outputs": [],
   "source": [
    "2. Exceptions versus Syntax Errors\n",
    "Syntax Errors: These are errors in the structure or syntax of your code.\n",
    "They prevent the program from even running. Python catches these during the compilation phase."
   ]
  },
  {
   "cell_type": "code",
   "execution_count": null,
   "id": "c9af2802-0bc2-4f52-837e-893b9729b581",
   "metadata": {},
   "outputs": [],
   "source": [
    "Example of a Syntax Error:"
   ]
  },
  {
   "cell_type": "code",
   "execution_count": 4,
   "id": "2bf8bdd0-380e-4c64-8670-dfccaeae712c",
   "metadata": {},
   "outputs": [
    {
     "ename": "SyntaxError",
     "evalue": "expected ':' (978664451.py, line 1)",
     "output_type": "error",
     "traceback": [
      "\u001b[1;36m  Cell \u001b[1;32mIn[4], line 1\u001b[1;36m\u001b[0m\n\u001b[1;33m    if x > 5   # Missing colon\u001b[0m\n\u001b[1;37m               ^\u001b[0m\n\u001b[1;31mSyntaxError\u001b[0m\u001b[1;31m:\u001b[0m expected ':'\n"
     ]
    }
   ],
   "source": [
    "if x > 5   # Missing colon\n",
    "    print(x)\n"
   ]
  },
  {
   "cell_type": "code",
   "execution_count": null,
   "id": "7fd440dc-d50a-4865-8fd7-4490449ec999",
   "metadata": {},
   "outputs": [],
   "source": [
    "Exceptions: These are errors that occur while the program is running (during the execution phase), and they can be handled."
   ]
  },
  {
   "cell_type": "code",
   "execution_count": null,
   "id": "6a590e25-797e-4d51-8326-d99802403f81",
   "metadata": {},
   "outputs": [],
   "source": [
    "Example of an Exception:"
   ]
  },
  {
   "cell_type": "code",
   "execution_count": 6,
   "id": "cef33351-9381-40b7-a374-dddd121063b7",
   "metadata": {},
   "outputs": [
    {
     "ename": "ValueError",
     "evalue": "invalid literal for int() with base 10: 'Hello'",
     "output_type": "error",
     "traceback": [
      "\u001b[1;31m---------------------------------------------------------------------------\u001b[0m",
      "\u001b[1;31mValueError\u001b[0m                                Traceback (most recent call last)",
      "Cell \u001b[1;32mIn[6], line 1\u001b[0m\n\u001b[1;32m----> 1\u001b[0m num \u001b[38;5;241m=\u001b[39m \u001b[38;5;28mint\u001b[39m(\u001b[38;5;124m\"\u001b[39m\u001b[38;5;124mHello\u001b[39m\u001b[38;5;124m\"\u001b[39m)\n",
      "\u001b[1;31mValueError\u001b[0m: invalid literal for int() with base 10: 'Hello'"
     ]
    }
   ],
   "source": [
    "num = int(\"Hello\")  # Trying to convert a string to an integer\n"
   ]
  },
  {
   "cell_type": "code",
   "execution_count": null,
   "id": "ff2cdf43-8bb4-4cb0-9691-4406972fc563",
   "metadata": {},
   "outputs": [],
   "source": [
    "3. Try and Except Statement - Catching Exceptions\n",
    "The try block lets you test a block of code for exceptions.\n",
    "The except block lets you handle the error if it occurs, preventing your program from crashing."
   ]
  },
  {
   "cell_type": "code",
   "execution_count": null,
   "id": "a45b8436-894a-4b3d-a778-50676529851d",
   "metadata": {},
   "outputs": [],
   "source": [
    "Syntax:"
   ]
  },
  {
   "cell_type": "code",
   "execution_count": null,
   "id": "907c5aa8-f543-4520-bb50-bc58745da40d",
   "metadata": {},
   "outputs": [],
   "source": [
    "try:\n",
    "    # Code that might raise an exception\n",
    "except ExceptionType:\n",
    "    # Code to handle the exception\n"
   ]
  },
  {
   "cell_type": "code",
   "execution_count": null,
   "id": "4f26f38d-c207-48fb-92d4-82d37557a8b3",
   "metadata": {},
   "outputs": [],
   "source": [
    "Example:\n"
   ]
  },
  {
   "cell_type": "code",
   "execution_count": 8,
   "id": "266d8268-49d6-4776-a4ab-bee0fb0ef5bf",
   "metadata": {},
   "outputs": [
    {
     "name": "stdout",
     "output_type": "stream",
     "text": [
      "You cannot divide by zero!\n"
     ]
    }
   ],
   "source": [
    "try:\n",
    "    x = 10 / 0\n",
    "except ZeroDivisionError:\n",
    "    print(\"You cannot divide by zero!\")\n"
   ]
  },
  {
   "cell_type": "code",
   "execution_count": null,
   "id": "b10a937a-2cee-465e-abc0-998144bf54a1",
   "metadata": {},
   "outputs": [],
   "source": [
    "You can also catch multiple exceptions and specify what happens for each one:\n",
    "\n",
    "Example (Multiple Exceptions):"
   ]
  },
  {
   "cell_type": "code",
   "execution_count": 10,
   "id": "8ff15fae-48c8-4fcf-abb1-17c54c3bd8fc",
   "metadata": {},
   "outputs": [
    {
     "name": "stdout",
     "output_type": "stream",
     "text": [
      "Invalid input for integer conversion!\n"
     ]
    }
   ],
   "source": [
    "try:\n",
    "    x = int(\"Hello\")\n",
    "except ZeroDivisionError:\n",
    "    print(\"You cannot divide by zero!\")\n",
    "except ValueError:\n",
    "    print(\"Invalid input for integer conversion!\")\n"
   ]
  },
  {
   "cell_type": "code",
   "execution_count": null,
   "id": "a7d29948-ca7b-4fb3-9b57-b8809d3d5878",
   "metadata": {},
   "outputs": [],
   "source": [
    "4. Finally Keyword in Python\n",
    "The finally block is used to define code that should be executed no matter what, whether an exception occurs or not.\n",
    "It’s typically used for cleanup actions (like closing a file or a database connection).\n",
    "\n",
    "Syntax:"
   ]
  },
  {
   "cell_type": "code",
   "execution_count": null,
   "id": "632c3386-4ba8-40cc-9db1-0c2143a5e2f6",
   "metadata": {},
   "outputs": [],
   "source": [
    "try:\n",
    "    # Code that might raise an exception\n",
    "except:\n",
    "    # Code to handle the exception\n",
    "finally:\n",
    "    # Code that will run no matter what\n"
   ]
  },
  {
   "cell_type": "code",
   "execution_count": null,
   "id": "02da18d2-b807-45e8-a42b-2af19ab62f85",
   "metadata": {},
   "outputs": [],
   "source": [
    "Example:"
   ]
  },
  {
   "cell_type": "code",
   "execution_count": 12,
   "id": "18b431ad-5951-46d6-9890-182c85958957",
   "metadata": {},
   "outputs": [
    {
     "name": "stdout",
     "output_type": "stream",
     "text": [
      "Error: File not found or can't be written to.\n",
      "This block will run no matter what.\n"
     ]
    }
   ],
   "source": [
    "try:\n",
    "    file = open(\"testfile.txt\", \"r\")\n",
    "    file.write(\"Hello World!\")\n",
    "except IOError:\n",
    "    print(\"Error: File not found or can't be written to.\")\n",
    "finally:\n",
    "    print(\"This block will run no matter what.\")\n"
   ]
  },
  {
   "cell_type": "code",
   "execution_count": null,
   "id": "604028fe-76e2-41fa-9a71-1145db8edf67",
   "metadata": {},
   "outputs": [],
   "source": [
    "The finally block is useful for tasks like closing files or freeing resources, which should always happen even if an error occurs."
   ]
  },
  {
   "cell_type": "code",
   "execution_count": null,
   "id": "389b2ea9-26f7-485c-9a07-636158817421",
   "metadata": {},
   "outputs": [],
   "source": [
    "5. User-Defined Exceptions\n",
    "Python also allows you to define your own exceptions. This is useful when you want to create custom error conditions for your specific needs.\n",
    "\n",
    "Steps to Define a Custom Exception:\n",
    "Create a new class that inherits from Exception (or a more specific exception class).\n",
    "Raise this exception in your code when appropriate.\n",
    "Example:"
   ]
  },
  {
   "cell_type": "code",
   "execution_count": 14,
   "id": "52ec1882-f8c8-4769-b998-baa1882bf3bc",
   "metadata": {},
   "outputs": [
    {
     "name": "stdout",
     "output_type": "stream",
     "text": [
      "This is a custom error!\n"
     ]
    }
   ],
   "source": [
    "class MyCustomError(Exception):\n",
    "    \"\"\"User-defined exception class.\"\"\"\n",
    "    pass\n",
    "\n",
    "# Raise the custom exception\n",
    "try:\n",
    "    raise MyCustomError(\"This is a custom error!\")\n",
    "except MyCustomError as e:\n",
    "    print(e)\n"
   ]
  },
  {
   "cell_type": "code",
   "execution_count": null,
   "id": "b9b551d5-0b7e-4e17-8104-a132e622dbe0",
   "metadata": {},
   "outputs": [],
   "source": [
    "You can add more features to your user-defined exception, such as additional methods or properties, to customize its behavior."
   ]
  },
  {
   "cell_type": "code",
   "execution_count": null,
   "id": "396e2032-316c-4042-857a-d408dd6a23d8",
   "metadata": {},
   "outputs": [],
   "source": [
    "Summary:"
   ]
  },
  {
   "cell_type": "code",
   "execution_count": null,
   "id": "b9b6c4fc-1d8b-4c76-81f5-ec8984ea83e3",
   "metadata": {},
   "outputs": [],
   "source": [
    "Exceptions are errors that occur during the execution of a program. You can handle them to avoid crashing your program.\n",
    "Syntax Errors occur during compilation and prevent the program from running.\n",
    "Use the try and except blocks to catch and handle exceptions.\n",
    "The finally block ensures that code runs no matter what, typically used for cleanup.\n",
    "User-Defined Exceptions allow you to create custom error-handling scenarios for your specific needs."
   ]
  },
  {
   "cell_type": "code",
   "execution_count": 3,
   "id": "1cba42be-a38d-44ff-83de-5abe6fcd8bb6",
   "metadata": {},
   "outputs": [
    {
     "name": "stdout",
     "output_type": "stream",
     "text": [
      "hey you cant divide a number by zero\n",
      "bye\n"
     ]
    }
   ],
   "source": [
    "a=5\n",
    "b=0\n",
    "\n",
    "try:\n",
    "    print(a/b)\n",
    "except Exception:\n",
    "    print(\"hey you cant divide a number by zero\")\n",
    "print(\"bye\")"
   ]
  },
  {
   "cell_type": "code",
   "execution_count": 5,
   "id": "eb2d9a5a-8013-4cad-b3cb-40e96325bec3",
   "metadata": {},
   "outputs": [
    {
     "name": "stdout",
     "output_type": "stream",
     "text": [
      "hey you cant divide a number by zero division by zero\n",
      "bye\n"
     ]
    }
   ],
   "source": [
    "a=5\n",
    "b=0\n",
    "\n",
    "try:\n",
    "    print(a/b)\n",
    "except Exception as e:\n",
    "    #e is representation or object of exception\n",
    "    print(\"hey you cant divide a number by zero\", e)\n",
    "print(\"bye\")"
   ]
  },
  {
   "cell_type": "code",
   "execution_count": 9,
   "id": "fa839ca8-4365-450e-aca4-9d83e1fac0a6",
   "metadata": {},
   "outputs": [
    {
     "name": "stdout",
     "output_type": "stream",
     "text": [
      "resource open\n",
      "1.0\n",
      "resource closed\n",
      "bye\n"
     ]
    }
   ],
   "source": [
    "a=5\n",
    "b=5\n",
    "\n",
    "try:\n",
    "    print(\"resource open\")\n",
    "    print(a/b)\n",
    "    print(\"resource closed\")\n",
    "except Exception as e:\n",
    "    #e is representation or object of exception\n",
    "    print(\"hey you cant divide a number by zero\", e)\n",
    "print(\"bye\")"
   ]
  },
  {
   "cell_type": "code",
   "execution_count": 7,
   "id": "074652b8-a2d1-4c54-a8ff-e846ac56091a",
   "metadata": {},
   "outputs": [
    {
     "name": "stdout",
     "output_type": "stream",
     "text": [
      "resource open\n",
      "hey you cant divide a number by zero division by zero\n",
      "bye\n"
     ]
    }
   ],
   "source": [
    "a=5\n",
    "b=0\n",
    "\n",
    "try:\n",
    "    print(\"resource open\")\n",
    "    print(a/b)\n",
    "    print(\"resource closed\")\n",
    "except Exception as e:\n",
    "    #e is representation or object of exception\n",
    "    print(\"hey you cant divide a number by zero\", e)\n",
    "print(\"bye\")"
   ]
  },
  {
   "cell_type": "code",
   "execution_count": 11,
   "id": "8da67564-d5b7-4155-b505-a9f3a36d4209",
   "metadata": {},
   "outputs": [
    {
     "name": "stdout",
     "output_type": "stream",
     "text": [
      "resource open\n",
      "hey you cant divide a number by zero division by zero\n",
      "resource closed\n",
      "bye\n"
     ]
    }
   ],
   "source": [
    "a=5\n",
    "b=0\n",
    "\n",
    "try:\n",
    "    print(\"resource open\")\n",
    "    print(a/b)\n",
    "    \n",
    "except Exception as e:\n",
    "    #e is representation or object of exception\n",
    "    print(\"hey you cant divide a number by zero\", e)\n",
    "    print(\"resource closed\")\n",
    "    \n",
    "print(\"bye\")"
   ]
  },
  {
   "cell_type": "code",
   "execution_count": 13,
   "id": "d00400d8-75e8-4439-8194-f04c8227a30f",
   "metadata": {},
   "outputs": [
    {
     "name": "stdout",
     "output_type": "stream",
     "text": [
      "resource open\n",
      "1.0\n",
      "bye\n"
     ]
    }
   ],
   "source": [
    "a=5\n",
    "b=5\n",
    "\n",
    "try:\n",
    "    print(\"resource open\")\n",
    "    print(a/b)\n",
    "    \n",
    "except Exception as e:\n",
    "    #e is representation or object of exception\n",
    "    print(\"hey you cant divide a number by zero\", e)\n",
    "    print(\"resource closed\")\n",
    "    \n",
    "print(\"bye\")"
   ]
  },
  {
   "cell_type": "code",
   "execution_count": 17,
   "id": "858604e6-577e-447c-b900-04cc93683169",
   "metadata": {},
   "outputs": [
    {
     "name": "stdout",
     "output_type": "stream",
     "text": [
      "resource open\n",
      "1.0\n",
      "resource closed\n",
      "bye\n"
     ]
    }
   ],
   "source": [
    "a=5\n",
    "b=5\n",
    "\n",
    "try:\n",
    "    print(\"resource open\")\n",
    "    print(a/b)\n",
    "    \n",
    "except Exception as e:\n",
    "    #e is representation or object of exception\n",
    "    print(\"hey you cant divide a number by zero\", e)\n",
    "    \n",
    "\n",
    "finally:\n",
    "    #finally block will be executed if we get error as well as if we dont get the error\n",
    "    print(\"resource closed\")\n",
    "    \n",
    "print(\"bye\")"
   ]
  },
  {
   "cell_type": "code",
   "execution_count": 21,
   "id": "8de2fb09-1f5a-47b1-a83e-2df9c0a3e65e",
   "metadata": {},
   "outputs": [
    {
     "name": "stdout",
     "output_type": "stream",
     "text": [
      "resource open\n",
      "1.0\n"
     ]
    },
    {
     "name": "stdin",
     "output_type": "stream",
     "text": [
      "enter number 1213\n"
     ]
    },
    {
     "name": "stdout",
     "output_type": "stream",
     "text": [
      "1213\n",
      "resource closed\n",
      "bye\n"
     ]
    }
   ],
   "source": [
    "a=5\n",
    "b=5\n",
    "\n",
    "try:\n",
    "    print(\"resource open\")\n",
    "    print(a/b)\n",
    "    r=int(input(\"enter number\"))\n",
    "    print(r)\n",
    "    \n",
    "except Exception as e:\n",
    "    #e is representation or object of exception\n",
    "    print(\"hey you cant divide a number by zero\", e)\n",
    "    \n",
    "\n",
    "finally:\n",
    "    #finally block will be executed if we get error as well as if we dont get the error\n",
    "    print(\"resource closed\")\n",
    "    \n"
   ]
  },
  {
   "cell_type": "code",
   "execution_count": 23,
   "id": "d9a5022d-0b6f-41cf-9ac3-e6fe698a3bde",
   "metadata": {},
   "outputs": [
    {
     "name": "stdout",
     "output_type": "stream",
     "text": [
      "resource open\n",
      "1.0\n"
     ]
    },
    {
     "name": "stdin",
     "output_type": "stream",
     "text": [
      "enter number r\n"
     ]
    },
    {
     "name": "stdout",
     "output_type": "stream",
     "text": [
      "hey you cant divide a number by zero invalid literal for int() with base 10: 'r'\n",
      "resource closed\n"
     ]
    }
   ],
   "source": [
    "a=5\n",
    "b=5\n",
    "\n",
    "try:\n",
    "    print(\"resource open\")\n",
    "    print(a/b)\n",
    "    r=int(input(\"enter number\"))\n",
    "    print(r)\n",
    "    \n",
    "except Exception as e:\n",
    "    #e is representation or object of exception\n",
    "    print(\"hey you cant divide a number by zero\", e)\n",
    "    \n",
    "\n",
    "finally:\n",
    "    #finally block will be executed if we get error as well as if we dont get the error\n",
    "    print(\"resource closed\")"
   ]
  },
  {
   "cell_type": "code",
   "execution_count": 25,
   "id": "885380de-cb8b-421f-b453-43e8709334df",
   "metadata": {},
   "outputs": [
    {
     "name": "stdout",
     "output_type": "stream",
     "text": [
      "resource open\n",
      "1.0\n"
     ]
    },
    {
     "name": "stdin",
     "output_type": "stream",
     "text": [
      "enter number r\n"
     ]
    },
    {
     "name": "stdout",
     "output_type": "stream",
     "text": [
      "invalid input\n",
      "resource closed\n"
     ]
    }
   ],
   "source": [
    "a=5\n",
    "b=5\n",
    "\n",
    "try:\n",
    "    print(\"resource open\")\n",
    "    print(a/b)\n",
    "    r=int(input(\"enter number\"))\n",
    "    print(r)\n",
    "    \n",
    "except ZeroDivisionError as e:\n",
    "    #e is representation or object of exception\n",
    "    print(\"hey you cant divide a number by zero\", e)\n",
    "\n",
    "except ValueError as e:\n",
    "    print(\"invalid input\")\n",
    "\n",
    "except Exception as e:\n",
    "    print(\"something went wrong...\")\n",
    "    \n",
    "\n",
    "finally:\n",
    "    #finally block will be executed if we get error as well as if we dont get the error\n",
    "    print(\"resource closed\")"
   ]
  },
  {
   "cell_type": "code",
   "execution_count": null,
   "id": "c3723f77-9f7b-4ea3-98ad-9480df148aa1",
   "metadata": {},
   "outputs": [],
   "source": []
  },
  {
   "cell_type": "code",
   "execution_count": null,
   "id": "f9b6763e-f976-4fb6-a23e-421b58018d46",
   "metadata": {},
   "outputs": [],
   "source": [
    "Python Objects and Classes:\n",
    "\n",
    "Explanation: Objects are instances of classes, and classes are blueprints for objects. Every object has properties (attributes) and behaviors (methods).\n"
   ]
  },
  {
   "cell_type": "code",
   "execution_count": 2,
   "id": "903c78b2-7399-479e-9a48-42f73e72cb16",
   "metadata": {},
   "outputs": [
    {
     "name": "stdout",
     "output_type": "stream",
     "text": [
      "Toyota Corolla\n"
     ]
    }
   ],
   "source": [
    "class Car:\n",
    "    def __init__(self, brand, model):\n",
    "        self.brand = brand\n",
    "        self.model = model\n",
    "\n",
    "car1 = Car(\"Toyota\", \"Corolla\")\n",
    "print(car1.brand, car1.model)\n"
   ]
  },
  {
   "cell_type": "code",
   "execution_count": null,
   "id": "690994a3-184c-4d4f-9881-5607f160fbfd",
   "metadata": {},
   "outputs": [],
   "source": [
    "Defining a Class in Python:\n",
    "\n",
    "Explanation: A class is defined using the class keyword. Inside a class, methods are defined like regular functions.\n"
   ]
  },
  {
   "cell_type": "code",
   "execution_count": 4,
   "id": "e3205327-accc-4c79-8ead-b9fc50b48f52",
   "metadata": {},
   "outputs": [],
   "source": [
    "class Person:\n",
    "    def greet(self):\n",
    "        print(\"Hello!\")\n"
   ]
  },
  {
   "cell_type": "code",
   "execution_count": null,
   "id": "84a90fb0-4351-4bbf-a5f6-49b0409fe844",
   "metadata": {},
   "outputs": [],
   "source": [
    "Creating an Object in Python:\n",
    "\n",
    "Explanation: An object is created by calling the class like a function.\n"
   ]
  },
  {
   "cell_type": "code",
   "execution_count": 6,
   "id": "e328be2a-52a4-4736-a75d-e92110fc8792",
   "metadata": {},
   "outputs": [
    {
     "name": "stdout",
     "output_type": "stream",
     "text": [
      "Hello!\n"
     ]
    }
   ],
   "source": [
    "p = Person()\n",
    "p.greet()  # Output: Hello!\n"
   ]
  },
  {
   "cell_type": "code",
   "execution_count": null,
   "id": "855b7af6-9839-46ac-8467-135ff3e86d72",
   "metadata": {},
   "outputs": [],
   "source": [
    "Constructors in Python:\n",
    "Explanation: A constructor is a special method, __init__(), that gets called automatically when a class is instantiated.\n"
   ]
  },
  {
   "cell_type": "code",
   "execution_count": 8,
   "id": "29866b41-4c17-47c7-8fd5-667e4d5ba544",
   "metadata": {},
   "outputs": [
    {
     "name": "stdout",
     "output_type": "stream",
     "text": [
      "Alice 20\n"
     ]
    }
   ],
   "source": [
    "class Student:\n",
    "    def __init__(self, name, age):\n",
    "        self.name = name\n",
    "        self.age = age\n",
    "\n",
    "s1 = Student(\"Alice\", 20)\n",
    "print(s1.name, s1.age)\n"
   ]
  },
  {
   "cell_type": "code",
   "execution_count": null,
   "id": "e2d60a89-e134-49c3-a026-a5e11780bc5e",
   "metadata": {},
   "outputs": [],
   "source": [
    "Deleting Attributes and Objects:\n",
    "\n",
    "Explanation: The del keyword can be used to delete object attributes or the entire object.\n"
   ]
  },
  {
   "cell_type": "code",
   "execution_count": 12,
   "id": "5ba8680d-f9ec-4974-8ffc-a44ac18e7e2e",
   "metadata": {},
   "outputs": [],
   "source": [
    "class Dog:\n",
    "    def __init__(self, name):\n",
    "        self.name = name\n",
    "\n",
    "dog1 = Dog(\"Buddy\")\n",
    "del dog1.name  # Deletes the 'name' attribute\n",
    "del dog1  # Deletes the object\n"
   ]
  },
  {
   "cell_type": "code",
   "execution_count": null,
   "id": "026b30fb-71f3-4d44-bec3-698ce684bbe4",
   "metadata": {},
   "outputs": [],
   "source": []
  },
  {
   "cell_type": "code",
   "execution_count": null,
   "id": "2045c797-5cc9-468b-a335-16b5b41a6c1a",
   "metadata": {},
   "outputs": [],
   "source": [
    "1. What are Objects and Classes?\n",
    "Think of a class as a recipe: When you have a recipe for making cookies, it tells you what ingredients (flour, sugar, etc.) and steps (bake at 350°F) to use. But, you don’t have cookies until you follow the recipe and make them.\n",
    "In programming: A class is like that recipe, and an object is the cookie you made. You can make many cookies (objects) from the same recipe (class)."
   ]
  },
  {
   "cell_type": "code",
   "execution_count": null,
   "id": "91391067-3eac-4871-8fa1-cea3274d92f9",
   "metadata": {},
   "outputs": [],
   "source": [
    "ex-Imagine you have a blueprint for building cars.\n"
   ]
  },
  {
   "cell_type": "code",
   "execution_count": 14,
   "id": "440df68e-daa2-4971-b8a8-a461d37143ad",
   "metadata": {},
   "outputs": [],
   "source": [
    "class Car:\n",
    "    def __init__(self, color):\n",
    "        self.color = color\n"
   ]
  },
  {
   "cell_type": "code",
   "execution_count": null,
   "id": "2d2c7e05-9383-46e8-8199-b5ebaca4cd00",
   "metadata": {},
   "outputs": [],
   "source": [
    "You can make different cars from the same blueprint"
   ]
  },
  {
   "cell_type": "code",
   "execution_count": 17,
   "id": "9fc4e00c-7613-4863-8ee4-38c32d892e07",
   "metadata": {},
   "outputs": [],
   "source": [
    "my_car = Car(\"red\")  # You just made a red car\n"
   ]
  },
  {
   "cell_type": "code",
   "execution_count": null,
   "id": "4ccc0246-494c-45ea-86b9-7cb14a1792bb",
   "metadata": {},
   "outputs": [],
   "source": [
    "2. What is a Class?\n",
    "A class is a blueprint: It tells the computer what your object (like a toy or a car) will be made of.\n",
    "In simpler words: It’s like telling someone how to draw a picture of a car, but no cars exist yet.\n",
    "Example:"
   ]
  },
  {
   "cell_type": "code",
   "execution_count": 19,
   "id": "385cedfc-53de-47af-a60c-00d68323d1ce",
   "metadata": {},
   "outputs": [],
   "source": [
    "class Person:\n",
    "    def say_hello(self):\n",
    "        print(\"Hello!\")\n"
   ]
  },
  {
   "cell_type": "code",
   "execution_count": null,
   "id": "f7466d78-0822-42ef-8c99-9ae094dc88ac",
   "metadata": {},
   "outputs": [],
   "source": [
    "3. Creating an Object:\n",
    "Once you have the class (blueprint), you can build or create something from it.\n",
    "If you have a recipe for a cake, you can make a cake using that recipe. Similarly, using a class, you can create an object.\n",
    "Example:"
   ]
  },
  {
   "cell_type": "code",
   "execution_count": 21,
   "id": "27a30991-d7d7-4f83-8fdb-7c931cac8e08",
   "metadata": {},
   "outputs": [
    {
     "name": "stdout",
     "output_type": "stream",
     "text": [
      "Hello!\n"
     ]
    }
   ],
   "source": [
    "p = Person()  # You just created a 'Person' object\n",
    "p.say_hello()  # This person can say Hello!\n"
   ]
  },
  {
   "cell_type": "code",
   "execution_count": null,
   "id": "a24e10f3-462a-4956-b211-36545002b08e",
   "metadata": {},
   "outputs": [],
   "source": [
    "4. What is a Constructor?\n",
    "When you make a toy (object), you may want to give it some features, like color or size. The constructor is like the builder who assembles the toy and gives it these features.\n",
    "In programming: The constructor is a special method that gets called when you create an object to set it up properly.\n",
    "Example:"
   ]
  },
  {
   "cell_type": "code",
   "execution_count": 23,
   "id": "dd0a96be-fa5f-45c2-bc72-0c7214ba4e0a",
   "metadata": {},
   "outputs": [
    {
     "name": "stdout",
     "output_type": "stream",
     "text": [
      "Buddy\n"
     ]
    }
   ],
   "source": [
    "class Dog:\n",
    "    def __init__(self, name):\n",
    "        self.name = name  # Constructor gives the dog a name\n",
    "\n",
    "my_dog = Dog(\"Buddy\")  # We just created a dog named Buddy\n",
    "print(my_dog.name)  # Prints \"Buddy\"\n"
   ]
  },
  {
   "cell_type": "code",
   "execution_count": null,
   "id": "471c3e21-243d-4e60-bd66-b54a3ea9ff54",
   "metadata": {},
   "outputs": [],
   "source": [
    "5. Deleting Attributes and Objects:\n",
    "Imagine you’re playing with a toy, but you want to change its color or throw it away. In programming, we can also delete parts of an object or the whole object.\n",
    "Example:"
   ]
  },
  {
   "cell_type": "code",
   "execution_count": 25,
   "id": "b90acc15-8b84-4259-86e1-8eaa39b055b3",
   "metadata": {},
   "outputs": [],
   "source": [
    "class Cat:\n",
    "    def __init__(self, name):\n",
    "        self.name = name\n",
    "\n",
    "my_cat = Cat(\"Whiskers\")\n",
    "del my_cat.name  # Now the cat has no name!\n",
    "del my_cat  # The cat is gone!\n"
   ]
  },
  {
   "cell_type": "code",
   "execution_count": null,
   "id": "100e34a5-6993-4c03-aecf-4366c4e3f03e",
   "metadata": {},
   "outputs": [],
   "source": [
    "Summary:\n",
    "Class = Recipe/Blueprint.\n",
    "Object = Cookie/Toy you made from the class.\n",
    "Constructor = The person who builds the object and gives it its features.\n",
    "Deleting = Like throwing the toy away or removing its parts."
   ]
  },
  {
   "cell_type": "code",
   "execution_count": null,
   "id": "e7e6a998-d3a6-4fee-aef8-fce62c70f828",
   "metadata": {},
   "outputs": [],
   "source": []
  },
  {
   "cell_type": "code",
   "execution_count": null,
   "id": "8f739f21-68b8-48cd-b19a-c999886ed1c2",
   "metadata": {},
   "outputs": [],
   "source": [
    "self parameter is a reference to the currentt instance of the class, and is used to access varisbles that belongs to the class.\n",
    "it must be provided as the extra parameters inside the method defination"
   ]
  },
  {
   "cell_type": "code",
   "execution_count": 1,
   "id": "b616f36a-95b2-49dd-be01-459c10d3d606",
   "metadata": {},
   "outputs": [
    {
     "name": "stdout",
     "output_type": "stream",
     "text": [
      "Pratik is a HR\n",
      "Pritish is a Tester\n"
     ]
    }
   ],
   "source": [
    "class person:\n",
    "    name=\"Rohit\"\n",
    "    occupation=\"SDE\"\n",
    "    age=24\n",
    "    def info(self):\n",
    "        print(f\"{self.name} is a {self.occupation}\")\n",
    "\n",
    "a=person()\n",
    "b=person()\n",
    "\n",
    "a.name=\"Pratik\"\n",
    "a.occupation=\"HR\"\n",
    "\n",
    "b.name=\"Pritish\"\n",
    "b.occupation=\"Tester\"\n",
    "#print(a.name,a.occupation)\n",
    "a.info()\n",
    "b.info()"
   ]
  },
  {
   "cell_type": "code",
   "execution_count": null,
   "id": "408eb7dc-d6f7-43c8-a34e-8a3071f7cab3",
   "metadata": {},
   "outputs": [],
   "source": [
    "a constructor is a special method in a create and initialize an object of a class.\n",
    "there are different types of constructors.\n",
    "constructors is invoked automacally when an objeect of a class is created.\n",
    "a constructor is a unique function that gets  called automatically when an object  is created of a class.\n",
    "the main purpose of a  constructor is to initialize or assign values to the data members of that class. \n",
    "it cannot return any value other than none"
   ]
  },
  {
   "cell_type": "code",
   "execution_count": 3,
   "id": "2fabaa70-6da1-4588-9137-b13ab3736f82",
   "metadata": {},
   "outputs": [
    {
     "name": "stdout",
     "output_type": "stream",
     "text": [
      "hey iam a person\n",
      "hey iam a person\n",
      "rohii is  a SDE\n",
      "british is  a HR\n"
     ]
    }
   ],
   "source": [
    "class person:\n",
    "\n",
    "    def __init__(self,name,occ):\n",
    "        print(\"hey iam a person\")\n",
    "        self.name=name\n",
    "        self.occ=occ\n",
    "\n",
    "    def info(self):\n",
    "        print(f\"{self.name} is  a {self.occ}\")\n",
    "\n",
    "a=person(\"rohii\",\"SDE\")\n",
    "b=person(\"british\",\"HR\")\n",
    "\n",
    "a.info()\n",
    "b.info()"
   ]
  },
  {
   "cell_type": "code",
   "execution_count": null,
   "id": "d58d531f-37d6-4d43-88f2-ef39ed84e8d2",
   "metadata": {},
   "outputs": [],
   "source": []
  },
  {
   "cell_type": "code",
   "execution_count": null,
   "id": "2e936e28-3b8c-402d-a459-b6c012b57655",
   "metadata": {},
   "outputs": [],
   "source": [
    "In Python, self is used in instance methods to refer to the instance (object) of the class itself.\n",
    "It allows you to access the attributes and methods of the instance within the class. Here's a breakdown of why self is used and how it works:\n",
    "\n",
    "Why self is Used:\n",
    "Refers to the Current Object:\n",
    "self refers to the specific instance of the class that is calling the method.\n",
    "It allows methods to access and modify the attributes and other methods of the instance.\n",
    "Distinguishes Between Instance and Class Variables:\n",
    "It helps differentiate between local variables and instance variables.\n",
    "By using self, you can assign values to instance variables that are unique to each object.\n",
    "Necessary for Method Calls:\n",
    "When you define a method inside a class, self must be the first parameter (even though you don't pass it explicitly when calling the method).\n",
    "Python automatically passes the instance as the first argument when the method is called on an object.\n",
    "Example"
   ]
  },
  {
   "cell_type": "code",
   "execution_count": 12,
   "id": "3640dcc5-3d1b-4021-bf59-19ace138fe4c",
   "metadata": {},
   "outputs": [
    {
     "name": "stdout",
     "output_type": "stream",
     "text": [
      "The Toyota Corolla is starting.\n"
     ]
    }
   ],
   "source": [
    "class Car:\n",
    "    def __init__(self, make, model):\n",
    "        self.make = make  # self.make refers to the instance attribute\n",
    "        self.model = model  # self.model refers to the instance attribute\n",
    "\n",
    "    def start(self):\n",
    "        print(f\"The {self.make} {self.model} is starting.\")\n",
    "\n",
    "# Creating an instance of the Car class\n",
    "my_car = Car(\"Toyota\", \"Corolla\")\n",
    "\n",
    "# Calling the method start() using the object\n",
    "my_car.start()\n"
   ]
  },
  {
   "cell_type": "code",
   "execution_count": null,
   "id": "4a925b43-9370-4212-af8f-f75ff0438d04",
   "metadata": {},
   "outputs": [],
   "source": [
    "How self Works in the Example:\n",
    "When the __init__ method is called, self refers to the new instance (my_car in this case). \n",
    "self.make and self.model store the values passed when the object is created.\n",
    "When my_car.start() is called, self again refers to my_car, allowing the method to access the instance's attributes (self.make and self.model).\n",
    "Summary\n",
    "self is essential for accessing and modifying an object’s attributes and methods within a class.\n",
    "It is used to bind the instance variables with the given arguments and to ensure each object has its own set of attributes and methods,\n",
    "independent of other objects."
   ]
  },
  {
   "cell_type": "code",
   "execution_count": null,
   "id": "2edaa20d-5e74-4e14-83f6-871c1aa370e4",
   "metadata": {},
   "outputs": [],
   "source": []
  },
  {
   "cell_type": "code",
   "execution_count": null,
   "id": "f4ec8911-1825-415e-9b19-b486e3666fbb",
   "metadata": {},
   "outputs": [],
   "source": [
    "experiment no 8"
   ]
  },
  {
   "cell_type": "code",
   "execution_count": null,
   "id": "b668b967-3a54-4d5e-bd4e-686f1502992b",
   "metadata": {},
   "outputs": [],
   "source": [
    "Types of Inheritance in Python\n",
    "Inheritance is a fundamental concept in object-oriented programming (OOP) that allows a class (child class) \n",
    "to inherit attributes and methods from another class (parent class). This promotes code reusability and improves the structure of the code.\n",
    "\n",
    "1. Single Inheritance\n",
    "Definition: In single inheritance, a child class inherits from a single parent class.\n",
    "Syntax:"
   ]
  },
  {
   "cell_type": "code",
   "execution_count": null,
   "id": "2f895725-f119-4e8d-90a6-4444bfc72f8d",
   "metadata": {},
   "outputs": [],
   "source": [
    "class Parent:\n",
    "    # parent class methods and properties\n",
    "    \n",
    "class Child(Parent):\n",
    "    # child class methods and properties\n"
   ]
  },
  {
   "cell_type": "code",
   "execution_count": null,
   "id": "ba847301-575a-4eb0-9c77-10f3ed302175",
   "metadata": {},
   "outputs": [],
   "source": [
    "Example"
   ]
  },
  {
   "cell_type": "code",
   "execution_count": 18,
   "id": "ba6db258-2a64-4db0-bc50-cb17cf016a5f",
   "metadata": {},
   "outputs": [
    {
     "name": "stdout",
     "output_type": "stream",
     "text": [
      "Fuel type: Petrol\n",
      "Car has 4 wheels\n"
     ]
    }
   ],
   "source": [
    "class Vehicle:\n",
    "    def fuel(self):\n",
    "        return \"Fuel type: Petrol\"\n",
    "\n",
    "class Car(Vehicle):\n",
    "    def wheels(self):\n",
    "        return \"Car has 4 wheels\"\n",
    "\n",
    "car = Car()\n",
    "print(car.fuel())    # Output: Fuel type: Petrol\n",
    "print(car.wheels())  # Output: Car has 4 wheels\n"
   ]
  },
  {
   "cell_type": "code",
   "execution_count": 16,
   "id": "5645f07f-f96a-46bc-874b-af7467f0c7a7",
   "metadata": {},
   "outputs": [
    {
     "name": "stdout",
     "output_type": "stream",
     "text": [
      "Fuel type: Petrol\n",
      "Car has 4 wheels\n"
     ]
    }
   ],
   "source": [
    "class Vehicle:\n",
    "    def fuel():\n",
    "        return \"Fuel type: Petrol\"\n",
    "\n",
    "class Car(Vehicle):\n",
    "    def wheels():\n",
    "        return \"Car has 4 wheels\"\n",
    "\n",
    "print(Vehicle.fuel())    # Output: Fuel type: Petrol\n",
    "print(Car.wheels())      # Output: Car has 4 wheels\n"
   ]
  },
  {
   "cell_type": "code",
   "execution_count": null,
   "id": "86d1c9bf-3cad-4108-bdd7-1e755752c92d",
   "metadata": {},
   "outputs": [],
   "source": [
    "Real-Time Use:\n",
    "Projects: A base User class for a software application, and a derived AdminUser class with additional privileges.\n",
    "Scenario: In a company management system, you could use a Person base class and derive Employee and Manager classes to represent different roles."
   ]
  },
  {
   "cell_type": "code",
   "execution_count": null,
   "id": "493b9ea6-8508-44e0-9f71-ae6615c14bbe",
   "metadata": {},
   "outputs": [],
   "source": [
    "2. Multi-Level Inheritance\n",
    "Definition: In multi-level inheritance, a class derives from another class, which is already a derived class. This creates a chain of inheritance.\n",
    "Syntax:"
   ]
  },
  {
   "cell_type": "code",
   "execution_count": null,
   "id": "3827e215-0d77-4f78-a496-6c94afddec78",
   "metadata": {},
   "outputs": [],
   "source": [
    "class A:\n",
    "    # base class\n",
    "    \n",
    "class B(A):\n",
    "    # derived from A\n",
    "    \n",
    "class C(B):\n",
    "    # derived from B\n"
   ]
  },
  {
   "cell_type": "code",
   "execution_count": null,
   "id": "86b0a80a-c1ff-4d1a-b4b2-71025906afd4",
   "metadata": {},
   "outputs": [],
   "source": [
    "Example"
   ]
  },
  {
   "cell_type": "code",
   "execution_count": null,
   "id": "a427423c-218a-43d6-98ba-cf638ce54305",
   "metadata": {},
   "outputs": [],
   "source": [
    "class Animal:\n",
    "    def eat(self):\n",
    "        return \"Eating\"\n",
    "\n",
    "class Mammal(Animal):\n",
    "    def walk(self):\n",
    "        return \"Walking\"\n",
    "\n",
    "class Dog(Mammal):\n",
    "    def bark(self):\n",
    "        return \"Barking\"\n",
    "\n",
    "dog = Dog()\n",
    "print(dog.eat())    # Output: Eating\n",
    "print(dog.walk())   # Output: Walking\n",
    "print(dog.bark())   # Output: Barking\n"
   ]
  },
  {
   "cell_type": "code",
   "execution_count": null,
   "id": "39f9c6e8-9407-4426-87f2-de57e8c7beac",
   "metadata": {},
   "outputs": [],
   "source": [
    "Real-Time Use:\n",
    "Projects: A multi-level hierarchy for an e-commerce platform where Product is the base class,Clothing is derived from Product,\n",
    "and TShirt is derived from Clothing.\n",
    "Scenario: For an online course platform, you might have Course as the base class, ProgrammingCourse as a derived class,\n",
    "and PythonCourse as a further specialized class."
   ]
  },
  {
   "cell_type": "code",
   "execution_count": null,
   "id": "635814ae-a4ab-42bf-9d4e-6bb12c5413d9",
   "metadata": {},
   "outputs": [],
   "source": [
    "3. Multiple Inheritance\n",
    "Definition: A class can inherit attributes and methods from multiple base classes.\n",
    "Syntax"
   ]
  },
  {
   "cell_type": "code",
   "execution_count": null,
   "id": "1883eca1-0f9b-42de-9d74-4844fe7a78da",
   "metadata": {},
   "outputs": [],
   "source": [
    "class Base1:\n",
    "    # base class 1\n",
    "    \n",
    "class Base2:\n",
    "    # base class 2\n",
    "    \n",
    "class Derived(Base1, Base2):\n",
    "    # inherits from both Base1 and Base2\n"
   ]
  },
  {
   "cell_type": "code",
   "execution_count": null,
   "id": "2740794e-964c-4a66-ae16-177ce9e3a74d",
   "metadata": {},
   "outputs": [],
   "source": [
    "Example"
   ]
  },
  {
   "cell_type": "code",
   "execution_count": 8,
   "id": "9dfce552-5565-4e59-a42f-9af4d24e3973",
   "metadata": {},
   "outputs": [
    {
     "name": "stdout",
     "output_type": "stream",
     "text": [
      "Petrol Engine with Sedan Body\n"
     ]
    }
   ],
   "source": [
    "class Engine:\n",
    "    def engine_type(self):\n",
    "        return \"Petrol Engine\"\n",
    "\n",
    "class Body:\n",
    "    def body_type(self):\n",
    "        return \"Sedan Body\"\n",
    "\n",
    "class Car(Engine, Body):\n",
    "    def car_details(self):\n",
    "        return f\"{self.engine_type()} with {self.body_type()}\"\n",
    "\n",
    "car = Car()\n",
    "print(car.car_details())  # Output: Petrol Engine with Sedan Body\n"
   ]
  },
  {
   "cell_type": "code",
   "execution_count": null,
   "id": "4812da05-e5be-455a-a9f2-d89cf2d0e046",
   "metadata": {},
   "outputs": [],
   "source": [
    "Real-Time Use:\n",
    "Projects: In a software development environment, Employee and Freelancer classes can be combined into a HybridEmployee class.\n",
    "Scenario: For a smart home system, a LightController class and a TemperatureController class could be inherited together to create a SmartDevice class."
   ]
  },
  {
   "cell_type": "code",
   "execution_count": null,
   "id": "417011ea-129c-4fed-acc1-baf720e59691",
   "metadata": {},
   "outputs": [],
   "source": [
    "4. Hierarchical Inheritance\n",
    "Definition: Multiple child classes inherit from the same parent class.\n",
    "Syntax"
   ]
  },
  {
   "cell_type": "code",
   "execution_count": null,
   "id": "41665657-d356-454b-aeb5-ec7d26eb5678",
   "metadata": {},
   "outputs": [],
   "source": [
    "class Parent:\n",
    "    # parent class\n",
    "    \n",
    "class Child1(Parent):\n",
    "    # first child class\n",
    "    \n",
    "class Child2(Parent):\n",
    "    # second child class\n"
   ]
  },
  {
   "cell_type": "code",
   "execution_count": null,
   "id": "c192288a-4933-410f-b224-f601427ef8e8",
   "metadata": {},
   "outputs": [],
   "source": [
    "Example"
   ]
  },
  {
   "cell_type": "code",
   "execution_count": 10,
   "id": "6d12a4ca-ff71-4ffd-a58d-69c09e0c0999",
   "metadata": {},
   "outputs": [
    {
     "name": "stdout",
     "output_type": "stream",
     "text": [
      "78.5\n",
      "16\n"
     ]
    }
   ],
   "source": [
    "class Shape:\n",
    "    def area(self):\n",
    "        return \"Calculating area\"\n",
    "\n",
    "class Circle(Shape):\n",
    "    def area(self, radius):\n",
    "        return 3.14 * radius * radius\n",
    "\n",
    "class Square(Shape):\n",
    "    def area(self, side):\n",
    "        return side * side\n",
    "\n",
    "circle = Circle()\n",
    "square = Square()\n",
    "print(circle.area(5))  # Output: 78.5\n",
    "print(square.area(4))  # Output: 16\n"
   ]
  },
  {
   "cell_type": "code",
   "execution_count": null,
   "id": "a33e3fb0-0d7c-4ced-a6aa-fe34b8dd66fc",
   "metadata": {},
   "outputs": [],
   "source": [
    "Real-Time Use:\n",
    "Projects: A Notification system where different types like EmailNotification and SMSNotification classes inherit from a single Notification base class.\n",
    "Scenario: In a library system, a LibraryItem base class can have Book, Magazine, and DVD as derived classes."
   ]
  },
  {
   "cell_type": "code",
   "execution_count": null,
   "id": "5c88b75e-bad5-4cfb-b4b6-38219b29d618",
   "metadata": {},
   "outputs": [],
   "source": [
    "Hybrid Inheritance\n",
    "Definition: A combination of multiple types of inheritance (single, multiple, multi-level, hierarchical). \n",
    "It demonstrates flexibility in OOP.\n",
    "Example Structure: A base class has two child classes that, in turn, have their own derived classes. \n",
    "These derived classes may further have relationships with each other.\n",
    "Example"
   ]
  },
  {
   "cell_type": "code",
   "execution_count": null,
   "id": "3dc0f274-fffc-408f-9632-867c522abb93",
   "metadata": {},
   "outputs": [],
   "source": [
    "class A:\n",
    "    def method_a(self):\n",
    "        return \"Method A\"\n",
    "\n",
    "class B(A):\n",
    "    def method_b(self):\n",
    "        return \"Method B\"\n",
    "\n",
    "class C(A):\n",
    "    def method_c(self):\n",
    "        return \"Method C\"\n",
    "\n",
    "class D(B, C):\n",
    "    def method_d(self):\n",
    "        return \"Method D\"\n",
    "\n",
    "d = D()\n",
    "print(d.method_a())  # Output: Method A\n",
    "print(d.method_b())  # Output: Method B\n",
    "print(d.method_c())  # Output: Method C\n",
    "print(d.method_d())  # Output: Method D\n"
   ]
  },
  {
   "cell_type": "code",
   "execution_count": null,
   "id": "d5a6a7ce-db32-40cb-8d74-a57f9cd69400",
   "metadata": {},
   "outputs": [],
   "source": [
    "Real-Time Use:\n",
    "Projects: A multi-functional vehicle management system where Vehicle, ElectricVehicle, and AutonomousVehicle classes combine various inheritance types.\n",
    "Scenario: In an education system, a Person class can have Teacher and Student classes derived from it. Further,\n",
    "the Teacher class can combine with other classes like SportsCoach to create a specialized PhysicalEducationTeacher."
   ]
  },
  {
   "cell_type": "code",
   "execution_count": null,
   "id": "f11a04c1-da5f-4d2f-8470-be03468e2791",
   "metadata": {},
   "outputs": [],
   "source": [
    "Assignment: Library System\n",
    "Objective: Write a Python program to implement different types of inheritance for a simple library system.\n",
    "\n",
    "Instructions:\n",
    "\n",
    "Create a base class called LibraryItem with a method details() that prints \"This is a library item\".\n",
    "Create a derived class called Book that inherits from LibraryItem and adds a method category() that prints \"This is a book\".\n",
    "Create another derived class called Magazine that also inherits from LibraryItem and adds a method category() that prints \"This is a magazine\".\n",
    "Create a multi-level inheritance:\n",
    "Create a class called EBook that inherits from Book and adds a method format() that prints \"This is a digital book format\".\n",
    "Demonstrate multiple inheritance:\n",
    "Create a class called SpecialEdition that inherits from both Book and Magazine, and adds a method edition_type() that \n",
    "prints \"This is a special edition item\".\n",
    "Program Requirements:\n",
    "\n",
    "Call the methods of each class and print the outputs to show how inheritance works."
   ]
  },
  {
   "cell_type": "code",
   "execution_count": 20,
   "id": "78f17683-0118-4931-8789-67de44cf579b",
   "metadata": {},
   "outputs": [
    {
     "name": "stdout",
     "output_type": "stream",
     "text": [
      "This is a library item\n",
      "This is a book\n",
      "This is a magazine\n",
      "This is a digital book format\n",
      "This is a special edition item\n"
     ]
    }
   ],
   "source": [
    "class LibraryItem:\n",
    "    def details():\n",
    "        print(\"This is a library item\")\n",
    "\n",
    "class Book(LibraryItem):\n",
    "    def category():\n",
    "        print(\"This is a book\")\n",
    "\n",
    "class Magazine(LibraryItem):\n",
    "    def category():\n",
    "        print(\"This is a magazine\")\n",
    "\n",
    "class EBook(Book):\n",
    "    def format():\n",
    "        print(\"This is a digital book format\")\n",
    "\n",
    "class SpecialEdition(Book, Magazine):\n",
    "    def edition_type():\n",
    "        print(\"This is a special edition item\")\n",
    "\n",
    "# Testing the classes\n",
    "LibraryItem.details()\n",
    "Book.category()\n",
    "Magazine.category()\n",
    "EBook.format()\n",
    "SpecialEdition.edition_type()\n"
   ]
  },
  {
   "cell_type": "code",
   "execution_count": null,
   "id": "175434b0-d16d-4b0d-a374-1636c26e4bd3",
   "metadata": {},
   "outputs": [],
   "source": []
  },
  {
   "cell_type": "code",
   "execution_count": null,
   "id": "d9a6f53f-eb1a-4ac0-a1de-93d0aa93fb98",
   "metadata": {},
   "outputs": [],
   "source": [
    "experiment 10"
   ]
  },
  {
   "cell_type": "code",
   "execution_count": null,
   "id": "50585523-bcb5-4a92-a6ae-ad84407eb2e5",
   "metadata": {},
   "outputs": [],
   "source": [
    "Notes on Packages and Libraries in Python\n",
    "Introduction to Packages\n",
    "In Python, packages organize code like folders organize files.\n",
    "A package can contain multiple modules (Python files), making code management easier.\n",
    "This is useful in larger projects, where related functions are grouped for easier access.\n",
    "Creating a Custom Package\n",
    "Setup:\n",
    "\n",
    "Create a new folder, e.g., mypckg.\n",
    "Inside mypckg, create two Python files, mod1.py and mod2.py.\n",
    "Add an __init__.py file in mypckg. This file can be empty or specify what should be imported when mypckg is imported.\n",
    "Example:\n",
    "\n",
    "mod1.py"
   ]
  },
  {
   "cell_type": "code",
   "execution_count": 1,
   "id": "2e925722-02be-4402-9a83-8e3015ee4595",
   "metadata": {},
   "outputs": [],
   "source": [
    "def greet():\n",
    "    return \"Hello from mod1\"\n"
   ]
  },
  {
   "cell_type": "code",
   "execution_count": null,
   "id": "93f2c675-f3cb-4496-9791-40bbfd3d04e7",
   "metadata": {},
   "outputs": [],
   "source": [
    "mod2.py:\n"
   ]
  },
  {
   "cell_type": "code",
   "execution_count": 3,
   "id": "cd8d112b-e178-499b-bac0-1bdc5d05ceda",
   "metadata": {},
   "outputs": [],
   "source": [
    "def farewell():\n",
    "    return \"Goodbye from mod2\"\n"
   ]
  },
  {
   "cell_type": "code",
   "execution_count": null,
   "id": "e5b575f0-884c-4c58-8774-22c651fbc647",
   "metadata": {},
   "outputs": [],
   "source": [
    "Now, from any Python file in the project, you can import and use the package:"
   ]
  },
  {
   "cell_type": "code",
   "execution_count": null,
   "id": "87066f70-5263-4710-9500-b1ef70f1f6d9",
   "metadata": {},
   "outputs": [],
   "source": [
    "from mypckg import mod1, mod2\n",
    "\n",
    "print(mod1.greet())       # Output: Hello from mod1\n",
    "print(mod2.farewell())    # Output: Goodbye from mod2\n"
   ]
  },
  {
   "cell_type": "code",
   "execution_count": null,
   "id": "aa09a2f8-cd6f-48a5-87bf-3444a7e596ce",
   "metadata": {},
   "outputs": [],
   "source": [
    "Using Standard Libraries\n",
    "Python has several built-in libraries useful across various fields. Here’s a quick overview of some important ones:\n",
    "\n",
    "Pandas:\n",
    "\n",
    "Used for data manipulation and analysis, especially with tables and time series.\n",
    "Example"
   ]
  },
  {
   "cell_type": "code",
   "execution_count": 7,
   "id": "d7660232-8db2-406d-9f47-2733effdb963",
   "metadata": {},
   "outputs": [
    {
     "name": "stdout",
     "output_type": "stream",
     "text": [
      "    Name  Age\n",
      "0  Alice   25\n",
      "1    Bob   30\n"
     ]
    }
   ],
   "source": [
    "import pandas as pd\n",
    "data = pd.DataFrame({\"Name\": [\"Alice\", \"Bob\"], \"Age\": [25, 30]})\n",
    "print(data)\n"
   ]
  },
  {
   "cell_type": "code",
   "execution_count": null,
   "id": "ba0e3f22-f3aa-463b-8961-23c31650cd87",
   "metadata": {},
   "outputs": [],
   "source": [
    "NumPy:\n",
    "\n",
    "Essential for numerical operations, especially with arrays and matrices.\n",
    "Example"
   ]
  },
  {
   "cell_type": "code",
   "execution_count": 9,
   "id": "8ef44e5d-7805-42b3-a62a-03b3acfa3ab6",
   "metadata": {},
   "outputs": [
    {
     "name": "stdout",
     "output_type": "stream",
     "text": [
      "[2 4 6]\n"
     ]
    }
   ],
   "source": [
    "import numpy as np\n",
    "arr = np.array([1, 2, 3])\n",
    "print(arr * 2)  # Output: [2, 4, 6]\n"
   ]
  },
  {
   "cell_type": "code",
   "execution_count": null,
   "id": "32218d47-34bb-4217-96e5-c2605d5a6fba",
   "metadata": {},
   "outputs": [],
   "source": [
    "Requests:\n",
    "\n",
    "Facilitates making HTTP requests, helpful for web-related data.\n",
    "Example:"
   ]
  },
  {
   "cell_type": "code",
   "execution_count": 11,
   "id": "63a684e6-4aa7-470a-87fc-389201f2c667",
   "metadata": {},
   "outputs": [
    {
     "name": "stdout",
     "output_type": "stream",
     "text": [
      "200\n"
     ]
    }
   ],
   "source": [
    "import requests\n",
    "response = requests.get(\"https://api.github.com\")\n",
    "print(response.status_code)  # Output: 200 (OK)\n"
   ]
  },
  {
   "cell_type": "code",
   "execution_count": null,
   "id": "e2dc14bd-c1e7-4212-aa0d-a896420af5c1",
   "metadata": {},
   "outputs": [],
   "source": [
    "SciPy:\n",
    "\n",
    "Built on NumPy, used for scientific and technical computations.\n",
    "Example"
   ]
  },
  {
   "cell_type": "code",
   "execution_count": 13,
   "id": "ee07e769-7b2b-40d6-a541-b296e138214b",
   "metadata": {},
   "outputs": [
    {
     "name": "stdout",
     "output_type": "stream",
     "text": [
      "120.0\n"
     ]
    }
   ],
   "source": [
    "from scipy.special import factorial\n",
    "print(factorial(5))  # Output: 120\n"
   ]
  },
  {
   "cell_type": "code",
   "execution_count": null,
   "id": "3f0c263e-057d-478a-8f6a-8fda52a15da9",
   "metadata": {},
   "outputs": [],
   "source": [
    "SQLite3:\n",
    "\n",
    "A lightweight database management library.\n",
    "Example:"
   ]
  },
  {
   "cell_type": "code",
   "execution_count": 15,
   "id": "f1ef8deb-02d4-45a6-ad84-a66458bd7b06",
   "metadata": {},
   "outputs": [
    {
     "data": {
      "text/plain": [
       "<sqlite3.Cursor at 0x2639c288840>"
      ]
     },
     "execution_count": 15,
     "metadata": {},
     "output_type": "execute_result"
    }
   ],
   "source": [
    "import sqlite3\n",
    "conn = sqlite3.connect(':memory:')\n",
    "cursor = conn.cursor()\n",
    "cursor.execute(\"CREATE TABLE students (name TEXT, age INTEGER)\")\n"
   ]
  },
  {
   "cell_type": "code",
   "execution_count": null,
   "id": "c82df900-d90b-4c27-a6a0-17ab69606a79",
   "metadata": {},
   "outputs": [],
   "source": [
    "Conclusion\n",
    "Understanding packages and libraries is essential for Python programming, \n",
    "as it allows better organization and use of powerful tools without writing everything from scratch. \n",
    "This knowledge will help students structure projects and use resources more effectively."
   ]
  },
  {
   "cell_type": "code",
   "execution_count": null,
   "id": "38143696-e71a-4137-a68c-cc33685ac9f7",
   "metadata": {},
   "outputs": [],
   "source": []
  },
  {
   "cell_type": "code",
   "execution_count": null,
   "id": "34746857-a734-4096-b631-db1675d403f5",
   "metadata": {},
   "outputs": [],
   "source": [
    "experiment 11"
   ]
  },
  {
   "cell_type": "code",
   "execution_count": null,
   "id": "fd1ba117-391a-4989-a187-7c66460dafd6",
   "metadata": {},
   "outputs": [],
   "source": [
    "1. Tkinter Basics\n",
    "Tkinter is a standard Python library used for creating graphical user interfaces (GUIs).\n",
    "Tkinter makes it easy to create windows, add elements (like buttons, labels, text boxes), and arrange them with geometry managers.\n",
    "2. Creating the Main Window"
   ]
  },
  {
   "cell_type": "code",
   "execution_count": 17,
   "id": "421dabd8-8a47-457b-8988-826f6e5df511",
   "metadata": {},
   "outputs": [],
   "source": [
    "import tkinter as tk\n",
    "from tkinter import messagebox\n"
   ]
  },
  {
   "cell_type": "code",
   "execution_count": null,
   "id": "6c4d8043-447c-4c24-bf71-6b3d4bed1607",
   "metadata": {},
   "outputs": [],
   "source": [
    "We import the tkinter library, aliasing it as tk for convenience.\n",
    "We also import messagebox from Tkinter to display popup messages."
   ]
  },
  {
   "cell_type": "code",
   "execution_count": 19,
   "id": "6442572d-fedc-4064-b9b9-4919ea20ac0f",
   "metadata": {},
   "outputs": [
    {
     "data": {
      "text/plain": [
       "''"
      ]
     },
     "execution_count": 19,
     "metadata": {},
     "output_type": "execute_result"
    }
   ],
   "source": [
    "window = tk.Tk()\n",
    "window.title(\"Simple Tkinter GUI Application\")\n",
    "window.geometry(\"400x300\")\n"
   ]
  },
  {
   "cell_type": "code",
   "execution_count": null,
   "id": "7cd1b0ac-20e2-4941-aa4e-5989f0be622a",
   "metadata": {},
   "outputs": [],
   "source": [
    "tk.Tk() creates the main application window where all widgets will be placed.\n",
    ".title() sets the title of the window.\n",
    ".geometry(\"400x300\") sets the window size to 400x300 pixels."
   ]
  },
  {
   "cell_type": "code",
   "execution_count": null,
   "id": "05fa38a6-3c33-47c9-9e77-48d30082bbe2",
   "metadata": {},
   "outputs": [],
   "source": [
    "3. Widgets\n",
    "Widgets are individual GUI elements (like buttons, labels, text boxes) that display information or allow user interaction.\n",
    "\n",
    "Label Widget"
   ]
  },
  {
   "cell_type": "code",
   "execution_count": 21,
   "id": "1da9298a-3975-4c8e-bf89-5df541327d5b",
   "metadata": {},
   "outputs": [],
   "source": [
    "label = tk.Label(window, text=\"Welcome to Tkinter GUI\", font=(\"Arial\", 16))\n",
    "label.pack(pady=10)\n"
   ]
  },
  {
   "cell_type": "code",
   "execution_count": null,
   "id": "ac3f6c98-0785-4879-a375-3ee66c8eb109",
   "metadata": {},
   "outputs": [],
   "source": [
    "Label is used to display text or images.\n",
    "text parameter provides the content of the label.\n",
    "font sets the font style and size.\n",
    "pack() is a geometry manager that arranges the widget in the window. The pady=10 argument adds vertical padding.\n",
    "Entry Widget"
   ]
  },
  {
   "cell_type": "code",
   "execution_count": 23,
   "id": "31f1670a-f0a2-4013-87b7-749d2d722d9a",
   "metadata": {},
   "outputs": [],
   "source": [
    "entry_label = tk.Label(window, text=\"Enter your name:\")\n",
    "entry_label.pack()\n",
    "name_entry = tk.Entry(window, width=30)\n",
    "name_entry.pack()\n"
   ]
  },
  {
   "cell_type": "code",
   "execution_count": null,
   "id": "8e1ed90a-4d01-44e9-9841-886e9e9f4a52",
   "metadata": {},
   "outputs": [],
   "source": [
    "Entry creates a single-line text input box where users can type data.\n",
    "width=30 sets the width of the entry box."
   ]
  },
  {
   "cell_type": "code",
   "execution_count": null,
   "id": "da0a9043-88a4-437e-8a19-732e1916fddd",
   "metadata": {},
   "outputs": [],
   "source": [
    "4. Button and Command Function\n",
    "Defining the Button Action (Callback Function)"
   ]
  },
  {
   "cell_type": "code",
   "execution_count": 25,
   "id": "2afaf1fb-e2cf-4cbc-98c5-601e2ee707fb",
   "metadata": {},
   "outputs": [],
   "source": [
    "def on_submit():\n",
    "    name = name_entry.get()\n",
    "    if name:\n",
    "        messagebox.showinfo(\"Greetings\", f\"Hello, {name}!\")\n",
    "    else:\n",
    "        messagebox.showwarning(\"Input Error\", \"Please enter your name.\")\n"
   ]
  },
  {
   "cell_type": "code",
   "execution_count": null,
   "id": "1eb6cbea-19f0-48fd-ace6-75940fdc7417",
   "metadata": {},
   "outputs": [],
   "source": [
    "on_submit() is a function that’s called when the button is pressed.\n",
    ".get() retrieves the text entered by the user in name_entry.\n",
    "messagebox.showinfo() and messagebox.showwarning() create pop-up windows with custom messages."
   ]
  },
  {
   "cell_type": "code",
   "execution_count": 27,
   "id": "fb652949-818b-44f9-9407-67dd6f1930e7",
   "metadata": {},
   "outputs": [],
   "source": [
    "submit_button = tk.Button(window, text=\"Submit\", command=on_submit)\n",
    "submit_button.pack(pady=10)\n"
   ]
  },
  {
   "cell_type": "code",
   "execution_count": null,
   "id": "4b87f81c-6ac6-4edb-9a6e-5d34fa013b8e",
   "metadata": {},
   "outputs": [],
   "source": [
    "Button creates a clickable button.\n",
    "text defines the button label.\n",
    "command=on_submit links the button to the on_submit() function, meaning this function will run when the button is clicked.\n",
    "pack(pady=10) adds padding around the button.\n"
   ]
  },
  {
   "cell_type": "code",
   "execution_count": null,
   "id": "f14b13c3-f51c-4d2c-967f-9b5bbc31c5ee",
   "metadata": {},
   "outputs": [],
   "source": [
    "5. Radiobuttons"
   ]
  },
  {
   "cell_type": "code",
   "execution_count": 29,
   "id": "ca662313-8de1-4b18-abba-4beeafa1898b",
   "metadata": {},
   "outputs": [],
   "source": [
    "radio_label = tk.Label(window, text=\"Choose your option:\")\n",
    "radio_label.pack()\n",
    "\n",
    "selected_option = tk.StringVar(value=\"Option 1\")\n",
    "radio1 = tk.Radiobutton(window, text=\"Option 1\", variable=selected_option, value=\"Option 1\")\n",
    "radio1.pack(anchor='w')\n",
    "radio2 = tk.Radiobutton(window, text=\"Option 2\", variable=selected_option, value=\"Option 2\")\n",
    "radio2.pack(anchor='w')\n"
   ]
  },
  {
   "cell_type": "code",
   "execution_count": null,
   "id": "00036628-85f0-4a92-9fbb-cbd297bbf054",
   "metadata": {},
   "outputs": [],
   "source": [
    "Radio Buttons allow the user to select only one option from a list.\n",
    "StringVar() holds the value of the selected option.\n",
    "variable=selected_option: Assigns the radio button's value to selected_option.\n",
    "value=\"Option 1\" and value=\"Option 2\": Set values that represent each choice.\n",
    "anchor='w' aligns the radio buttons to the left"
   ]
  },
  {
   "cell_type": "code",
   "execution_count": null,
   "id": "a69cc326-f7db-4a0b-b7cc-c09c23f13d29",
   "metadata": {},
   "outputs": [],
   "source": [
    "6. Geometry Managers\n",
    "Tkinter provides three geometry managers: pack, grid, and place. Each one has its own strengths for arranging widgets.\n",
    "\n",
    "Pack Geometry Manager\n",
    "pack() organizes widgets in blocks before placing them in the window, often used when you want to arrange widgets vertically or horizontally.\n",
    "\n",
    "Options in pack():\n",
    "pady/padx: Adds vertical/horizontal padding.\n",
    "expand=True: Expands the widget to fill any additional space.\n",
    "fill: Specifies whether the widget should expand to fill the space (e.g., fill='x' fills horizontally).\n",
    "Grid Geometry Manager\n",
    "grid() arranges widgets in a table-like structure, which can make layouts more organized and flexible."
   ]
  },
  {
   "cell_type": "code",
   "execution_count": 31,
   "id": "71a29d0c-5c2d-427a-bea6-06c5c449af5b",
   "metadata": {},
   "outputs": [],
   "source": [
    "grid_frame = tk.Frame(window)\n",
    "grid_frame.pack(pady=10)\n",
    "\n",
    "grid_label = tk.Label(grid_frame, text=\"Grid Example\")\n",
    "grid_label.grid(row=0, column=0, padx=10, pady=5)\n",
    "entry_grid = tk.Entry(grid_frame)\n",
    "entry_grid.grid(row=0, column=1, padx=10, pady=5)\n"
   ]
  },
  {
   "cell_type": "code",
   "execution_count": null,
   "id": "96343def-ffac-489d-ad9d-18eb205baa5f",
   "metadata": {},
   "outputs": [],
   "source": [
    "row and column: Specify the row and column position of the widget.\n",
    "padx and pady: Define padding within the grid cell.\n",
    "Place Geometry Manager\n",
    "place() positions widgets at specific x and y coordinates."
   ]
  },
  {
   "cell_type": "code",
   "execution_count": 33,
   "id": "01b709dc-ddfb-42ad-9809-36f454638b3f",
   "metadata": {},
   "outputs": [],
   "source": [
    "place_button = tk.Button(window, text=\"Close\", command=window.destroy)\n",
    "place_button.place(x=180, y=250)\n"
   ]
  },
  {
   "cell_type": "code",
   "execution_count": null,
   "id": "d68c54f8-fb64-4f04-b57c-00e1b996b03d",
   "metadata": {},
   "outputs": [],
   "source": [
    "x and y: Define the horizontal and vertical position of the widget on the window.\n",
    "window.destroy closes the application when the button is clicked.\n",
    "7. Main Loop\n",
    "Finally, we start the GUI’s main event loop, which keeps the application running and responsive:"
   ]
  },
  {
   "cell_type": "code",
   "execution_count": 35,
   "id": "a159ef8b-1b01-4c84-8cfc-bcb063add027",
   "metadata": {},
   "outputs": [],
   "source": [
    "window.mainloop()\n"
   ]
  },
  {
   "cell_type": "code",
   "execution_count": null,
   "id": "512074a9-c8cd-4809-85e4-860034c5bdd3",
   "metadata": {},
   "outputs": [],
   "source": [
    "mainloop() is an infinite loop that waits for events like button clicks and responds accordingly. This keeps the window open until the user closes it."
   ]
  },
  {
   "cell_type": "code",
   "execution_count": null,
   "id": "3d724db9-e63d-425d-ae7d-aa6aea822126",
   "metadata": {},
   "outputs": [],
   "source": [
    "Summary of Concepts Covered\n",
    "Tkinter Widgets: Buttons, Labels, Entries, and Radiobuttons.\n",
    "Geometry Managers: pack, grid, and place to arrange widgets in the window.\n",
    "Command Functions: How to link buttons to functions.\n",
    "Event Loop: Keeps the application running.\n",
    "By mastering these concepts, students can build a variety of applications with Tkinter, \n",
    "ranging from simple input forms to interactive applications with multiple widgets."
   ]
  },
  {
   "cell_type": "code",
   "execution_count": null,
   "id": "3be8b9c2-3c64-46fe-af31-8b09ea4bd7ab",
   "metadata": {},
   "outputs": [],
   "source": []
  },
  {
   "cell_type": "code",
   "execution_count": null,
   "id": "492c24bb-278c-4944-b4b2-3b2bc4c75447",
   "metadata": {},
   "outputs": [],
   "source": [
    "experiment12"
   ]
  },
  {
   "cell_type": "code",
   "execution_count": null,
   "id": "5805ebb9-7139-422e-bffa-e5201c666f99",
   "metadata": {},
   "outputs": [],
   "source": [
    "1. Multithreading Overview\n",
    "Multithreading is a technique where multiple threads (lightweight subprocesses) execute concurrently. Threads share the same memory space, making data sharing and communication more straightforward than with multiprocessing.\n",
    "Process vs. Thread: A process is an instance of a program in execution, whereas a thread is a sequence within a process that can be executed independently. A single process can contain multiple threads.\n",
    "Thread Control Block (TCB): Each thread has a TCB containing its unique identifiers (TID), stack pointer, program counter, state, and register set.\n",
    "2. The threading Module\n",
    "In Python, the threading module provides tools to work with threads. It includes:\n",
    "Thread class: The main class for creating and managing threads.\n",
    "Functions like start() and join() to manage thread execution.\n",
    "3. Importing Libraries:\n",
    "import threading: Imports the threading module, which lets you create and control threads in Python.\n",
    "import time: Allows adding delays in the program using time.sleep() and measuring the time taken by the threads.\n",
    "4. Defining Functions for Concurrent Execution\n",
    "calculate_square(numbers):\n",
    "\n",
    "Takes a list of numbers and calculates the square of each.\n",
    "time.sleep(0.2): Adds a delay of 0.2 seconds between calculations, simulating a time-consuming task.\n",
    "calculate_cube(numbers):\n",
    "\n",
    "Similar to calculate_square but calculates the cube of each number.\n",
    "This function also has a time.sleep(0.2) delay to simulate processing time.\n",
    "5. Creating and Starting Threads\n",
    "Creating Threads:\n",
    "\n",
    "thread1 = threading.Thread(target=calculate_square, args=(numbers,)): Creates a thread with the calculate_square function as the task to execute. args specifies the arguments to pass to the target function (a tuple of numbers).\n",
    "thread2 = threading.Thread(target=calculate_cube, args=(numbers,)): Similar to thread1, this creates a thread for calculate_cube.\n",
    "Parameters:\n",
    "target: The function the thread will execute.\n",
    "args: Arguments passed to the target function, in a tuple format.\n",
    "Starting Threads with start():\n",
    "\n",
    "thread1.start(): Begins the execution of thread1.\n",
    "thread2.start(): Begins the execution of thread2.\n",
    "Note: start() must be called once per thread; calling it again raises an exception.\n",
    "6. Synchronizing Threads with join()\n",
    "join() blocks the main thread until the target thread completes its execution.\n",
    "Example: After thread1.start() and thread2.start(), join() for each thread ensures the program waits until both thread1 and thread2 finish their tasks before moving forward. Without join(), the main thread might continue to run independently of the child threads.\n",
    "7. Measuring Execution Time\n",
    "start_time = time.time(): Captures the current time before thread execution.\n",
    "end_time = time.time(): Captures the time after all threads complete.\n",
    "Total time taken by threads: Calculated as end_time - start_time, measuring how long both threads took to execute. This time is usually shorter than running the functions sequentially due to parallelism.\n",
    "8. Race Condition and Critical Section (Synchronization)\n",
    "Critical Section: A part of the program where shared resources are accessed by multiple threads. When two threads access shared resources simultaneously, it can lead to inconsistent data, called a race condition.\n",
    "Avoiding Race Conditions: In more complex programs, we use locks or other synchronization mechanisms to ensure only one thread accesses the critical section at a time.\n",
    "Full Code Walkthrough:"
   ]
  },
  {
   "cell_type": "code",
   "execution_count": 37,
   "id": "ceeae3d2-a802-482c-b3cf-72c84e06a80d",
   "metadata": {},
   "outputs": [
    {
     "name": "stdout",
     "output_type": "stream",
     "text": [
      "Calculating squares:\n",
      "Calculating cubes:\n",
      "Square of 2 is: 4Cube of 2 is: 8\n",
      "\n",
      "Cube of 3 is: 27\n",
      "Square of 3 is: 9\n",
      "Square of 4 is: 16Cube of 4 is: 64\n",
      "\n",
      "Square of 5 is: 25\n",
      "Cube of 5 is: 125\n",
      "Total time taken by threads is: 0.8138411045074463 seconds\n"
     ]
    }
   ],
   "source": [
    "import threading  # Import threading module for multithreading\n",
    "import time       # Import time module to add delays and measure execution time\n",
    "\n",
    "# Function to calculate the square of numbers\n",
    "def calculate_square(numbers):\n",
    "    print(\"Calculating squares:\")\n",
    "    for n in numbers:\n",
    "        time.sleep(0.2)  # Simulates a time-consuming task\n",
    "        print(f\"Square of {n} is: {n * n}\")\n",
    "\n",
    "# Function to calculate the cube of numbers\n",
    "def calculate_cube(numbers):\n",
    "    print(\"Calculating cubes:\")\n",
    "    for n in numbers:\n",
    "        time.sleep(0.2)  # Simulates a time-consuming task\n",
    "        print(f\"Cube of {n} is: {n * n * n}\")\n",
    "\n",
    "# Main function that creates and manages threads\n",
    "def main():\n",
    "    numbers = [2, 3, 4, 5]  # List of numbers to use in both functions\n",
    "    \n",
    "    # Create two threads for the two functions\n",
    "    thread1 = threading.Thread(target=calculate_square, args=(numbers,))\n",
    "    thread2 = threading.Thread(target=calculate_cube, args=(numbers,))\n",
    "    \n",
    "    # Start time to measure total execution time\n",
    "    start_time = time.time()\n",
    "    \n",
    "    # Start both threads\n",
    "    thread1.start()\n",
    "    thread2.start()\n",
    "    \n",
    "    # Wait for both threads to finish before continuing\n",
    "    thread1.join()\n",
    "    thread2.join()\n",
    "    \n",
    "    # Calculate end time and print total time taken\n",
    "    end_time = time.time()\n",
    "    print(f\"Total time taken by threads is: {end_time - start_time} seconds\")\n",
    "\n",
    "# Run the main function if this file is executed directly\n",
    "if __name__ == \"__main__\":\n",
    "    main()\n"
   ]
  },
  {
   "cell_type": "code",
   "execution_count": null,
   "id": "dcef5760-6208-4820-a06d-dda5719241c7",
   "metadata": {},
   "outputs": [],
   "source": [
    "Key Takeaways\n",
    "Multithreading: Efficiently manages tasks simultaneously, allowing for faster program execution, especially when tasks are independent.\n",
    "threading.Thread(): Simplifies creating and managing threads in Python.\n",
    "Synchronization with join(): Ensures threads finish before continuing with other tasks, preventing unfinished threads from causing issues.\n",
    "Time Efficiency: Shows how multithreading can speed up execution by allowing tasks to run concurrently.\n",
    "This program demonstrates the basics of multithreading in Python and how threads can be used to improve efficiency."
   ]
  }
 ],
 "metadata": {
  "kernelspec": {
   "display_name": "Python 3 (ipykernel)",
   "language": "python",
   "name": "python3"
  },
  "language_info": {
   "codemirror_mode": {
    "name": "ipython",
    "version": 3
   },
   "file_extension": ".py",
   "mimetype": "text/x-python",
   "name": "python",
   "nbconvert_exporter": "python",
   "pygments_lexer": "ipython3",
   "version": "3.12.4"
  }
 },
 "nbformat": 4,
 "nbformat_minor": 5
}
