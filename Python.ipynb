{
 "cells": [
  {
   "cell_type": "markdown",
   "id": "adb98bdc-4061-4571-895c-94d8bcaf7681",
   "metadata": {},
   "source": [
    "functions in python"
   ]
  },
  {
   "cell_type": "markdown",
   "id": "64bab067-21fc-42d3-a680-85368af53d8e",
   "metadata": {},
   "source": [
    "A function is a block of code which only runs when it is called.\n",
    "\r\n",
    "You can pass data, known as parameters, into a functio.\r\n",
    "\r\n",
    "A function can return data as a result.\r\n",
    "\r\n",
    "Some Benefits of Using Functions\r\n",
    "\r\n",
    "Increase Code Readability \r\n",
    "Increase Code Reusability"
   ]
  },
  {
   "cell_type": "code",
   "execution_count": null,
   "id": "521f2794-e859-4b2b-b67d-25d47c489ae2",
   "metadata": {},
   "outputs": [],
   "source": [
    "Syntax of Python Function"
   ]
  },
  {
   "cell_type": "code",
   "execution_count": null,
   "id": "61f4a214-9861-4f6f-a230-09009ea795f5",
   "metadata": {},
   "outputs": [],
   "source": [
    "def name_of_function( parameters ):\n",
    "\"\"\"This is a docstring\"\"\"\n",
    "# code block"
   ]
  },
  {
   "cell_type": "code",
   "execution_count": null,
   "id": "0e2ed961-44bc-44c4-b603-39f195b71e8d",
   "metadata": {},
   "outputs": [],
   "source": [
    "User-Defined Function"
   ]
  },
  {
   "cell_type": "code",
   "execution_count": 13,
   "id": "aa88d7e1-6b75-4a39-95b8-c2397e8503c5",
   "metadata": {},
   "outputs": [
    {
     "name": "stdout",
     "output_type": "stream",
     "text": [
      "Hello John\n"
     ]
    }
   ],
   "source": [
    "def greet(name):\n",
    "    print(\"Hello\", name)\n",
    "\n",
    "# pass argument\n",
    "greet(\"John\")"
   ]
  },
  {
   "cell_type": "code",
   "execution_count": null,
   "id": "a78ac63f-a575-4039-8084-8ac1f9a36e40",
   "metadata": {},
   "outputs": [],
   "source": [
    "Function Arguments\n",
    "The following are the types of arguments that we can use to call a function:\n",
    "1. Default arguments\n",
    "2. Keyword arguments\n",
    "3. Required arguments\n",
    "4. Variable-length arguments"
   ]
  },
  {
   "cell_type": "code",
   "execution_count": null,
   "id": "e1f1e94f-e16d-484f-84f1-7058ac527063",
   "metadata": {},
   "outputs": [],
   "source": [
    "1. Default Arguments:\n",
    "Default arguments allow you to set a default value for a function parameter. \n",
    "This means that if the user doesn't provide a value for that argument, the default will be used automatically.\n",
    "\n",
    "Analogy: Imagine you run a coffee shop. The default size of a coffee is \"Medium,\" but customers can specify if they want a \"Small\" or \"Large.\""
   ]
  },
  {
   "cell_type": "code",
   "execution_count": 1,
   "id": "bc7cc7d9-4b6e-411b-b9bb-8209928d5328",
   "metadata": {},
   "outputs": [
    {
     "name": "stdout",
     "output_type": "stream",
     "text": [
      "You ordered a Medium coffee.\n",
      "You ordered a Large coffee.\n"
     ]
    }
   ],
   "source": [
    "def order_coffee(size=\"Medium\"):\n",
    "    print(f\"You ordered a {size} coffee.\")\n",
    "\n",
    "# Calling the function with and without an argument\n",
    "order_coffee()           # Default size is used\n",
    "order_coffee(\"Large\")     # Custom size is used\n"
   ]
  },
  {
   "cell_type": "code",
   "execution_count": null,
   "id": "bb0efd88-9d72-4c6a-a503-3ddc2de2cf95",
   "metadata": {},
   "outputs": [],
   "source": [
    "Key Point: If no value is provided, Python will use the default. If a value is provided, the default is overridden."
   ]
  },
  {
   "cell_type": "code",
   "execution_count": null,
   "id": "d76fdec6-0ff7-42b5-9ccc-2027cde60043",
   "metadata": {},
   "outputs": [],
   "source": []
  }
 ],
 "metadata": {
  "kernelspec": {
   "display_name": "Python 3 (ipykernel)",
   "language": "python",
   "name": "python3"
  },
  "language_info": {
   "codemirror_mode": {
    "name": "ipython",
    "version": 3
   },
   "file_extension": ".py",
   "mimetype": "text/x-python",
   "name": "python",
   "nbconvert_exporter": "python",
   "pygments_lexer": "ipython3",
   "version": "3.12.4"
  }
 },
 "nbformat": 4,
 "nbformat_minor": 5
}
