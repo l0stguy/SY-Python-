{
 "cells": [
  {
   "cell_type": "markdown",
   "id": "adb98bdc-4061-4571-895c-94d8bcaf7681",
   "metadata": {},
   "source": [
    "functions in python"
   ]
  },
  {
   "cell_type": "markdown",
   "id": "64bab067-21fc-42d3-a680-85368af53d8e",
   "metadata": {},
   "source": [
    "A function is a block of code which only runs when it is called.\n",
    "\r\n",
    "You can pass data, known as parameters, into a functio.\r\n",
    "\r\n",
    "A function can return data as a result.\r\n",
    "\r\n",
    "Some Benefits of Using Functions\r\n",
    "\r\n",
    "Increase Code Readability \r\n",
    "Increase Code Reusability"
   ]
  },
  {
   "cell_type": "code",
   "execution_count": null,
   "id": "521f2794-e859-4b2b-b67d-25d47c489ae2",
   "metadata": {},
   "outputs": [],
   "source": [
    "Syntax of Python Function"
   ]
  },
  {
   "cell_type": "code",
   "execution_count": null,
   "id": "61f4a214-9861-4f6f-a230-09009ea795f5",
   "metadata": {},
   "outputs": [],
   "source": [
    "def name_of_function( parameters ):\n",
    "\"\"\"This is a docstring\"\"\"\n",
    "# code block"
   ]
  },
  {
   "cell_type": "code",
   "execution_count": null,
   "id": "0e2ed961-44bc-44c4-b603-39f195b71e8d",
   "metadata": {},
   "outputs": [],
   "source": [
    "User-Defined Function"
   ]
  },
  {
   "cell_type": "code",
   "execution_count": 13,
   "id": "aa88d7e1-6b75-4a39-95b8-c2397e8503c5",
   "metadata": {},
   "outputs": [
    {
     "name": "stdout",
     "output_type": "stream",
     "text": [
      "Hello John\n"
     ]
    }
   ],
   "source": [
    "def greet(name):\n",
    "    print(\"Hello\", name)\n",
    "\n",
    "# pass argument\n",
    "greet(\"John\")"
   ]
  },
  {
   "cell_type": "code",
   "execution_count": null,
   "id": "a78ac63f-a575-4039-8084-8ac1f9a36e40",
   "metadata": {},
   "outputs": [],
   "source": [
    "Function Arguments\n",
    "The following are the types of arguments that we can use to call a function:\n",
    "1. Default arguments\n",
    "2. Keyword arguments\n",
    "3. Required arguments\n",
    "4. Variable-length arguments"
   ]
  },
  {
   "cell_type": "code",
   "execution_count": null,
   "id": "e1f1e94f-e16d-484f-84f1-7058ac527063",
   "metadata": {},
   "outputs": [],
   "source": [
    "1. Default Arguments:\n",
    "Default arguments allow you to set a default value for a function parameter. \n",
    "This means that if the user doesn't provide a value for that argument, the default will be used automatically.\n",
    "\n",
    "Analogy: Imagine you run a coffee shop. The default size of a coffee is \"Medium,\" but customers can specify if they want a \"Small\" or \"Large.\""
   ]
  },
  {
   "cell_type": "code",
   "execution_count": 1,
   "id": "bc7cc7d9-4b6e-411b-b9bb-8209928d5328",
   "metadata": {},
   "outputs": [
    {
     "name": "stdout",
     "output_type": "stream",
     "text": [
      "You ordered a Medium coffee.\n",
      "You ordered a Large coffee.\n"
     ]
    }
   ],
   "source": [
    "def order_coffee(size=\"Medium\"):\n",
    "    print(f\"You ordered a {size} coffee.\")\n",
    "\n",
    "# Calling the function with and without an argument\n",
    "order_coffee()           # Default size is used\n",
    "order_coffee(\"Large\")     # Custom size is used\n"
   ]
  },
  {
   "cell_type": "code",
   "execution_count": null,
   "id": "bb0efd88-9d72-4c6a-a503-3ddc2de2cf95",
   "metadata": {},
   "outputs": [],
   "source": [
    "Key Point: If no value is provided, Python will use the default. If a value is provided, the default is overridden."
   ]
  },
  {
   "cell_type": "code",
   "execution_count": null,
   "id": "d76fdec6-0ff7-42b5-9ccc-2027cde60043",
   "metadata": {},
   "outputs": [],
   "source": [
    "2. Keyword Arguments:\n",
    "Keyword arguments allow you to pass arguments by name, not just by position.\n",
    "This makes the code more readable and allows you to specify only the arguments you want, in any order.\n",
    "\n",
    "Analogy: When ordering a sandwich, you can specify the bread, fillings, and extras.\n",
    "You don’t have to follow a strict order as long as you know what you're asking for."
   ]
  },
  {
   "cell_type": "code",
   "execution_count": 3,
   "id": "28c672e4-e4ce-4320-8f12-4ad391fd5fea",
   "metadata": {},
   "outputs": [
    {
     "name": "stdout",
     "output_type": "stream",
     "text": [
      "You ordered a sandwich with Wheat bread, Turkey filling, and Mayo sauce.\n",
      "You ordered a sandwich with White bread, Chicken filling, and Mustard sauce.\n"
     ]
    }
   ],
   "source": [
    "def make_sandwich(bread, filling, sauce):\n",
    "    print(f\"You ordered a sandwich with {bread} bread, {filling} filling, and {sauce} sauce.\")\n",
    "\n",
    "# Using keyword arguments\n",
    "make_sandwich(bread=\"Wheat\", filling=\"Turkey\", sauce=\"Mayo\")\n",
    "make_sandwich(filling=\"Chicken\", sauce=\"Mustard\", bread=\"White\")  # Different order works\n"
   ]
  },
  {
   "cell_type": "code",
   "execution_count": null,
   "id": "491c1d75-ba8d-4957-9422-471ea093a7d6",
   "metadata": {},
   "outputs": [],
   "source": [
    "Key Point: Keyword arguments make your function calls more readable, and you can pass them in any order."
   ]
  },
  {
   "cell_type": "code",
   "execution_count": null,
   "id": "f55143ab-359f-40fd-9b27-5e9a17c32eb1",
   "metadata": {},
   "outputs": [],
   "source": [
    "3. Required Arguments:\n",
    "Required arguments are arguments that must be provided when calling the function.\n",
    "If you don’t pass them, Python will raise an error because the function can’t work without that information.\n",
    "\n",
    "Analogy: Imagine ordering pizza without specifying the type.\n",
    "The pizza shop can't prepare your pizza unless you tell them what kind of pizza you want!"
   ]
  },
  {
   "cell_type": "code",
   "execution_count": 5,
   "id": "6d27ef35-cc39-42b2-80a2-0c7766b81ce0",
   "metadata": {},
   "outputs": [
    {
     "name": "stdout",
     "output_type": "stream",
     "text": [
      "Hello, Alice!\n"
     ]
    },
    {
     "ename": "TypeError",
     "evalue": "greet_person() missing 1 required positional argument: 'name'",
     "output_type": "error",
     "traceback": [
      "\u001b[1;31m---------------------------------------------------------------------------\u001b[0m",
      "\u001b[1;31mTypeError\u001b[0m                                 Traceback (most recent call last)",
      "Cell \u001b[1;32mIn[5], line 5\u001b[0m\n\u001b[0;32m      2\u001b[0m     \u001b[38;5;28mprint\u001b[39m(\u001b[38;5;124mf\u001b[39m\u001b[38;5;124m\"\u001b[39m\u001b[38;5;124mHello, \u001b[39m\u001b[38;5;132;01m{\u001b[39;00mname\u001b[38;5;132;01m}\u001b[39;00m\u001b[38;5;124m!\u001b[39m\u001b[38;5;124m\"\u001b[39m)\n\u001b[0;32m      4\u001b[0m greet_person(\u001b[38;5;124m\"\u001b[39m\u001b[38;5;124mAlice\u001b[39m\u001b[38;5;124m\"\u001b[39m)  \u001b[38;5;66;03m# Works fine\u001b[39;00m\n\u001b[1;32m----> 5\u001b[0m greet_person()\n",
      "\u001b[1;31mTypeError\u001b[0m: greet_person() missing 1 required positional argument: 'name'"
     ]
    }
   ],
   "source": [
    "def greet_person(name):\n",
    "    print(f\"Hello, {name}!\")\n",
    "\n",
    "greet_person(\"Alice\")  # Works fine\n",
    "greet_person()         # Will cause an error\n"
   ]
  },
  {
   "cell_type": "code",
   "execution_count": null,
   "id": "9b1d0e98-fba4-401d-8f94-e4a6c49e5f75",
   "metadata": {},
   "outputs": [],
   "source": [
    "Key Point: If a function has required arguments, you must provide them, or Python will throw an error."
   ]
  },
  {
   "cell_type": "code",
   "execution_count": null,
   "id": "fa2f089a-4df2-4bc0-a513-71a072ed39e7",
   "metadata": {},
   "outputs": [],
   "source": [
    "Understanding Variable-Length Arguments in Python\n",
    "Sometimes, we need functions that can handle different numbers of inputs.\n",
    "Think of it like ordering food.\n",
    "Sometimes you might order just one thing, other times you might order five different items.\n",
    "In programming, *args and **kwargs help us create flexible \"orders\" that can take in as many items as we want."
   ]
  },
  {
   "cell_type": "code",
   "execution_count": null,
   "id": "1f89e1da-4e5b-4f60-bfab-9c6f6226ce7d",
   "metadata": {},
   "outputs": [],
   "source": [
    "1. *args: Handling Multiple Positional Arguments\n",
    "Imagine you're ordering pizzas with your friends.\n",
    "Everyone may want to order different numbers of pizzas.\n",
    "You can use *args in Python to collect all the pizza orders, no matter how many."
   ]
  },
  {
   "cell_type": "code",
   "execution_count": 7,
   "id": "d4138403-0396-4dfa-9fb3-9a923c07e24c",
   "metadata": {},
   "outputs": [
    {
     "name": "stdout",
     "output_type": "stream",
     "text": [
      "You ordered these pizzas:\n",
      "Pepperoni\n",
      "Margherita\n",
      "BBQ Chicken\n"
     ]
    }
   ],
   "source": [
    "def order_pizzas(*pizzas):\n",
    "    print(\"You ordered these pizzas:\")\n",
    "    for pizza in pizzas:\n",
    "        print(pizza)\n",
    "\n",
    "order_pizzas(\"Pepperoni\", \"Margherita\", \"BBQ Chicken\")\n"
   ]
  },
  {
   "cell_type": "code",
   "execution_count": null,
   "id": "66645293-1513-498d-9d18-a39236dbd116",
   "metadata": {},
   "outputs": [],
   "source": [
    "Here, *pizzas allows you to list as many pizzas as you want.\n",
    "The function doesn't care if you want to order one or ten pizzas!"
   ]
  },
  {
   "cell_type": "code",
   "execution_count": null,
   "id": "051d02fe-d33b-4def-9d33-a3584d050a01",
   "metadata": {},
   "outputs": [],
   "source": [
    "2. **kwargs: Handling Named Inputs (Keyword Arguments)\n",
    "Now, let’s say you also want to specify details for each pizza, like the size, crust type, or extra toppings.\n",
    "This is where **kwargs comes in handy. Think of it as ordering pizzas with specific requests for each one."
   ]
  },
  {
   "cell_type": "code",
   "execution_count": 9,
   "id": "b0725af7-5e3e-4f15-a8f3-5e9a10ce34b8",
   "metadata": {},
   "outputs": [
    {
     "name": "stdout",
     "output_type": "stream",
     "text": [
      "Pepperoni: Large with extra cheese\n",
      "Margherita: Medium with thin crust\n"
     ]
    }
   ],
   "source": [
    "def order_with_details(**pizza_details):\n",
    "    for pizza, detail in pizza_details.items():\n",
    "        print(f\"{pizza}: {detail}\")\n",
    "\n",
    "order_with_details(Pepperoni=\"Large with extra cheese\", Margherita=\"Medium with thin crust\")\n"
   ]
  },
  {
   "cell_type": "code",
   "execution_count": null,
   "id": "e124c340-94fa-413a-822a-a293e9403ad1",
   "metadata": {},
   "outputs": [],
   "source": [
    "Here, **pizza_details allows you to specify any kind of detail about each pizza by using named inputs (like size, crust, etc.)."
   ]
  },
  {
   "cell_type": "code",
   "execution_count": null,
   "id": "038ce4f3-6011-4d48-9ae0-6e32b5a4ba2d",
   "metadata": {},
   "outputs": [],
   "source": [
    "Real-Life Application:\n",
    "think about functions like a \"shopping cart\" where you might add many items (*args) and specify different options for each item (**kwargs).\n",
    " This makes your code more adaptable to changing inputs, just like how a real-world system needs to handle different types of orders."
   ]
  },
  {
   "cell_type": "code",
   "execution_count": null,
   "id": "7fa98c27-dffe-4814-9440-59e1dfa89451",
   "metadata": {},
   "outputs": [],
   "source": [
    "Default Arguments: Use them when a function should have a fallback value if the user doesn’t provide one.\n",
    "Example: def order_coffee(size=\"Medium\")\n",
    "Keyword Arguments: Pass arguments by name, so the order doesn’t matter.\n",
    "Example: make_sandwich(filling=\"Turkey\", bread=\"White\")\n",
    "Required Arguments: Arguments that must be provided when the function is called.\n",
    "Example: greet_person(name)\n",
    "This structure helps you create flexible, readable, and user-friendly functions in Python!\n",
    "*args collects multiple positional arguments (like a list of items).\n",
    "**kwargs collects multiple keyword arguments (like item details)."
   ]
  },
  {
   "cell_type": "code",
   "execution_count": null,
   "id": "415444c3-6f87-4a24-9f13-54bb9c64e251",
   "metadata": {},
   "outputs": [],
   "source": []
  },
  {
   "cell_type": "code",
   "execution_count": null,
   "id": "335b2edb-89cf-4459-b755-b6d86d10b985",
   "metadata": {},
   "outputs": [],
   "source": [
    "1. What’s an Exception?\n",
    "An exception is an error that occurs during the execution of a program.\n",
    "When Python encounters an exception, it stops the normal flow of the program and looks for a way to handle the error."
   ]
  },
  {
   "cell_type": "code",
   "execution_count": 2,
   "id": "94428613-e9b1-4f1d-a5f5-7e5f15766d26",
   "metadata": {},
   "outputs": [
    {
     "ename": "ZeroDivisionError",
     "evalue": "division by zero",
     "output_type": "error",
     "traceback": [
      "\u001b[1;31m---------------------------------------------------------------------------\u001b[0m",
      "\u001b[1;31mZeroDivisionError\u001b[0m                         Traceback (most recent call last)",
      "Cell \u001b[1;32mIn[2], line 3\u001b[0m\n\u001b[0;32m      1\u001b[0m x \u001b[38;5;241m=\u001b[39m \u001b[38;5;241m10\u001b[39m\n\u001b[0;32m      2\u001b[0m y \u001b[38;5;241m=\u001b[39m \u001b[38;5;241m0\u001b[39m\n\u001b[1;32m----> 3\u001b[0m result \u001b[38;5;241m=\u001b[39m x \u001b[38;5;241m/\u001b[39m y\n",
      "\u001b[1;31mZeroDivisionError\u001b[0m: division by zero"
     ]
    }
   ],
   "source": [
    "x = 10\n",
    "y = 0\n",
    "result = x / y  # Division by zero will raise an exception\n"
   ]
  },
  {
   "cell_type": "code",
   "execution_count": null,
   "id": "221b9f3c-ea31-483d-a4b5-bab6f75f5ecc",
   "metadata": {},
   "outputs": [],
   "source": [
    "In this case, dividing by zero causes a ZeroDivisionError exception, and the program will stop unless you handle this exception."
   ]
  },
  {
   "cell_type": "code",
   "execution_count": null,
   "id": "96954e42-70af-4f4e-8fad-52fe2159c7b7",
   "metadata": {},
   "outputs": [],
   "source": [
    "2. Exceptions versus Syntax Errors\n",
    "Syntax Errors: These are errors in the structure or syntax of your code.\n",
    "They prevent the program from even running. Python catches these during the compilation phase."
   ]
  },
  {
   "cell_type": "code",
   "execution_count": null,
   "id": "c9af2802-0bc2-4f52-837e-893b9729b581",
   "metadata": {},
   "outputs": [],
   "source": [
    "Example of a Syntax Error:"
   ]
  },
  {
   "cell_type": "code",
   "execution_count": 4,
   "id": "2bf8bdd0-380e-4c64-8670-dfccaeae712c",
   "metadata": {},
   "outputs": [
    {
     "ename": "SyntaxError",
     "evalue": "expected ':' (978664451.py, line 1)",
     "output_type": "error",
     "traceback": [
      "\u001b[1;36m  Cell \u001b[1;32mIn[4], line 1\u001b[1;36m\u001b[0m\n\u001b[1;33m    if x > 5   # Missing colon\u001b[0m\n\u001b[1;37m               ^\u001b[0m\n\u001b[1;31mSyntaxError\u001b[0m\u001b[1;31m:\u001b[0m expected ':'\n"
     ]
    }
   ],
   "source": [
    "if x > 5   # Missing colon\n",
    "    print(x)\n"
   ]
  },
  {
   "cell_type": "code",
   "execution_count": null,
   "id": "7fd440dc-d50a-4865-8fd7-4490449ec999",
   "metadata": {},
   "outputs": [],
   "source": [
    "Exceptions: These are errors that occur while the program is running (during the execution phase), and they can be handled."
   ]
  },
  {
   "cell_type": "code",
   "execution_count": null,
   "id": "6a590e25-797e-4d51-8326-d99802403f81",
   "metadata": {},
   "outputs": [],
   "source": [
    "Example of an Exception:"
   ]
  },
  {
   "cell_type": "code",
   "execution_count": 6,
   "id": "cef33351-9381-40b7-a374-dddd121063b7",
   "metadata": {},
   "outputs": [
    {
     "ename": "ValueError",
     "evalue": "invalid literal for int() with base 10: 'Hello'",
     "output_type": "error",
     "traceback": [
      "\u001b[1;31m---------------------------------------------------------------------------\u001b[0m",
      "\u001b[1;31mValueError\u001b[0m                                Traceback (most recent call last)",
      "Cell \u001b[1;32mIn[6], line 1\u001b[0m\n\u001b[1;32m----> 1\u001b[0m num \u001b[38;5;241m=\u001b[39m \u001b[38;5;28mint\u001b[39m(\u001b[38;5;124m\"\u001b[39m\u001b[38;5;124mHello\u001b[39m\u001b[38;5;124m\"\u001b[39m)\n",
      "\u001b[1;31mValueError\u001b[0m: invalid literal for int() with base 10: 'Hello'"
     ]
    }
   ],
   "source": [
    "num = int(\"Hello\")  # Trying to convert a string to an integer\n"
   ]
  },
  {
   "cell_type": "code",
   "execution_count": null,
   "id": "ff2cdf43-8bb4-4cb0-9691-4406972fc563",
   "metadata": {},
   "outputs": [],
   "source": [
    "3. Try and Except Statement - Catching Exceptions\n",
    "The try block lets you test a block of code for exceptions.\n",
    "The except block lets you handle the error if it occurs, preventing your program from crashing."
   ]
  },
  {
   "cell_type": "code",
   "execution_count": null,
   "id": "a45b8436-894a-4b3d-a778-50676529851d",
   "metadata": {},
   "outputs": [],
   "source": [
    "Syntax:"
   ]
  },
  {
   "cell_type": "code",
   "execution_count": null,
   "id": "907c5aa8-f543-4520-bb50-bc58745da40d",
   "metadata": {},
   "outputs": [],
   "source": [
    "try:\n",
    "    # Code that might raise an exception\n",
    "except ExceptionType:\n",
    "    # Code to handle the exception\n"
   ]
  },
  {
   "cell_type": "code",
   "execution_count": null,
   "id": "4f26f38d-c207-48fb-92d4-82d37557a8b3",
   "metadata": {},
   "outputs": [],
   "source": [
    "Example:\n"
   ]
  },
  {
   "cell_type": "code",
   "execution_count": 8,
   "id": "266d8268-49d6-4776-a4ab-bee0fb0ef5bf",
   "metadata": {},
   "outputs": [
    {
     "name": "stdout",
     "output_type": "stream",
     "text": [
      "You cannot divide by zero!\n"
     ]
    }
   ],
   "source": [
    "try:\n",
    "    x = 10 / 0\n",
    "except ZeroDivisionError:\n",
    "    print(\"You cannot divide by zero!\")\n"
   ]
  },
  {
   "cell_type": "code",
   "execution_count": null,
   "id": "b10a937a-2cee-465e-abc0-998144bf54a1",
   "metadata": {},
   "outputs": [],
   "source": [
    "You can also catch multiple exceptions and specify what happens for each one:\n",
    "\n",
    "Example (Multiple Exceptions):"
   ]
  },
  {
   "cell_type": "code",
   "execution_count": 10,
   "id": "8ff15fae-48c8-4fcf-abb1-17c54c3bd8fc",
   "metadata": {},
   "outputs": [
    {
     "name": "stdout",
     "output_type": "stream",
     "text": [
      "Invalid input for integer conversion!\n"
     ]
    }
   ],
   "source": [
    "try:\n",
    "    x = int(\"Hello\")\n",
    "except ZeroDivisionError:\n",
    "    print(\"You cannot divide by zero!\")\n",
    "except ValueError:\n",
    "    print(\"Invalid input for integer conversion!\")\n"
   ]
  },
  {
   "cell_type": "code",
   "execution_count": null,
   "id": "a7d29948-ca7b-4fb3-9b57-b8809d3d5878",
   "metadata": {},
   "outputs": [],
   "source": [
    "4. Finally Keyword in Python\n",
    "The finally block is used to define code that should be executed no matter what, whether an exception occurs or not.\n",
    "It’s typically used for cleanup actions (like closing a file or a database connection).\n",
    "\n",
    "Syntax:"
   ]
  },
  {
   "cell_type": "code",
   "execution_count": null,
   "id": "632c3386-4ba8-40cc-9db1-0c2143a5e2f6",
   "metadata": {},
   "outputs": [],
   "source": [
    "try:\n",
    "    # Code that might raise an exception\n",
    "except:\n",
    "    # Code to handle the exception\n",
    "finally:\n",
    "    # Code that will run no matter what\n"
   ]
  },
  {
   "cell_type": "code",
   "execution_count": null,
   "id": "02da18d2-b807-45e8-a42b-2af19ab62f85",
   "metadata": {},
   "outputs": [],
   "source": [
    "Example:"
   ]
  },
  {
   "cell_type": "code",
   "execution_count": 12,
   "id": "18b431ad-5951-46d6-9890-182c85958957",
   "metadata": {},
   "outputs": [
    {
     "name": "stdout",
     "output_type": "stream",
     "text": [
      "Error: File not found or can't be written to.\n",
      "This block will run no matter what.\n"
     ]
    }
   ],
   "source": [
    "try:\n",
    "    file = open(\"testfile.txt\", \"r\")\n",
    "    file.write(\"Hello World!\")\n",
    "except IOError:\n",
    "    print(\"Error: File not found or can't be written to.\")\n",
    "finally:\n",
    "    print(\"This block will run no matter what.\")\n"
   ]
  },
  {
   "cell_type": "code",
   "execution_count": null,
   "id": "604028fe-76e2-41fa-9a71-1145db8edf67",
   "metadata": {},
   "outputs": [],
   "source": [
    "The finally block is useful for tasks like closing files or freeing resources, which should always happen even if an error occurs."
   ]
  },
  {
   "cell_type": "code",
   "execution_count": null,
   "id": "389b2ea9-26f7-485c-9a07-636158817421",
   "metadata": {},
   "outputs": [],
   "source": [
    "5. User-Defined Exceptions\n",
    "Python also allows you to define your own exceptions. This is useful when you want to create custom error conditions for your specific needs.\n",
    "\n",
    "Steps to Define a Custom Exception:\n",
    "Create a new class that inherits from Exception (or a more specific exception class).\n",
    "Raise this exception in your code when appropriate.\n",
    "Example:"
   ]
  },
  {
   "cell_type": "code",
   "execution_count": 14,
   "id": "52ec1882-f8c8-4769-b998-baa1882bf3bc",
   "metadata": {},
   "outputs": [
    {
     "name": "stdout",
     "output_type": "stream",
     "text": [
      "This is a custom error!\n"
     ]
    }
   ],
   "source": [
    "class MyCustomError(Exception):\n",
    "    \"\"\"User-defined exception class.\"\"\"\n",
    "    pass\n",
    "\n",
    "# Raise the custom exception\n",
    "try:\n",
    "    raise MyCustomError(\"This is a custom error!\")\n",
    "except MyCustomError as e:\n",
    "    print(e)\n"
   ]
  },
  {
   "cell_type": "code",
   "execution_count": null,
   "id": "b9b551d5-0b7e-4e17-8104-a132e622dbe0",
   "metadata": {},
   "outputs": [],
   "source": [
    "You can add more features to your user-defined exception, such as additional methods or properties, to customize its behavior."
   ]
  },
  {
   "cell_type": "code",
   "execution_count": null,
   "id": "396e2032-316c-4042-857a-d408dd6a23d8",
   "metadata": {},
   "outputs": [],
   "source": [
    "Summary:"
   ]
  },
  {
   "cell_type": "code",
   "execution_count": null,
   "id": "b9b6c4fc-1d8b-4c76-81f5-ec8984ea83e3",
   "metadata": {},
   "outputs": [],
   "source": [
    "Exceptions are errors that occur during the execution of a program. You can handle them to avoid crashing your program.\n",
    "Syntax Errors occur during compilation and prevent the program from running.\n",
    "Use the try and except blocks to catch and handle exceptions.\n",
    "The finally block ensures that code runs no matter what, typically used for cleanup.\n",
    "User-Defined Exceptions allow you to create custom error-handling scenarios for your specific needs."
   ]
  },
  {
   "cell_type": "code",
   "execution_count": 3,
   "id": "1cba42be-a38d-44ff-83de-5abe6fcd8bb6",
   "metadata": {},
   "outputs": [
    {
     "name": "stdout",
     "output_type": "stream",
     "text": [
      "hey you cant divide a number by zero\n",
      "bye\n"
     ]
    }
   ],
   "source": [
    "a=5\n",
    "b=0\n",
    "\n",
    "try:\n",
    "    print(a/b)\n",
    "except Exception:\n",
    "    print(\"hey you cant divide a number by zero\")\n",
    "print(\"bye\")"
   ]
  },
  {
   "cell_type": "code",
   "execution_count": 5,
   "id": "eb2d9a5a-8013-4cad-b3cb-40e96325bec3",
   "metadata": {},
   "outputs": [
    {
     "name": "stdout",
     "output_type": "stream",
     "text": [
      "hey you cant divide a number by zero division by zero\n",
      "bye\n"
     ]
    }
   ],
   "source": [
    "a=5\n",
    "b=0\n",
    "\n",
    "try:\n",
    "    print(a/b)\n",
    "except Exception as e:\n",
    "    #e is representation or object of exception\n",
    "    print(\"hey you cant divide a number by zero\", e)\n",
    "print(\"bye\")"
   ]
  },
  {
   "cell_type": "code",
   "execution_count": 9,
   "id": "fa839ca8-4365-450e-aca4-9d83e1fac0a6",
   "metadata": {},
   "outputs": [
    {
     "name": "stdout",
     "output_type": "stream",
     "text": [
      "resource open\n",
      "1.0\n",
      "resource closed\n",
      "bye\n"
     ]
    }
   ],
   "source": [
    "a=5\n",
    "b=5\n",
    "\n",
    "try:\n",
    "    print(\"resource open\")\n",
    "    print(a/b)\n",
    "    print(\"resource closed\")\n",
    "except Exception as e:\n",
    "    #e is representation or object of exception\n",
    "    print(\"hey you cant divide a number by zero\", e)\n",
    "print(\"bye\")"
   ]
  },
  {
   "cell_type": "code",
   "execution_count": 7,
   "id": "074652b8-a2d1-4c54-a8ff-e846ac56091a",
   "metadata": {},
   "outputs": [
    {
     "name": "stdout",
     "output_type": "stream",
     "text": [
      "resource open\n",
      "hey you cant divide a number by zero division by zero\n",
      "bye\n"
     ]
    }
   ],
   "source": [
    "a=5\n",
    "b=0\n",
    "\n",
    "try:\n",
    "    print(\"resource open\")\n",
    "    print(a/b)\n",
    "    print(\"resource closed\")\n",
    "except Exception as e:\n",
    "    #e is representation or object of exception\n",
    "    print(\"hey you cant divide a number by zero\", e)\n",
    "print(\"bye\")"
   ]
  },
  {
   "cell_type": "code",
   "execution_count": 11,
   "id": "8da67564-d5b7-4155-b505-a9f3a36d4209",
   "metadata": {},
   "outputs": [
    {
     "name": "stdout",
     "output_type": "stream",
     "text": [
      "resource open\n",
      "hey you cant divide a number by zero division by zero\n",
      "resource closed\n",
      "bye\n"
     ]
    }
   ],
   "source": [
    "a=5\n",
    "b=0\n",
    "\n",
    "try:\n",
    "    print(\"resource open\")\n",
    "    print(a/b)\n",
    "    \n",
    "except Exception as e:\n",
    "    #e is representation or object of exception\n",
    "    print(\"hey you cant divide a number by zero\", e)\n",
    "    print(\"resource closed\")\n",
    "    \n",
    "print(\"bye\")"
   ]
  },
  {
   "cell_type": "code",
   "execution_count": 13,
   "id": "d00400d8-75e8-4439-8194-f04c8227a30f",
   "metadata": {},
   "outputs": [
    {
     "name": "stdout",
     "output_type": "stream",
     "text": [
      "resource open\n",
      "1.0\n",
      "bye\n"
     ]
    }
   ],
   "source": [
    "a=5\n",
    "b=5\n",
    "\n",
    "try:\n",
    "    print(\"resource open\")\n",
    "    print(a/b)\n",
    "    \n",
    "except Exception as e:\n",
    "    #e is representation or object of exception\n",
    "    print(\"hey you cant divide a number by zero\", e)\n",
    "    print(\"resource closed\")\n",
    "    \n",
    "print(\"bye\")"
   ]
  },
  {
   "cell_type": "code",
   "execution_count": 17,
   "id": "858604e6-577e-447c-b900-04cc93683169",
   "metadata": {},
   "outputs": [
    {
     "name": "stdout",
     "output_type": "stream",
     "text": [
      "resource open\n",
      "1.0\n",
      "resource closed\n",
      "bye\n"
     ]
    }
   ],
   "source": [
    "a=5\n",
    "b=5\n",
    "\n",
    "try:\n",
    "    print(\"resource open\")\n",
    "    print(a/b)\n",
    "    \n",
    "except Exception as e:\n",
    "    #e is representation or object of exception\n",
    "    print(\"hey you cant divide a number by zero\", e)\n",
    "    \n",
    "\n",
    "finally:\n",
    "    #finally block will be executed if we get error as well as if we dont get the error\n",
    "    print(\"resource closed\")\n",
    "    \n",
    "print(\"bye\")"
   ]
  },
  {
   "cell_type": "code",
   "execution_count": 21,
   "id": "8de2fb09-1f5a-47b1-a83e-2df9c0a3e65e",
   "metadata": {},
   "outputs": [
    {
     "name": "stdout",
     "output_type": "stream",
     "text": [
      "resource open\n",
      "1.0\n"
     ]
    },
    {
     "name": "stdin",
     "output_type": "stream",
     "text": [
      "enter number 1213\n"
     ]
    },
    {
     "name": "stdout",
     "output_type": "stream",
     "text": [
      "1213\n",
      "resource closed\n",
      "bye\n"
     ]
    }
   ],
   "source": [
    "a=5\n",
    "b=5\n",
    "\n",
    "try:\n",
    "    print(\"resource open\")\n",
    "    print(a/b)\n",
    "    r=int(input(\"enter number\"))\n",
    "    print(r)\n",
    "    \n",
    "except Exception as e:\n",
    "    #e is representation or object of exception\n",
    "    print(\"hey you cant divide a number by zero\", e)\n",
    "    \n",
    "\n",
    "finally:\n",
    "    #finally block will be executed if we get error as well as if we dont get the error\n",
    "    print(\"resource closed\")\n",
    "    \n"
   ]
  },
  {
   "cell_type": "code",
   "execution_count": 23,
   "id": "d9a5022d-0b6f-41cf-9ac3-e6fe698a3bde",
   "metadata": {},
   "outputs": [
    {
     "name": "stdout",
     "output_type": "stream",
     "text": [
      "resource open\n",
      "1.0\n"
     ]
    },
    {
     "name": "stdin",
     "output_type": "stream",
     "text": [
      "enter number r\n"
     ]
    },
    {
     "name": "stdout",
     "output_type": "stream",
     "text": [
      "hey you cant divide a number by zero invalid literal for int() with base 10: 'r'\n",
      "resource closed\n"
     ]
    }
   ],
   "source": [
    "a=5\n",
    "b=5\n",
    "\n",
    "try:\n",
    "    print(\"resource open\")\n",
    "    print(a/b)\n",
    "    r=int(input(\"enter number\"))\n",
    "    print(r)\n",
    "    \n",
    "except Exception as e:\n",
    "    #e is representation or object of exception\n",
    "    print(\"hey you cant divide a number by zero\", e)\n",
    "    \n",
    "\n",
    "finally:\n",
    "    #finally block will be executed if we get error as well as if we dont get the error\n",
    "    print(\"resource closed\")"
   ]
  },
  {
   "cell_type": "code",
   "execution_count": 25,
   "id": "885380de-cb8b-421f-b453-43e8709334df",
   "metadata": {},
   "outputs": [
    {
     "name": "stdout",
     "output_type": "stream",
     "text": [
      "resource open\n",
      "1.0\n"
     ]
    },
    {
     "name": "stdin",
     "output_type": "stream",
     "text": [
      "enter number r\n"
     ]
    },
    {
     "name": "stdout",
     "output_type": "stream",
     "text": [
      "invalid input\n",
      "resource closed\n"
     ]
    }
   ],
   "source": [
    "a=5\n",
    "b=5\n",
    "\n",
    "try:\n",
    "    print(\"resource open\")\n",
    "    print(a/b)\n",
    "    r=int(input(\"enter number\"))\n",
    "    print(r)\n",
    "    \n",
    "except ZeroDivisionError as e:\n",
    "    #e is representation or object of exception\n",
    "    print(\"hey you cant divide a number by zero\", e)\n",
    "\n",
    "except ValueError as e:\n",
    "    print(\"invalid input\")\n",
    "\n",
    "except Exception as e:\n",
    "    print(\"something went wrong...\")\n",
    "    \n",
    "\n",
    "finally:\n",
    "    #finally block will be executed if we get error as well as if we dont get the error\n",
    "    print(\"resource closed\")"
   ]
  },
  {
   "cell_type": "code",
   "execution_count": null,
   "id": "c3723f77-9f7b-4ea3-98ad-9480df148aa1",
   "metadata": {},
   "outputs": [],
   "source": []
  },
  {
   "cell_type": "code",
   "execution_count": null,
   "id": "f9b6763e-f976-4fb6-a23e-421b58018d46",
   "metadata": {},
   "outputs": [],
   "source": [
    "Python Objects and Classes:\n",
    "\n",
    "Explanation: Objects are instances of classes, and classes are blueprints for objects. Every object has properties (attributes) and behaviors (methods).\n"
   ]
  },
  {
   "cell_type": "code",
   "execution_count": 2,
   "id": "903c78b2-7399-479e-9a48-42f73e72cb16",
   "metadata": {},
   "outputs": [
    {
     "name": "stdout",
     "output_type": "stream",
     "text": [
      "Toyota Corolla\n"
     ]
    }
   ],
   "source": [
    "class Car:\n",
    "    def __init__(self, brand, model):\n",
    "        self.brand = brand\n",
    "        self.model = model\n",
    "\n",
    "car1 = Car(\"Toyota\", \"Corolla\")\n",
    "print(car1.brand, car1.model)\n"
   ]
  },
  {
   "cell_type": "code",
   "execution_count": null,
   "id": "690994a3-184c-4d4f-9881-5607f160fbfd",
   "metadata": {},
   "outputs": [],
   "source": [
    "Defining a Class in Python:\n",
    "\n",
    "Explanation: A class is defined using the class keyword. Inside a class, methods are defined like regular functions.\n"
   ]
  },
  {
   "cell_type": "code",
   "execution_count": 4,
   "id": "e3205327-accc-4c79-8ead-b9fc50b48f52",
   "metadata": {},
   "outputs": [],
   "source": [
    "class Person:\n",
    "    def greet(self):\n",
    "        print(\"Hello!\")\n"
   ]
  },
  {
   "cell_type": "code",
   "execution_count": null,
   "id": "84a90fb0-4351-4bbf-a5f6-49b0409fe844",
   "metadata": {},
   "outputs": [],
   "source": [
    "Creating an Object in Python:\n",
    "\n",
    "Explanation: An object is created by calling the class like a function.\n"
   ]
  },
  {
   "cell_type": "code",
   "execution_count": 6,
   "id": "e328be2a-52a4-4736-a75d-e92110fc8792",
   "metadata": {},
   "outputs": [
    {
     "name": "stdout",
     "output_type": "stream",
     "text": [
      "Hello!\n"
     ]
    }
   ],
   "source": [
    "p = Person()\n",
    "p.greet()  # Output: Hello!\n"
   ]
  },
  {
   "cell_type": "code",
   "execution_count": null,
   "id": "855b7af6-9839-46ac-8467-135ff3e86d72",
   "metadata": {},
   "outputs": [],
   "source": [
    "Constructors in Python:\n",
    "Explanation: A constructor is a special method, __init__(), that gets called automatically when a class is instantiated.\n"
   ]
  },
  {
   "cell_type": "code",
   "execution_count": 8,
   "id": "29866b41-4c17-47c7-8fd5-667e4d5ba544",
   "metadata": {},
   "outputs": [
    {
     "name": "stdout",
     "output_type": "stream",
     "text": [
      "Alice 20\n"
     ]
    }
   ],
   "source": [
    "class Student:\n",
    "    def __init__(self, name, age):\n",
    "        self.name = name\n",
    "        self.age = age\n",
    "\n",
    "s1 = Student(\"Alice\", 20)\n",
    "print(s1.name, s1.age)\n"
   ]
  },
  {
   "cell_type": "code",
   "execution_count": null,
   "id": "e2d60a89-e134-49c3-a026-a5e11780bc5e",
   "metadata": {},
   "outputs": [],
   "source": [
    "Deleting Attributes and Objects:\n",
    "\n",
    "Explanation: The del keyword can be used to delete object attributes or the entire object.\n"
   ]
  },
  {
   "cell_type": "code",
   "execution_count": 12,
   "id": "5ba8680d-f9ec-4974-8ffc-a44ac18e7e2e",
   "metadata": {},
   "outputs": [],
   "source": [
    "class Dog:\n",
    "    def __init__(self, name):\n",
    "        self.name = name\n",
    "\n",
    "dog1 = Dog(\"Buddy\")\n",
    "del dog1.name  # Deletes the 'name' attribute\n",
    "del dog1  # Deletes the object\n"
   ]
  },
  {
   "cell_type": "code",
   "execution_count": null,
   "id": "026b30fb-71f3-4d44-bec3-698ce684bbe4",
   "metadata": {},
   "outputs": [],
   "source": []
  },
  {
   "cell_type": "code",
   "execution_count": null,
   "id": "2045c797-5cc9-468b-a335-16b5b41a6c1a",
   "metadata": {},
   "outputs": [],
   "source": [
    "1. What are Objects and Classes?\n",
    "Think of a class as a recipe: When you have a recipe for making cookies, it tells you what ingredients (flour, sugar, etc.) and steps (bake at 350°F) to use. But, you don’t have cookies until you follow the recipe and make them.\n",
    "In programming: A class is like that recipe, and an object is the cookie you made. You can make many cookies (objects) from the same recipe (class)."
   ]
  },
  {
   "cell_type": "code",
   "execution_count": null,
   "id": "91391067-3eac-4871-8fa1-cea3274d92f9",
   "metadata": {},
   "outputs": [],
   "source": [
    "ex-Imagine you have a blueprint for building cars.\n"
   ]
  },
  {
   "cell_type": "code",
   "execution_count": 14,
   "id": "440df68e-daa2-4971-b8a8-a461d37143ad",
   "metadata": {},
   "outputs": [],
   "source": [
    "class Car:\n",
    "    def __init__(self, color):\n",
    "        self.color = color\n"
   ]
  },
  {
   "cell_type": "code",
   "execution_count": null,
   "id": "2d2c7e05-9383-46e8-8199-b5ebaca4cd00",
   "metadata": {},
   "outputs": [],
   "source": [
    "You can make different cars from the same blueprint"
   ]
  },
  {
   "cell_type": "code",
   "execution_count": 17,
   "id": "9fc4e00c-7613-4863-8ee4-38c32d892e07",
   "metadata": {},
   "outputs": [],
   "source": [
    "my_car = Car(\"red\")  # You just made a red car\n"
   ]
  },
  {
   "cell_type": "code",
   "execution_count": null,
   "id": "4ccc0246-494c-45ea-86b9-7cb14a1792bb",
   "metadata": {},
   "outputs": [],
   "source": [
    "2. What is a Class?\n",
    "A class is a blueprint: It tells the computer what your object (like a toy or a car) will be made of.\n",
    "In simpler words: It’s like telling someone how to draw a picture of a car, but no cars exist yet.\n",
    "Example:"
   ]
  },
  {
   "cell_type": "code",
   "execution_count": 19,
   "id": "385cedfc-53de-47af-a60c-00d68323d1ce",
   "metadata": {},
   "outputs": [],
   "source": [
    "class Person:\n",
    "    def say_hello(self):\n",
    "        print(\"Hello!\")\n"
   ]
  },
  {
   "cell_type": "code",
   "execution_count": null,
   "id": "f7466d78-0822-42ef-8c99-9ae094dc88ac",
   "metadata": {},
   "outputs": [],
   "source": [
    "3. Creating an Object:\n",
    "Once you have the class (blueprint), you can build or create something from it.\n",
    "If you have a recipe for a cake, you can make a cake using that recipe. Similarly, using a class, you can create an object.\n",
    "Example:"
   ]
  },
  {
   "cell_type": "code",
   "execution_count": 21,
   "id": "27a30991-d7d7-4f83-8fdb-7c931cac8e08",
   "metadata": {},
   "outputs": [
    {
     "name": "stdout",
     "output_type": "stream",
     "text": [
      "Hello!\n"
     ]
    }
   ],
   "source": [
    "p = Person()  # You just created a 'Person' object\n",
    "p.say_hello()  # This person can say Hello!\n"
   ]
  },
  {
   "cell_type": "code",
   "execution_count": null,
   "id": "a24e10f3-462a-4956-b211-36545002b08e",
   "metadata": {},
   "outputs": [],
   "source": [
    "4. What is a Constructor?\n",
    "When you make a toy (object), you may want to give it some features, like color or size. The constructor is like the builder who assembles the toy and gives it these features.\n",
    "In programming: The constructor is a special method that gets called when you create an object to set it up properly.\n",
    "Example:"
   ]
  },
  {
   "cell_type": "code",
   "execution_count": 23,
   "id": "dd0a96be-fa5f-45c2-bc72-0c7214ba4e0a",
   "metadata": {},
   "outputs": [
    {
     "name": "stdout",
     "output_type": "stream",
     "text": [
      "Buddy\n"
     ]
    }
   ],
   "source": [
    "class Dog:\n",
    "    def __init__(self, name):\n",
    "        self.name = name  # Constructor gives the dog a name\n",
    "\n",
    "my_dog = Dog(\"Buddy\")  # We just created a dog named Buddy\n",
    "print(my_dog.name)  # Prints \"Buddy\"\n"
   ]
  },
  {
   "cell_type": "code",
   "execution_count": null,
   "id": "471c3e21-243d-4e60-bd66-b54a3ea9ff54",
   "metadata": {},
   "outputs": [],
   "source": [
    "5. Deleting Attributes and Objects:\n",
    "Imagine you’re playing with a toy, but you want to change its color or throw it away. In programming, we can also delete parts of an object or the whole object.\n",
    "Example:"
   ]
  },
  {
   "cell_type": "code",
   "execution_count": 25,
   "id": "b90acc15-8b84-4259-86e1-8eaa39b055b3",
   "metadata": {},
   "outputs": [],
   "source": [
    "class Cat:\n",
    "    def __init__(self, name):\n",
    "        self.name = name\n",
    "\n",
    "my_cat = Cat(\"Whiskers\")\n",
    "del my_cat.name  # Now the cat has no name!\n",
    "del my_cat  # The cat is gone!\n"
   ]
  },
  {
   "cell_type": "code",
   "execution_count": null,
   "id": "100e34a5-6993-4c03-aecf-4366c4e3f03e",
   "metadata": {},
   "outputs": [],
   "source": [
    "Summary:\n",
    "Class = Recipe/Blueprint.\n",
    "Object = Cookie/Toy you made from the class.\n",
    "Constructor = The person who builds the object and gives it its features.\n",
    "Deleting = Like throwing the toy away or removing its parts."
   ]
  },
  {
   "cell_type": "code",
   "execution_count": null,
   "id": "e7e6a998-d3a6-4fee-aef8-fce62c70f828",
   "metadata": {},
   "outputs": [],
   "source": []
  }
 ],
 "metadata": {
  "kernelspec": {
   "display_name": "Python 3 (ipykernel)",
   "language": "python",
   "name": "python3"
  },
  "language_info": {
   "codemirror_mode": {
    "name": "ipython",
    "version": 3
   },
   "file_extension": ".py",
   "mimetype": "text/x-python",
   "name": "python",
   "nbconvert_exporter": "python",
   "pygments_lexer": "ipython3",
   "version": "3.12.4"
  }
 },
 "nbformat": 4,
 "nbformat_minor": 5
}
